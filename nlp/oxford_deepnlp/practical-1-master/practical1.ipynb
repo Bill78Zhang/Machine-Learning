{
 "cells": [
  {
   "cell_type": "markdown",
   "metadata": {},
   "source": [
    "## Practical 1: word2vec\n",
    "<p>Oxford CS - Deep NLP 2017<br>\n",
    "https://www.cs.ox.ac.uk/teaching/courses/2016-2017/dl/</p>\n",
    "<p>[Yannis Assael, Brendan Shillingford, Chris Dyer]</p>"
   ]
  },
  {
   "cell_type": "markdown",
   "metadata": {},
   "source": [
    "This practical is presented as an IPython Notebook, with the code written for recent versions of **Python 3**. The code in this practical will not work with Python 2 unless you modify it. If you are using your own Python installation, ensure you have a setup identical to that described in the installation shell script (which is intended for use with the department lab machines). We will be unable to support installation on personal machines due to time constraints, so please use the lab machines and the setup script if you are unfamiliar with how to install Anaconda.\n",
    "\n",
    "To execute a notebook cell, press `shift-enter`. The return value of the last command will be displayed, if it is not `None`.\n",
    "\n",
    "Potentially useful library documentation, references, and resources:\n",
    "\n",
    "* IPython notebooks: <https://ipython.org/ipython-doc/3/notebook/notebook.html#introduction>\n",
    "* Numpy numerical array library: <https://docs.scipy.org/doc/>\n",
    "* Gensim's word2vec: <https://radimrehurek.com/gensim/models/word2vec.html>\n",
    "* Bokeh interactive plots: <http://bokeh.pydata.org/en/latest/> (we provide plotting code here, but click the thumbnails for more examples to copy-paste)\n",
    "* scikit-learn ML library (aka `sklearn`): <http://scikit-learn.org/stable/documentation.html>\n",
    "* nltk NLP toolkit: <http://www.nltk.org/>\n",
    "* tutorial for processing xml in python using `lxml`: <http://lxml.de/tutorial.html> (we did this for you below, but in case you need it in the future)"
   ]
  },
  {
   "cell_type": "code",
   "execution_count": 1,
   "metadata": {
    "collapsed": false
   },
   "outputs": [],
   "source": [
    "import numpy as np\n",
    "import os\n",
    "from random import shuffle\n",
    "import re"
   ]
  },
  {
   "cell_type": "code",
   "execution_count": 2,
   "metadata": {
    "collapsed": false
   },
   "outputs": [
    {
     "data": {
      "text/html": [
       "\n",
       "    <div class=\"bk-root\">\n",
       "        <a href=\"http://bokeh.pydata.org\" target=\"_blank\" class=\"bk-logo bk-logo-small bk-logo-notebook\"></a>\n",
       "        <span id=\"357dbe9b-7ba3-479a-a182-d0a3db268950\">Loading BokehJS ...</span>\n",
       "    </div>"
      ]
     },
     "metadata": {},
     "output_type": "display_data"
    },
    {
     "data": {
      "application/javascript": [
       "\n",
       "(function(global) {\n",
       "  function now() {\n",
       "    return new Date();\n",
       "  }\n",
       "\n",
       "  var force = true;\n",
       "\n",
       "  if (typeof (window._bokeh_onload_callbacks) === \"undefined\" || force === true) {\n",
       "    window._bokeh_onload_callbacks = [];\n",
       "    window._bokeh_is_loading = undefined;\n",
       "  }\n",
       "\n",
       "\n",
       "  \n",
       "  if (typeof (window._bokeh_timeout) === \"undefined\" || force === true) {\n",
       "    window._bokeh_timeout = Date.now() + 5000;\n",
       "    window._bokeh_failed_load = false;\n",
       "  }\n",
       "\n",
       "  var NB_LOAD_WARNING = {'data': {'text/html':\n",
       "     \"<div style='background-color: #fdd'>\\n\"+\n",
       "     \"<p>\\n\"+\n",
       "     \"BokehJS does not appear to have successfully loaded. If loading BokehJS from CDN, this \\n\"+\n",
       "     \"may be due to a slow or bad network connection. Possible fixes:\\n\"+\n",
       "     \"</p>\\n\"+\n",
       "     \"<ul>\\n\"+\n",
       "     \"<li>re-rerun `output_notebook()` to attempt to load from CDN again, or</li>\\n\"+\n",
       "     \"<li>use INLINE resources instead, as so:</li>\\n\"+\n",
       "     \"</ul>\\n\"+\n",
       "     \"<code>\\n\"+\n",
       "     \"from bokeh.resources import INLINE\\n\"+\n",
       "     \"output_notebook(resources=INLINE)\\n\"+\n",
       "     \"</code>\\n\"+\n",
       "     \"</div>\"}};\n",
       "\n",
       "  function display_loaded() {\n",
       "    if (window.Bokeh !== undefined) {\n",
       "      var el = document.getElementById(\"357dbe9b-7ba3-479a-a182-d0a3db268950\");\n",
       "      el.textContent = \"BokehJS \" + Bokeh.version + \" successfully loaded.\";\n",
       "    } else if (Date.now() < window._bokeh_timeout) {\n",
       "      setTimeout(display_loaded, 100)\n",
       "    }\n",
       "  }\n",
       "\n",
       "  function run_callbacks() {\n",
       "    window._bokeh_onload_callbacks.forEach(function(callback) { callback() });\n",
       "    delete window._bokeh_onload_callbacks\n",
       "    console.info(\"Bokeh: all callbacks have finished\");\n",
       "  }\n",
       "\n",
       "  function load_libs(js_urls, callback) {\n",
       "    window._bokeh_onload_callbacks.push(callback);\n",
       "    if (window._bokeh_is_loading > 0) {\n",
       "      console.log(\"Bokeh: BokehJS is being loaded, scheduling callback at\", now());\n",
       "      return null;\n",
       "    }\n",
       "    if (js_urls == null || js_urls.length === 0) {\n",
       "      run_callbacks();\n",
       "      return null;\n",
       "    }\n",
       "    console.log(\"Bokeh: BokehJS not loaded, scheduling load and callback at\", now());\n",
       "    window._bokeh_is_loading = js_urls.length;\n",
       "    for (var i = 0; i < js_urls.length; i++) {\n",
       "      var url = js_urls[i];\n",
       "      var s = document.createElement('script');\n",
       "      s.src = url;\n",
       "      s.async = false;\n",
       "      s.onreadystatechange = s.onload = function() {\n",
       "        window._bokeh_is_loading--;\n",
       "        if (window._bokeh_is_loading === 0) {\n",
       "          console.log(\"Bokeh: all BokehJS libraries loaded\");\n",
       "          run_callbacks()\n",
       "        }\n",
       "      };\n",
       "      s.onerror = function() {\n",
       "        console.warn(\"failed to load library \" + url);\n",
       "      };\n",
       "      console.log(\"Bokeh: injecting script tag for BokehJS library: \", url);\n",
       "      document.getElementsByTagName(\"head\")[0].appendChild(s);\n",
       "    }\n",
       "  };var element = document.getElementById(\"357dbe9b-7ba3-479a-a182-d0a3db268950\");\n",
       "  if (element == null) {\n",
       "    console.log(\"Bokeh: ERROR: autoload.js configured with elementid '357dbe9b-7ba3-479a-a182-d0a3db268950' but no matching script tag was found. \")\n",
       "    return false;\n",
       "  }\n",
       "\n",
       "  var js_urls = [\"https://cdn.pydata.org/bokeh/release/bokeh-0.12.5.min.js\", \"https://cdn.pydata.org/bokeh/release/bokeh-widgets-0.12.5.min.js\"];\n",
       "\n",
       "  var inline_js = [\n",
       "    function(Bokeh) {\n",
       "      Bokeh.set_log_level(\"info\");\n",
       "    },\n",
       "    \n",
       "    function(Bokeh) {\n",
       "      \n",
       "    },\n",
       "    \n",
       "    function(Bokeh) {\n",
       "      \n",
       "      document.getElementById(\"357dbe9b-7ba3-479a-a182-d0a3db268950\").textContent = \"BokehJS is loading...\";\n",
       "    },\n",
       "    function(Bokeh) {\n",
       "      console.log(\"Bokeh: injecting CSS: https://cdn.pydata.org/bokeh/release/bokeh-0.12.5.min.css\");\n",
       "      Bokeh.embed.inject_css(\"https://cdn.pydata.org/bokeh/release/bokeh-0.12.5.min.css\");\n",
       "      console.log(\"Bokeh: injecting CSS: https://cdn.pydata.org/bokeh/release/bokeh-widgets-0.12.5.min.css\");\n",
       "      Bokeh.embed.inject_css(\"https://cdn.pydata.org/bokeh/release/bokeh-widgets-0.12.5.min.css\");\n",
       "    }\n",
       "  ];\n",
       "\n",
       "  function run_inline_js() {\n",
       "    \n",
       "    if ((window.Bokeh !== undefined) || (force === true)) {\n",
       "      for (var i = 0; i < inline_js.length; i++) {\n",
       "        inline_js[i](window.Bokeh);\n",
       "      }if (force === true) {\n",
       "        display_loaded();\n",
       "      }} else if (Date.now() < window._bokeh_timeout) {\n",
       "      setTimeout(run_inline_js, 100);\n",
       "    } else if (!window._bokeh_failed_load) {\n",
       "      console.log(\"Bokeh: BokehJS failed to load within specified timeout.\");\n",
       "      window._bokeh_failed_load = true;\n",
       "    } else if (force !== true) {\n",
       "      var cell = $(document.getElementById(\"357dbe9b-7ba3-479a-a182-d0a3db268950\")).parents('.cell').data().cell;\n",
       "      cell.output_area.append_execute_result(NB_LOAD_WARNING)\n",
       "    }\n",
       "\n",
       "  }\n",
       "\n",
       "  if (window._bokeh_is_loading === 0) {\n",
       "    console.log(\"Bokeh: BokehJS loaded, going straight to plotting\");\n",
       "    run_inline_js();\n",
       "  } else {\n",
       "    load_libs(js_urls, function() {\n",
       "      console.log(\"Bokeh: BokehJS plotting callback run at\", now());\n",
       "      run_inline_js();\n",
       "    });\n",
       "  }\n",
       "}(this));"
      ]
     },
     "metadata": {},
     "output_type": "display_data"
    }
   ],
   "source": [
    "from bokeh.models import ColumnDataSource, LabelSet\n",
    "from bokeh.plotting import figure, show, output_file\n",
    "from bokeh.io import output_notebook\n",
    "output_notebook()"
   ]
  },
  {
   "cell_type": "code",
   "execution_count": 51,
   "metadata": {
    "collapsed": true
   },
   "outputs": [],
   "source": [
    "%matplotlib inline\n",
    "import matplotlib.pyplot as plt\n",
    "from gensim.models import Word2Vec\n",
    "from sklearn.manifold import TSNE\n",
    "import sklearn.cluster\n",
    "import colorsys"
   ]
  },
  {
   "cell_type": "code",
   "execution_count": 3,
   "metadata": {
    "collapsed": false
   },
   "outputs": [],
   "source": [
    "import urllib\n",
    "import zipfile\n",
    "import lxml.etree"
   ]
  },
  {
   "cell_type": "markdown",
   "metadata": {},
   "source": [
    "### Part 0: Download the TED dataset"
   ]
  },
  {
   "cell_type": "code",
   "execution_count": 6,
   "metadata": {
    "collapsed": false
   },
   "outputs": [],
   "source": [
    "# Download the dataset if it's not already there: this may take a minute as it is 75MB\n",
    "if not os.path.isfile('ted_en-20160408.zip'):\n",
    "    urllib.urlretrieve(\"https://wit3.fbk.eu/get.php?path=XML_releases/xml/ted_en-20160408.zip&filename=ted_en-20160408.zip\", filename=\"ted_en-20160408.zip\")"
   ]
  },
  {
   "cell_type": "code",
   "execution_count": 32,
   "metadata": {
    "collapsed": true
   },
   "outputs": [],
   "source": [
    "# For now, we're only interested in the subtitle text, so let's extract that from the XML:\n",
    "with zipfile.ZipFile('ted_en-20160408.zip', 'r') as z:\n",
    "    doc = lxml.etree.parse(z.open('ted_en-20160408.xml', 'r'))"
   ]
  },
  {
   "cell_type": "code",
   "execution_count": 33,
   "metadata": {
    "collapsed": false
   },
   "outputs": [],
   "source": [
    "input_text = '\\n'.join(doc.xpath('//content/text()'))\n",
    "del doc"
   ]
  },
  {
   "cell_type": "markdown",
   "metadata": {},
   "source": [
    "### Part 1: Preprocessing\n",
    "\n",
    "In this part, we attempt to clean up the raw subtitles a bit, so that we get only sentences. The following substring shows examples of what we're trying to get rid of. Since it's hard to define precisely what we want to get rid of, we'll just use some simple heuristics."
   ]
  },
  {
   "cell_type": "code",
   "execution_count": 8,
   "metadata": {
    "collapsed": false,
    "scrolled": false
   },
   "outputs": [
    {
     "data": {
      "text/plain": [
       "u' baby does.\\n(Video) Hyowon Gweon: See this? (Ball squeaks) Did you see that? (Ball squeaks) Cool. See this one? (Ball squeaks) Wow.\\nLaura Schulz: Told you. (Laughs)\\n(Vide'"
      ]
     },
     "execution_count": 8,
     "metadata": {},
     "output_type": "execute_result"
    }
   ],
   "source": [
    "i = input_text.find(\"Hyowon Gweon: See this?\")\n",
    "input_text[i-20:i+150]"
   ]
  },
  {
   "cell_type": "markdown",
   "metadata": {},
   "source": [
    "Let's start by removing all parenthesized strings using a regex:"
   ]
  },
  {
   "cell_type": "code",
   "execution_count": 34,
   "metadata": {
    "collapsed": true
   },
   "outputs": [],
   "source": [
    "input_text_noparens = re.sub(r'\\([^)]*\\)', '', input_text)"
   ]
  },
  {
   "cell_type": "markdown",
   "metadata": {},
   "source": [
    "We can verify the same location in the text is now clean as follows. We won't worry about the irregular spaces since we'll later split the text into sentences and tokenize it anyway."
   ]
  },
  {
   "cell_type": "code",
   "execution_count": 35,
   "metadata": {
    "collapsed": false
   },
   "outputs": [
    {
     "data": {
      "text/plain": [
       "u\"hat the baby does.\\n Hyowon Gweon: See this?  Did you see that?  Cool. See this one?  Wow.\\nLaura Schulz: Told you. \\n HG: See this one?  Hey Clara, this one's for you. You \""
      ]
     },
     "execution_count": 35,
     "metadata": {},
     "output_type": "execute_result"
    }
   ],
   "source": [
    "i = input_text_noparens.find(\"Hyowon Gweon: See this?\")\n",
    "input_text_noparens[i-20:i+150]"
   ]
  },
  {
   "cell_type": "markdown",
   "metadata": {},
   "source": [
    "Now, let's attempt to remove speakers' names that occur at the beginning of a line, by deleting pieces of the form \"`<up to 20 characters>:`\", as shown in this example. Of course, this is an imperfect heuristic. "
   ]
  },
  {
   "cell_type": "code",
   "execution_count": 36,
   "metadata": {
    "collapsed": false
   },
   "outputs": [
    {
     "data": {
      "text/plain": [
       "[u\"Here are two reasons companies fail: they only do more of the same, or they only do what's new\",\n",
       " u'To me the real, real solution to quality growth is figuring out the balance between two activities: exploration and exploitation',\n",
       " u' Both are necessary, but it can be too much of a good thing',\n",
       " u'Consider Facit',\n",
       " u\" I'm actually old enough to remember them\"]"
      ]
     },
     "execution_count": 36,
     "metadata": {},
     "output_type": "execute_result"
    }
   ],
   "source": [
    "sentences_strings_ted = []\n",
    "for line in input_text_noparens.split('\\n'):\n",
    "    m = re.match(r'^(?:(?P<precolon>[^:]{,20}):)?(?P<postcolon>.*)$', line)\n",
    "    sentences_strings_ted.extend(sent for sent in m.groupdict()['postcolon'].split('.') if sent)\n",
    "\n",
    "# Uncomment if you need to save some RAM: these strings are about 50MB.\n",
    "del input_text, input_text_noparens\n",
    "\n",
    "# Let's view the first few:\n",
    "sentences_strings_ted[:5]"
   ]
  },
  {
   "cell_type": "markdown",
   "metadata": {},
   "source": [
    "Now that we have sentences, we're ready to tokenize each of them into words. This tokenization is imperfect, of course. For instance, how many tokens is \"can't\", and where/how do we split it? We'll take the simplest naive approach of splitting on spaces. Before splitting, we remove non-alphanumeric characters, such as punctuation. You may want to consider the following question: why do we replace these characters with spaces rather than deleting them? Think of a case where this yields a different answer."
   ]
  },
  {
   "cell_type": "code",
   "execution_count": 37,
   "metadata": {
    "collapsed": false
   },
   "outputs": [],
   "source": [
    "sentences_ted = []\n",
    "for sent_str in sentences_strings_ted:\n",
    "    tokens = re.sub(r\"[^a-z0-9]+\", \" \", sent_str.lower()).split()\n",
    "    sentences_ted.append(tokens)"
   ]
  },
  {
   "cell_type": "markdown",
   "metadata": {},
   "source": [
    "Two sample processed sentences:"
   ]
  },
  {
   "cell_type": "code",
   "execution_count": 30,
   "metadata": {
    "collapsed": false
   },
   "outputs": [
    {
     "data": {
      "text/plain": [
       "266694"
      ]
     },
     "execution_count": 30,
     "metadata": {},
     "output_type": "execute_result"
    }
   ],
   "source": [
    "len(sentences_ted)"
   ]
  },
  {
   "cell_type": "code",
   "execution_count": 31,
   "metadata": {
    "collapsed": false
   },
   "outputs": [
    {
     "name": "stdout",
     "output_type": "stream",
     "text": [
      "[u'here', u'are', u'two', u'reasons', u'companies', u'fail', u'they', u'only', u'do', u'more', u'of', u'the', u'same', u'or', u'they', u'only', u'do', u'what', u's', u'new']\n",
      "[u'to', u'me', u'the', u'real', u'real', u'solution', u'to', u'quality', u'growth', u'is', u'figuring', u'out', u'the', u'balance', u'between', u'two', u'activities', u'exploration', u'and', u'exploitation']\n"
     ]
    }
   ],
   "source": [
    "print(sentences_ted[0])\n",
    "print(sentences_ted[1])"
   ]
  },
  {
   "cell_type": "markdown",
   "metadata": {},
   "source": [
    "### Part 2: Word Frequencies"
   ]
  },
  {
   "cell_type": "markdown",
   "metadata": {},
   "source": [
    "If you store the counts of the top 1000 words in a list called `counts_ted_top1000`, the code below will plot the histogram requested in the writeup."
   ]
  },
  {
   "cell_type": "code",
   "execution_count": 38,
   "metadata": {
    "collapsed": true
   },
   "outputs": [],
   "source": [
    "counts_dict = {}\n",
    "for sentence in sentences_ted:\n",
    "    for word in sentence:\n",
    "        if word in counts_dict:\n",
    "            counts_dict[word] += 1\n",
    "        else:\n",
    "            counts_dict[word] = 1\n",
    "sorted_words = sorted(counts_dict.items(), key=lambda (k,v): v, reverse=True)\n",
    "counts_ted_top1000 = [counts[1] for counts in sorted_words[:1000]]"
   ]
  },
  {
   "cell_type": "code",
   "execution_count": 56,
   "metadata": {
    "collapsed": false
   },
   "outputs": [
    {
     "data": {
      "text/plain": [
       "[(u'the', 207748),\n",
       " (u'and', 149305),\n",
       " (u'to', 125169),\n",
       " (u'of', 114818),\n",
       " (u'a', 105399),\n",
       " (u'that', 95146),\n",
       " (u'i', 83180),\n",
       " (u'in', 78070),\n",
       " (u'it', 74738),\n",
       " (u'you', 70923),\n",
       " (u'we', 67629),\n",
       " (u'is', 63251),\n",
       " (u's', 57156),\n",
       " (u'this', 49241),\n",
       " (u'so', 37014),\n",
       " (u'they', 33102),\n",
       " (u'was', 30806),\n",
       " (u'for', 29713),\n",
       " (u'are', 27995),\n",
       " (u'have', 27344),\n",
       " (u'but', 26732),\n",
       " (u'what', 26519),\n",
       " (u'on', 25962),\n",
       " (u'with', 24706),\n",
       " (u'can', 23377),\n",
       " (u't', 22757),\n",
       " (u'about', 21246),\n",
       " (u'there', 21041),\n",
       " (u'be', 20201),\n",
       " (u'as', 19488),\n",
       " (u'at', 19216),\n",
       " (u'all', 19021),\n",
       " (u'not', 18626),\n",
       " (u'do', 17928),\n",
       " (u'my', 17908),\n",
       " (u'one', 17551),\n",
       " (u're', 17012),\n",
       " (u'people', 16723),\n",
       " (u'like', 16273),\n",
       " (u'if', 15868)]"
      ]
     },
     "execution_count": 56,
     "metadata": {},
     "output_type": "execute_result"
    }
   ],
   "source": [
    "sorted_words[:40]"
   ]
  },
  {
   "cell_type": "markdown",
   "metadata": {},
   "source": [
    "Plot distribution of top-1000 words"
   ]
  },
  {
   "cell_type": "code",
   "execution_count": 53,
   "metadata": {
    "collapsed": false
   },
   "outputs": [
    {
     "data": {
      "text/html": [
       "\n",
       "\n",
       "    <div class=\"bk-root\">\n",
       "        <div class=\"bk-plotdiv\" id=\"6ca9cde9-796c-4ee7-bc47-a143c220de69\"></div>\n",
       "    </div>\n",
       "<script type=\"text/javascript\">\n",
       "  \n",
       "  (function(global) {\n",
       "    function now() {\n",
       "      return new Date();\n",
       "    }\n",
       "  \n",
       "    var force = false;\n",
       "  \n",
       "    if (typeof (window._bokeh_onload_callbacks) === \"undefined\" || force === true) {\n",
       "      window._bokeh_onload_callbacks = [];\n",
       "      window._bokeh_is_loading = undefined;\n",
       "    }\n",
       "  \n",
       "  \n",
       "    \n",
       "    if (typeof (window._bokeh_timeout) === \"undefined\" || force === true) {\n",
       "      window._bokeh_timeout = Date.now() + 0;\n",
       "      window._bokeh_failed_load = false;\n",
       "    }\n",
       "  \n",
       "    var NB_LOAD_WARNING = {'data': {'text/html':\n",
       "       \"<div style='background-color: #fdd'>\\n\"+\n",
       "       \"<p>\\n\"+\n",
       "       \"BokehJS does not appear to have successfully loaded. If loading BokehJS from CDN, this \\n\"+\n",
       "       \"may be due to a slow or bad network connection. Possible fixes:\\n\"+\n",
       "       \"</p>\\n\"+\n",
       "       \"<ul>\\n\"+\n",
       "       \"<li>re-rerun `output_notebook()` to attempt to load from CDN again, or</li>\\n\"+\n",
       "       \"<li>use INLINE resources instead, as so:</li>\\n\"+\n",
       "       \"</ul>\\n\"+\n",
       "       \"<code>\\n\"+\n",
       "       \"from bokeh.resources import INLINE\\n\"+\n",
       "       \"output_notebook(resources=INLINE)\\n\"+\n",
       "       \"</code>\\n\"+\n",
       "       \"</div>\"}};\n",
       "  \n",
       "    function display_loaded() {\n",
       "      if (window.Bokeh !== undefined) {\n",
       "        var el = document.getElementById(\"6ca9cde9-796c-4ee7-bc47-a143c220de69\");\n",
       "        el.textContent = \"BokehJS \" + Bokeh.version + \" successfully loaded.\";\n",
       "      } else if (Date.now() < window._bokeh_timeout) {\n",
       "        setTimeout(display_loaded, 100)\n",
       "      }\n",
       "    }\n",
       "  \n",
       "    function run_callbacks() {\n",
       "      window._bokeh_onload_callbacks.forEach(function(callback) { callback() });\n",
       "      delete window._bokeh_onload_callbacks\n",
       "      console.info(\"Bokeh: all callbacks have finished\");\n",
       "    }\n",
       "  \n",
       "    function load_libs(js_urls, callback) {\n",
       "      window._bokeh_onload_callbacks.push(callback);\n",
       "      if (window._bokeh_is_loading > 0) {\n",
       "        console.log(\"Bokeh: BokehJS is being loaded, scheduling callback at\", now());\n",
       "        return null;\n",
       "      }\n",
       "      if (js_urls == null || js_urls.length === 0) {\n",
       "        run_callbacks();\n",
       "        return null;\n",
       "      }\n",
       "      console.log(\"Bokeh: BokehJS not loaded, scheduling load and callback at\", now());\n",
       "      window._bokeh_is_loading = js_urls.length;\n",
       "      for (var i = 0; i < js_urls.length; i++) {\n",
       "        var url = js_urls[i];\n",
       "        var s = document.createElement('script');\n",
       "        s.src = url;\n",
       "        s.async = false;\n",
       "        s.onreadystatechange = s.onload = function() {\n",
       "          window._bokeh_is_loading--;\n",
       "          if (window._bokeh_is_loading === 0) {\n",
       "            console.log(\"Bokeh: all BokehJS libraries loaded\");\n",
       "            run_callbacks()\n",
       "          }\n",
       "        };\n",
       "        s.onerror = function() {\n",
       "          console.warn(\"failed to load library \" + url);\n",
       "        };\n",
       "        console.log(\"Bokeh: injecting script tag for BokehJS library: \", url);\n",
       "        document.getElementsByTagName(\"head\")[0].appendChild(s);\n",
       "      }\n",
       "    };var element = document.getElementById(\"6ca9cde9-796c-4ee7-bc47-a143c220de69\");\n",
       "    if (element == null) {\n",
       "      console.log(\"Bokeh: ERROR: autoload.js configured with elementid '6ca9cde9-796c-4ee7-bc47-a143c220de69' but no matching script tag was found. \")\n",
       "      return false;\n",
       "    }\n",
       "  \n",
       "    var js_urls = [];\n",
       "  \n",
       "    var inline_js = [\n",
       "      function(Bokeh) {\n",
       "        (function() {\n",
       "          var fn = function() {\n",
       "            var docs_json = {\"439c50fd-b55f-4a44-a34f-c5a6024dfa14\":{\"roots\":{\"references\":[{\"attributes\":{\"active_drag\":\"auto\",\"active_scroll\":\"auto\",\"active_tap\":\"auto\",\"tools\":[{\"id\":\"7be2694b-9de2-4636-8d61-c46ed069bad4\",\"type\":\"PanTool\"},{\"id\":\"df75abe1-ea8b-4fa0-ade9-b75d59602142\",\"type\":\"WheelZoomTool\"},{\"id\":\"55ed6df4-fafa-4ba6-b295-03fdee53f9e5\",\"type\":\"ResetTool\"},{\"id\":\"92e3e6c9-7f3a-44db-ba8f-78bb3f1c395d\",\"type\":\"SaveTool\"}]},\"id\":\"ffcda27a-2b8e-4226-9264-162640ca4eff\",\"type\":\"Toolbar\"},{\"attributes\":{},\"id\":\"81a596eb-aaa4-4598-a649-5dc129d41420\",\"type\":\"BasicTickFormatter\"},{\"attributes\":{\"callback\":null,\"column_names\":[\"top\",\"right\",\"left\"],\"data\":{\"left\":{\"__ndarray__\":\"AAAAAABAeUB7FK5H4VqjQHsUrkfhxrFAuB6F61HguUB7FK5H4fzAQJqZmZmZCcVAuB6F61EWyUDXo3A9CiPNQHsUrkfhl9BACtejcD2e0kCamZmZmaTUQClcj8L1qtZAuB6F61Gx2EBI4XoUrrfaQNejcD0KvtxAZ2ZmZmbE3kB7FK5HYWXgQMP1KFyPaOFACtejcL1r4kBSuB6F627jQJqZmZkZcuRA4XoUrkd15UApXI/CdXjmQHE9Cteje+dAuB6F69F+6EAAAAAAAILpQEjhehQuhepAkML1KFyI60DXo3A9iovsQB+F61G4ju1AZ2ZmZuaR7kCuR+F6FJXvQHsUrkchTPBAH4XrUbjN8EDD9ShcT0/xQGdmZmbm0PFACtejcH1S8kCuR+F6FNTyQFK4HoWrVfNA9ihcj0LX80CamZmZ2Vj0QD4K16Nw2vRA4XoUrgdc9UCF61G4nt31QClcj8I1X/ZAzczMzMzg9kBxPQrXY2L3QBWuR+H64/dAuB6F65Fl+EBcj8L1KOf4QAAAAADAaPlApHA9Clfq+UBI4XoU7mv6QOxRuB6F7fpAkML1KBxv+0AzMzMzs/D7QNejcD1KcvxAexSuR+Hz/EAfhetReHX9QMP1KFwP9/1AZ2ZmZqZ4/kAK16NwPfr+QK5H4XrUe/9AUrgehWv9/0B7FK5HgT8AQc3MzMxMgABBH4XrURjBAEFxPQrX4wEBQcP1KFyvQgFBFa5H4XqDAUFnZmZmRsQBQbgehesRBQJBCtejcN1FAkFcj8L1qIYCQa5H4Xp0xwJBAAAAAEAIA0FSuB6FC0kDQaRwPQrXiQNB9ihcj6LKA0FI4XoUbgsEQZqZmZk5TARB7FG4HgWNBEE+Ctej0M0EQZDC9SicDgVB4XoUrmdPBUEzMzMzM5AFQYXrUbj+0AVB16NwPcoRBkEpXI/ClVIGQXsUrkdhkwZBzczMzCzUBkEfhetR+BQHQXE9CtfDVQdBw/UoXI+WB0EVrkfhWtcHQWdmZmYmGAhBuB6F6/FYCEEK16NwvZkIQVyPwvWI2ghBrkfhelQbCUE=\",\"dtype\":\"float64\",\"shape\":[100]},\"right\":{\"__ndarray__\":\"exSuR+Fao0B7FK5H4caxQLgehetR4LlAexSuR+H8wECamZmZmQnFQLgehetRFslA16NwPQojzUB7FK5H4ZfQQArXo3A9ntJAmpmZmZmk1EApXI/C9arWQLgehetRsdhASOF6FK632kDXo3A9Cr7cQGdmZmZmxN5AexSuR2Fl4EDD9Shcj2jhQArXo3C9a+JAUrgehetu40CamZmZGXLkQOF6FK5HdeVAKVyPwnV45kBxPQrXo3vnQLgehevRfuhAAAAAAACC6UBI4XoULoXqQJDC9ShciOtA16NwPYqL7EAfhetRuI7tQGdmZmbmke5ArkfhehSV70B7FK5HIUzwQB+F61G4zfBAw/UoXE9P8UBnZmZm5tDxQArXo3B9UvJArkfhehTU8kBSuB6Fq1XzQPYoXI9C1/NAmpmZmdlY9EA+CtejcNr0QOF6FK4HXPVAhetRuJ7d9UApXI/CNV/2QM3MzMzM4PZAcT0K12Ni90AVrkfh+uP3QLgeheuRZfhAXI/C9Sjn+EAAAAAAwGj5QKRwPQpX6vlASOF6FO5r+kDsUbgehe36QJDC9Sgcb/tAMzMzM7Pw+0DXo3A9SnL8QHsUrkfh8/xAH4XrUXh1/UDD9ShcD/f9QGdmZmameP5ACtejcD36/kCuR+F61Hv/QFK4HoVr/f9AexSuR4E/AEHNzMzMTIAAQR+F61EYwQBBcT0K1+MBAUHD9Shcr0IBQRWuR+F6gwFBZ2ZmZkbEAUG4HoXrEQUCQQrXo3DdRQJBXI/C9aiGAkGuR+F6dMcCQQAAAABACANBUrgehQtJA0GkcD0K14kDQfYoXI+iygNBSOF6FG4LBEGamZmZOUwEQexRuB4FjQRBPgrXo9DNBEGQwvUonA4FQeF6FK5nTwVBMzMzMzOQBUGF61G4/tAFQdejcD3KEQZBKVyPwpVSBkF7FK5HYZMGQc3MzMws1AZBH4XrUfgUB0FxPQrXw1UHQcP1KFyPlgdBFa5H4VrXB0FnZmZmJhgIQbgehevxWAhBCtejcL2ZCEFcj8L1iNoIQa5H4XpUGwlBAAAAACBcCUE=\",\"dtype\":\"float64\",\"shape\":[100]},\"top\":{\"__ndarray__\":\"50H1zNSBOT/ypb1tgHIBPwsriUb5Uew+zuTFiLI04j78kGUPxTHhPh40R25oQNY+zuTFiLI00j4pPQWW1y7APsTbB2FDRsg+JT0FltcuwD4tPQWW1y6wPi09BZbXLrA+JT0FltcuwD4tPQWW1y6gPiU9BZbXLrA+LT0FltcuoD4AAAAAAAAAADU9BZbXLqA+AAAAAAAAAAAAAAAAAAAAAAAAAAAAAAAAAAAAAAAAAAAAAAAAAAAAADU9BZbXLqA+AAAAAAAAAAAAAAAAAAAAAAAAAAAAAAAANT0FltcuoD4AAAAAAAAAAAAAAAAAAAAANT0FltcuoD4AAAAAAAAAACU9BZbXLqA+AAAAAAAAAAAlPQWW1y6gPkU9BZbXLqA+AAAAAAAAAAAlPQWW1y6gPgAAAAAAAAAAJT0FltcuoD4AAAAAAAAAAAAAAAAAAAAAAAAAAAAAAAAAAAAAAAAAAAAAAAAAAAAAJT0FltcuoD4AAAAAAAAAAAAAAAAAAAAAAAAAAAAAAAAAAAAAAAAAACU9BZbXLqA+AAAAAAAAAAAAAAAAAAAAAAAAAAAAAAAAAAAAAAAAAAAlPQWW1y6gPgAAAAAAAAAAAAAAAAAAAAAAAAAAAAAAAAAAAAAAAAAART0FltcuoD4AAAAAAAAAAAAAAAAAAAAAAAAAAAAAAAAAAAAAAAAAAAAAAAAAAAAAAAAAAAAAAAAAAAAAAAAAAAAAAAAAAAAAAAAAAAAAAAAAAAAAAAAAACU9BZbXLqA+AAAAAAAAAAAAAAAAAAAAAAAAAAAAAAAAAAAAAAAAAAAAAAAAAAAAAAAAAAAAAAAAAAAAAAAAAAAAAAAAAAAAAAAAAAAAAAAAAAAAAAAAAAAAAAAAAAAAAAAAAAAAAAAAAAAAAAAAAAAAAAAAAAAAAAAAAAAAAAAAAAAAAAAAAAAAAAAAAAAAAAAAAAAAAAAAAAAAAAAAAAAAAAAAAAAAAAAAAAAAAAAAAAAAAAAAAAAAAAAAAAAAAAAAAAAAAAAAAAAAAAAAAAAAAAAAAAAAAAAAAAAAAAAAJT0FltcuoD4=\",\"dtype\":\"float64\",\"shape\":[100]}}},\"id\":\"bc1d63ad-af57-4941-ad37-18d73d5aa4bb\",\"type\":\"ColumnDataSource\"},{\"attributes\":{\"plot\":{\"id\":\"6dac9c19-96c6-4a4e-85e8-bc4ee8f2ede4\",\"subtype\":\"Figure\",\"type\":\"Plot\"},\"ticker\":{\"id\":\"8a836986-384a-4b2a-82df-1819fbab08ea\",\"type\":\"BasicTicker\"}},\"id\":\"513e372d-a0bc-46f5-a529-4611c53df1ae\",\"type\":\"Grid\"},{\"attributes\":{\"plot\":{\"id\":\"6dac9c19-96c6-4a4e-85e8-bc4ee8f2ede4\",\"subtype\":\"Figure\",\"type\":\"Plot\"}},\"id\":\"92e3e6c9-7f3a-44db-ba8f-78bb3f1c395d\",\"type\":\"SaveTool\"},{\"attributes\":{},\"id\":\"48fc3128-4b20-4716-83b5-f6e3d0c42754\",\"type\":\"BasicTickFormatter\"},{\"attributes\":{},\"id\":\"8a836986-384a-4b2a-82df-1819fbab08ea\",\"type\":\"BasicTicker\"},{\"attributes\":{\"bottom\":{\"value\":0},\"fill_alpha\":{\"value\":0.1},\"fill_color\":{\"value\":\"#1f77b4\"},\"left\":{\"field\":\"left\"},\"line_alpha\":{\"value\":0.1},\"line_color\":{\"value\":\"#1f77b4\"},\"right\":{\"field\":\"right\"},\"top\":{\"field\":\"top\"}},\"id\":\"d72fc6f8-120c-4612-9836-cc430f361f25\",\"type\":\"Quad\"},{\"attributes\":{\"formatter\":{\"id\":\"81a596eb-aaa4-4598-a649-5dc129d41420\",\"type\":\"BasicTickFormatter\"},\"plot\":{\"id\":\"6dac9c19-96c6-4a4e-85e8-bc4ee8f2ede4\",\"subtype\":\"Figure\",\"type\":\"Plot\"},\"ticker\":{\"id\":\"8a836986-384a-4b2a-82df-1819fbab08ea\",\"type\":\"BasicTicker\"}},\"id\":\"f2cc5963-16f8-4822-8e23-f24afcd05e70\",\"type\":\"LinearAxis\"},{\"attributes\":{\"below\":[{\"id\":\"f2cc5963-16f8-4822-8e23-f24afcd05e70\",\"type\":\"LinearAxis\"}],\"left\":[{\"id\":\"b45a250f-f3f9-4edb-bcdb-69f0b66280c0\",\"type\":\"LinearAxis\"}],\"renderers\":[{\"id\":\"f2cc5963-16f8-4822-8e23-f24afcd05e70\",\"type\":\"LinearAxis\"},{\"id\":\"513e372d-a0bc-46f5-a529-4611c53df1ae\",\"type\":\"Grid\"},{\"id\":\"b45a250f-f3f9-4edb-bcdb-69f0b66280c0\",\"type\":\"LinearAxis\"},{\"id\":\"afa58e72-99e7-4649-9ce0-603ed8029422\",\"type\":\"Grid\"},{\"id\":\"165dc24a-30b9-43e2-80b9-2887cf1843af\",\"type\":\"GlyphRenderer\"}],\"title\":{\"id\":\"3bd9ad59-6678-4fc5-8319-239de6ed7c2f\",\"type\":\"Title\"},\"tool_events\":{\"id\":\"3b8fb3c3-78e2-4201-b1cc-eddb6a250751\",\"type\":\"ToolEvents\"},\"toolbar\":{\"id\":\"ffcda27a-2b8e-4226-9264-162640ca4eff\",\"type\":\"Toolbar\"},\"toolbar_location\":\"above\",\"x_range\":{\"id\":\"109abb74-1e1a-4910-ae5d-6783fec8b5ed\",\"type\":\"DataRange1d\"},\"y_range\":{\"id\":\"85211f34-cdec-4dd5-b071-2c97181fe310\",\"type\":\"DataRange1d\"}},\"id\":\"6dac9c19-96c6-4a4e-85e8-bc4ee8f2ede4\",\"subtype\":\"Figure\",\"type\":\"Plot\"},{\"attributes\":{\"data_source\":{\"id\":\"bc1d63ad-af57-4941-ad37-18d73d5aa4bb\",\"type\":\"ColumnDataSource\"},\"glyph\":{\"id\":\"2e0f6f4f-536b-4ef5-8cb8-17b6bb299da6\",\"type\":\"Quad\"},\"hover_glyph\":null,\"muted_glyph\":null,\"nonselection_glyph\":{\"id\":\"d72fc6f8-120c-4612-9836-cc430f361f25\",\"type\":\"Quad\"},\"selection_glyph\":null},\"id\":\"165dc24a-30b9-43e2-80b9-2887cf1843af\",\"type\":\"GlyphRenderer\"},{\"attributes\":{\"bottom\":{\"value\":0},\"fill_color\":{\"value\":\"#1f77b4\"},\"left\":{\"field\":\"left\"},\"line_color\":{\"value\":\"#555555\"},\"right\":{\"field\":\"right\"},\"top\":{\"field\":\"top\"}},\"id\":\"2e0f6f4f-536b-4ef5-8cb8-17b6bb299da6\",\"type\":\"Quad\"},{\"attributes\":{},\"id\":\"3b8fb3c3-78e2-4201-b1cc-eddb6a250751\",\"type\":\"ToolEvents\"},{\"attributes\":{\"plot\":{\"id\":\"6dac9c19-96c6-4a4e-85e8-bc4ee8f2ede4\",\"subtype\":\"Figure\",\"type\":\"Plot\"}},\"id\":\"df75abe1-ea8b-4fa0-ade9-b75d59602142\",\"type\":\"WheelZoomTool\"},{\"attributes\":{\"dimension\":1,\"plot\":{\"id\":\"6dac9c19-96c6-4a4e-85e8-bc4ee8f2ede4\",\"subtype\":\"Figure\",\"type\":\"Plot\"},\"ticker\":{\"id\":\"f8539e85-d192-4f56-b007-1f4a8fa9c14e\",\"type\":\"BasicTicker\"}},\"id\":\"afa58e72-99e7-4649-9ce0-603ed8029422\",\"type\":\"Grid\"},{\"attributes\":{\"plot\":{\"id\":\"6dac9c19-96c6-4a4e-85e8-bc4ee8f2ede4\",\"subtype\":\"Figure\",\"type\":\"Plot\"}},\"id\":\"55ed6df4-fafa-4ba6-b295-03fdee53f9e5\",\"type\":\"ResetTool\"},{\"attributes\":{\"plot\":null,\"text\":\"Top-1000 words distribution\"},\"id\":\"3bd9ad59-6678-4fc5-8319-239de6ed7c2f\",\"type\":\"Title\"},{\"attributes\":{\"callback\":null},\"id\":\"85211f34-cdec-4dd5-b071-2c97181fe310\",\"type\":\"DataRange1d\"},{\"attributes\":{},\"id\":\"f8539e85-d192-4f56-b007-1f4a8fa9c14e\",\"type\":\"BasicTicker\"},{\"attributes\":{\"plot\":{\"id\":\"6dac9c19-96c6-4a4e-85e8-bc4ee8f2ede4\",\"subtype\":\"Figure\",\"type\":\"Plot\"}},\"id\":\"7be2694b-9de2-4636-8d61-c46ed069bad4\",\"type\":\"PanTool\"},{\"attributes\":{\"formatter\":{\"id\":\"48fc3128-4b20-4716-83b5-f6e3d0c42754\",\"type\":\"BasicTickFormatter\"},\"plot\":{\"id\":\"6dac9c19-96c6-4a4e-85e8-bc4ee8f2ede4\",\"subtype\":\"Figure\",\"type\":\"Plot\"},\"ticker\":{\"id\":\"f8539e85-d192-4f56-b007-1f4a8fa9c14e\",\"type\":\"BasicTicker\"}},\"id\":\"b45a250f-f3f9-4edb-bcdb-69f0b66280c0\",\"type\":\"LinearAxis\"},{\"attributes\":{\"callback\":null},\"id\":\"109abb74-1e1a-4910-ae5d-6783fec8b5ed\",\"type\":\"DataRange1d\"}],\"root_ids\":[\"6dac9c19-96c6-4a4e-85e8-bc4ee8f2ede4\"]},\"title\":\"Bokeh Application\",\"version\":\"0.12.5\"}};\n",
       "            var render_items = [{\"docid\":\"439c50fd-b55f-4a44-a34f-c5a6024dfa14\",\"elementid\":\"6ca9cde9-796c-4ee7-bc47-a143c220de69\",\"modelid\":\"6dac9c19-96c6-4a4e-85e8-bc4ee8f2ede4\"}];\n",
       "            \n",
       "            Bokeh.embed.embed_items(docs_json, render_items);\n",
       "          };\n",
       "          if (document.readyState != \"loading\") fn();\n",
       "          else document.addEventListener(\"DOMContentLoaded\", fn);\n",
       "        })();\n",
       "      },\n",
       "      function(Bokeh) {\n",
       "      }\n",
       "    ];\n",
       "  \n",
       "    function run_inline_js() {\n",
       "      \n",
       "      if ((window.Bokeh !== undefined) || (force === true)) {\n",
       "        for (var i = 0; i < inline_js.length; i++) {\n",
       "          inline_js[i](window.Bokeh);\n",
       "        }if (force === true) {\n",
       "          display_loaded();\n",
       "        }} else if (Date.now() < window._bokeh_timeout) {\n",
       "        setTimeout(run_inline_js, 100);\n",
       "      } else if (!window._bokeh_failed_load) {\n",
       "        console.log(\"Bokeh: BokehJS failed to load within specified timeout.\");\n",
       "        window._bokeh_failed_load = true;\n",
       "      } else if (force !== true) {\n",
       "        var cell = $(document.getElementById(\"6ca9cde9-796c-4ee7-bc47-a143c220de69\")).parents('.cell').data().cell;\n",
       "        cell.output_area.append_execute_result(NB_LOAD_WARNING)\n",
       "      }\n",
       "  \n",
       "    }\n",
       "  \n",
       "    if (window._bokeh_is_loading === 0) {\n",
       "      console.log(\"Bokeh: BokehJS loaded, going straight to plotting\");\n",
       "      run_inline_js();\n",
       "    } else {\n",
       "      load_libs(js_urls, function() {\n",
       "        console.log(\"Bokeh: BokehJS plotting callback run at\", now());\n",
       "        run_inline_js();\n",
       "      });\n",
       "    }\n",
       "  }(this));\n",
       "</script>"
      ]
     },
     "metadata": {},
     "output_type": "display_data"
    }
   ],
   "source": [
    "hist, edges = np.histogram(counts_ted_top1000, density=True, bins=100, normed=True)\n",
    "\n",
    "p = figure(tools=\"pan,wheel_zoom,reset,save\",\n",
    "           toolbar_location=\"above\",\n",
    "           title=\"Top-1000 words distribution\")\n",
    "p.quad(top=hist, bottom=0, left=edges[:-1], right=edges[1:], line_color=\"#555555\")\n",
    "show(p)"
   ]
  },
  {
   "cell_type": "markdown",
   "metadata": {},
   "source": [
    "### Part 3: Train Word2Vec"
   ]
  },
  {
   "cell_type": "code",
   "execution_count": 39,
   "metadata": {
    "collapsed": true
   },
   "outputs": [],
   "source": [
    "model_ted = Word2Vec(sentences_ted, size=100, window=5, min_count=10, workers=4)"
   ]
  },
  {
   "cell_type": "markdown",
   "metadata": {},
   "source": [
    "### Part 4: Ted Learnt Representations"
   ]
  },
  {
   "cell_type": "markdown",
   "metadata": {},
   "source": [
    "Finding similar words: (see gensim docs for more functionality of `most_similar`)"
   ]
  },
  {
   "cell_type": "code",
   "execution_count": 69,
   "metadata": {
    "collapsed": false
   },
   "outputs": [
    {
     "name": "stdout",
     "output_type": "stream",
     "text": [
      "0.840074\n",
      "0.695848\n"
     ]
    }
   ],
   "source": [
    "m = model_ted['man']\n",
    "w = model_ted['woman']\n",
    "d = model_ted['david']\n",
    "print np.dot(m,w)/(np.linalg.norm(m)*np.linalg.norm(w))\n",
    "print np.dot(m,d)/(np.linalg.norm(m)*np.linalg.norm(d))"
   ]
  },
  {
   "cell_type": "code",
   "execution_count": 61,
   "metadata": {
    "collapsed": false
   },
   "outputs": [
    {
     "data": {
      "text/plain": [
       "[(u'woman', 0.8400740623474121),\n",
       " (u'guy', 0.8243098855018616),\n",
       " (u'lady', 0.7823256254196167),\n",
       " (u'boy', 0.7481472492218018),\n",
       " (u'girl', 0.7465017437934875),\n",
       " (u'soldier', 0.7283183932304382),\n",
       " (u'gentleman', 0.7228275537490845),\n",
       " (u'poet', 0.7103886008262634),\n",
       " (u'kid', 0.6958722472190857),\n",
       " (u'david', 0.6958481669425964)]"
      ]
     },
     "execution_count": 61,
     "metadata": {},
     "output_type": "execute_result"
    }
   ],
   "source": [
    "model_ted.most_similar(\"man\")"
   ]
  },
  {
   "cell_type": "code",
   "execution_count": 62,
   "metadata": {
    "collapsed": false
   },
   "outputs": [
    {
     "data": {
      "text/plain": [
       "[(u'machine', 0.7581875920295715),\n",
       " (u'software', 0.715578556060791),\n",
       " (u'robot', 0.6923395395278931),\n",
       " (u'device', 0.650558590888977),\n",
       " (u'program', 0.6310849189758301),\n",
       " (u'camera', 0.6261928081512451),\n",
       " (u'video', 0.619682788848877),\n",
       " (u'circuit', 0.6181039810180664),\n",
       " (u'chip', 0.5923829078674316),\n",
       " (u'mechanical', 0.5881744027137756)]"
      ]
     },
     "execution_count": 62,
     "metadata": {},
     "output_type": "execute_result"
    }
   ],
   "source": [
    "model_ted.most_similar(\"computer\")"
   ]
  },
  {
   "cell_type": "markdown",
   "metadata": {},
   "source": [
    "#### t-SNE visualization\n",
    "To use the t-SNE code below, first put a list of the top 1000 words (as strings) into a variable `words_top_ted`. The following code gets the corresponding vectors from the model, assuming it's called `model_ted`:"
   ]
  },
  {
   "cell_type": "code",
   "execution_count": 40,
   "metadata": {
    "collapsed": false
   },
   "outputs": [],
   "source": [
    "words_top_ted = [counts[0] for counts in sorted_words[:1000]]\n",
    "words_top_vec_ted = model_ted[words_top_ted]"
   ]
  },
  {
   "cell_type": "code",
   "execution_count": 41,
   "metadata": {
    "collapsed": false
   },
   "outputs": [],
   "source": [
    "tsne = TSNE(n_components=2, random_state=0)\n",
    "words_top_ted_tsne = tsne.fit_transform(words_top_vec_ted)"
   ]
  },
  {
   "cell_type": "code",
   "execution_count": 42,
   "metadata": {
    "collapsed": false
   },
   "outputs": [
    {
     "data": {
      "text/html": [
       "\n",
       "\n",
       "    <div class=\"bk-root\">\n",
       "        <div class=\"bk-plotdiv\" id=\"372541a3-7c6a-4f7b-86fe-b2c4f4484646\"></div>\n",
       "    </div>\n",
       "<script type=\"text/javascript\">\n",
       "  \n",
       "  (function(global) {\n",
       "    function now() {\n",
       "      return new Date();\n",
       "    }\n",
       "  \n",
       "    var force = false;\n",
       "  \n",
       "    if (typeof (window._bokeh_onload_callbacks) === \"undefined\" || force === true) {\n",
       "      window._bokeh_onload_callbacks = [];\n",
       "      window._bokeh_is_loading = undefined;\n",
       "    }\n",
       "  \n",
       "  \n",
       "    \n",
       "    if (typeof (window._bokeh_timeout) === \"undefined\" || force === true) {\n",
       "      window._bokeh_timeout = Date.now() + 0;\n",
       "      window._bokeh_failed_load = false;\n",
       "    }\n",
       "  \n",
       "    var NB_LOAD_WARNING = {'data': {'text/html':\n",
       "       \"<div style='background-color: #fdd'>\\n\"+\n",
       "       \"<p>\\n\"+\n",
       "       \"BokehJS does not appear to have successfully loaded. If loading BokehJS from CDN, this \\n\"+\n",
       "       \"may be due to a slow or bad network connection. Possible fixes:\\n\"+\n",
       "       \"</p>\\n\"+\n",
       "       \"<ul>\\n\"+\n",
       "       \"<li>re-rerun `output_notebook()` to attempt to load from CDN again, or</li>\\n\"+\n",
       "       \"<li>use INLINE resources instead, as so:</li>\\n\"+\n",
       "       \"</ul>\\n\"+\n",
       "       \"<code>\\n\"+\n",
       "       \"from bokeh.resources import INLINE\\n\"+\n",
       "       \"output_notebook(resources=INLINE)\\n\"+\n",
       "       \"</code>\\n\"+\n",
       "       \"</div>\"}};\n",
       "  \n",
       "    function display_loaded() {\n",
       "      if (window.Bokeh !== undefined) {\n",
       "        var el = document.getElementById(\"372541a3-7c6a-4f7b-86fe-b2c4f4484646\");\n",
       "        el.textContent = \"BokehJS \" + Bokeh.version + \" successfully loaded.\";\n",
       "      } else if (Date.now() < window._bokeh_timeout) {\n",
       "        setTimeout(display_loaded, 100)\n",
       "      }\n",
       "    }\n",
       "  \n",
       "    function run_callbacks() {\n",
       "      window._bokeh_onload_callbacks.forEach(function(callback) { callback() });\n",
       "      delete window._bokeh_onload_callbacks\n",
       "      console.info(\"Bokeh: all callbacks have finished\");\n",
       "    }\n",
       "  \n",
       "    function load_libs(js_urls, callback) {\n",
       "      window._bokeh_onload_callbacks.push(callback);\n",
       "      if (window._bokeh_is_loading > 0) {\n",
       "        console.log(\"Bokeh: BokehJS is being loaded, scheduling callback at\", now());\n",
       "        return null;\n",
       "      }\n",
       "      if (js_urls == null || js_urls.length === 0) {\n",
       "        run_callbacks();\n",
       "        return null;\n",
       "      }\n",
       "      console.log(\"Bokeh: BokehJS not loaded, scheduling load and callback at\", now());\n",
       "      window._bokeh_is_loading = js_urls.length;\n",
       "      for (var i = 0; i < js_urls.length; i++) {\n",
       "        var url = js_urls[i];\n",
       "        var s = document.createElement('script');\n",
       "        s.src = url;\n",
       "        s.async = false;\n",
       "        s.onreadystatechange = s.onload = function() {\n",
       "          window._bokeh_is_loading--;\n",
       "          if (window._bokeh_is_loading === 0) {\n",
       "            console.log(\"Bokeh: all BokehJS libraries loaded\");\n",
       "            run_callbacks()\n",
       "          }\n",
       "        };\n",
       "        s.onerror = function() {\n",
       "          console.warn(\"failed to load library \" + url);\n",
       "        };\n",
       "        console.log(\"Bokeh: injecting script tag for BokehJS library: \", url);\n",
       "        document.getElementsByTagName(\"head\")[0].appendChild(s);\n",
       "      }\n",
       "    };var element = document.getElementById(\"372541a3-7c6a-4f7b-86fe-b2c4f4484646\");\n",
       "    if (element == null) {\n",
       "      console.log(\"Bokeh: ERROR: autoload.js configured with elementid '372541a3-7c6a-4f7b-86fe-b2c4f4484646' but no matching script tag was found. \")\n",
       "      return false;\n",
       "    }\n",
       "  \n",
       "    var js_urls = [];\n",
       "  \n",
       "    var inline_js = [\n",
       "      function(Bokeh) {\n",
       "        (function() {\n",
       "          var fn = function() {\n",
       "            var docs_json = {\"134ae2a0-61d8-4c34-8abd-084fa7a80fd6\":{\"roots\":{\"references\":[{\"attributes\":{\"plot\":{\"id\":\"c2794a86-8361-46a0-9501-89b5af240147\",\"subtype\":\"Figure\",\"type\":\"Plot\"}},\"id\":\"aabd71d8-767c-47e7-8b75-3d0a5e1b7b51\",\"type\":\"PanTool\"},{\"attributes\":{},\"id\":\"062bbd03-1a9d-47ec-a293-55cc5426911a\",\"type\":\"BasicTickFormatter\"},{\"attributes\":{\"plot\":{\"id\":\"c2794a86-8361-46a0-9501-89b5af240147\",\"subtype\":\"Figure\",\"type\":\"Plot\"},\"source\":{\"id\":\"9cbf860a-00e3-49cf-b539-fce31b38ccbf\",\"type\":\"ColumnDataSource\"},\"text\":{\"field\":\"names\"},\"text_align\":\"center\",\"text_color\":{\"value\":\"#555555\"},\"text_font_size\":{\"value\":\"8pt\"},\"x\":{\"field\":\"x1\"},\"y\":{\"field\":\"x2\"},\"y_offset\":{\"value\":6}},\"id\":\"54bff355-b1a7-4182-9fc5-7a3f71444f8e\",\"type\":\"LabelSet\"},{\"attributes\":{\"plot\":{\"id\":\"c2794a86-8361-46a0-9501-89b5af240147\",\"subtype\":\"Figure\",\"type\":\"Plot\"}},\"id\":\"06a8aaf0-e7a1-4e52-8fba-a47d19124284\",\"type\":\"ResetTool\"},{\"attributes\":{\"below\":[{\"id\":\"c0e6aeae-2108-4d2b-b90f-7559db8de3bd\",\"type\":\"LinearAxis\"}],\"left\":[{\"id\":\"e36e787c-94d3-4833-9f90-faa49d955762\",\"type\":\"LinearAxis\"}],\"renderers\":[{\"id\":\"c0e6aeae-2108-4d2b-b90f-7559db8de3bd\",\"type\":\"LinearAxis\"},{\"id\":\"8df8745b-02ca-483d-8423-901bc1b1fc1d\",\"type\":\"Grid\"},{\"id\":\"e36e787c-94d3-4833-9f90-faa49d955762\",\"type\":\"LinearAxis\"},{\"id\":\"6b024f81-7385-449b-b34b-6f2c15b53b2b\",\"type\":\"Grid\"},{\"id\":\"bde19576-4d8a-407f-b40e-544d55b920e9\",\"type\":\"GlyphRenderer\"},{\"id\":\"54bff355-b1a7-4182-9fc5-7a3f71444f8e\",\"type\":\"LabelSet\"}],\"title\":{\"id\":\"b8ae2461-f15e-4dd4-b7cb-87b8e707adca\",\"type\":\"Title\"},\"tool_events\":{\"id\":\"f6a82f40-fbf6-4e0f-ad2a-e0e44617920b\",\"type\":\"ToolEvents\"},\"toolbar\":{\"id\":\"e426444d-57c6-4036-968d-859977c9caba\",\"type\":\"Toolbar\"},\"toolbar_location\":\"above\",\"x_range\":{\"id\":\"5a1c6694-b975-4520-87ba-e9a9c1d49aca\",\"type\":\"DataRange1d\"},\"y_range\":{\"id\":\"e89c7af4-fc68-4642-afd6-8e2e1c3986c4\",\"type\":\"DataRange1d\"}},\"id\":\"c2794a86-8361-46a0-9501-89b5af240147\",\"subtype\":\"Figure\",\"type\":\"Plot\"},{\"attributes\":{},\"id\":\"c4a58a6d-4068-42e9-944a-b79e4d9258c8\",\"type\":\"BasicTicker\"},{\"attributes\":{\"fill_color\":{\"value\":\"#1f77b4\"},\"line_color\":{\"value\":\"#1f77b4\"},\"size\":{\"units\":\"screen\",\"value\":8},\"x\":{\"field\":\"x1\"},\"y\":{\"field\":\"x2\"}},\"id\":\"d76fd98c-7e36-48e8-82ce-f24fdd0c7eea\",\"type\":\"Circle\"},{\"attributes\":{\"active_drag\":\"auto\",\"active_scroll\":\"auto\",\"active_tap\":\"auto\",\"tools\":[{\"id\":\"aabd71d8-767c-47e7-8b75-3d0a5e1b7b51\",\"type\":\"PanTool\"},{\"id\":\"bfac76b8-09fd-4054-b1b6-1adba7e45365\",\"type\":\"WheelZoomTool\"},{\"id\":\"06a8aaf0-e7a1-4e52-8fba-a47d19124284\",\"type\":\"ResetTool\"},{\"id\":\"0bbadc58-416a-44c0-9fd8-01cd21602961\",\"type\":\"SaveTool\"}]},\"id\":\"e426444d-57c6-4036-968d-859977c9caba\",\"type\":\"Toolbar\"},{\"attributes\":{\"plot\":{\"id\":\"c2794a86-8361-46a0-9501-89b5af240147\",\"subtype\":\"Figure\",\"type\":\"Plot\"},\"ticker\":{\"id\":\"c4a58a6d-4068-42e9-944a-b79e4d9258c8\",\"type\":\"BasicTicker\"}},\"id\":\"8df8745b-02ca-483d-8423-901bc1b1fc1d\",\"type\":\"Grid\"},{\"attributes\":{},\"id\":\"05fec06c-0ed2-4749-ac62-5e60e51e1876\",\"type\":\"BasicTicker\"},{\"attributes\":{\"dimension\":1,\"plot\":{\"id\":\"c2794a86-8361-46a0-9501-89b5af240147\",\"subtype\":\"Figure\",\"type\":\"Plot\"},\"ticker\":{\"id\":\"05fec06c-0ed2-4749-ac62-5e60e51e1876\",\"type\":\"BasicTicker\"}},\"id\":\"6b024f81-7385-449b-b34b-6f2c15b53b2b\",\"type\":\"Grid\"},{\"attributes\":{\"plot\":{\"id\":\"c2794a86-8361-46a0-9501-89b5af240147\",\"subtype\":\"Figure\",\"type\":\"Plot\"}},\"id\":\"0bbadc58-416a-44c0-9fd8-01cd21602961\",\"type\":\"SaveTool\"},{\"attributes\":{},\"id\":\"de58d63a-6601-49bb-b3b1-d7e22a514cc3\",\"type\":\"BasicTickFormatter\"},{\"attributes\":{\"fill_alpha\":{\"value\":0.1},\"fill_color\":{\"value\":\"#1f77b4\"},\"line_alpha\":{\"value\":0.1},\"line_color\":{\"value\":\"#1f77b4\"},\"size\":{\"units\":\"screen\",\"value\":8},\"x\":{\"field\":\"x1\"},\"y\":{\"field\":\"x2\"}},\"id\":\"1dccafe7-c9bc-4255-aa27-69afdcc56043\",\"type\":\"Circle\"},{\"attributes\":{\"callback\":null},\"id\":\"e89c7af4-fc68-4642-afd6-8e2e1c3986c4\",\"type\":\"DataRange1d\"},{\"attributes\":{\"callback\":null},\"id\":\"5a1c6694-b975-4520-87ba-e9a9c1d49aca\",\"type\":\"DataRange1d\"},{\"attributes\":{\"plot\":null,\"text\":\"word2vec T-SNE for most common words\"},\"id\":\"b8ae2461-f15e-4dd4-b7cb-87b8e707adca\",\"type\":\"Title\"},{\"attributes\":{\"data_source\":{\"id\":\"9cbf860a-00e3-49cf-b539-fce31b38ccbf\",\"type\":\"ColumnDataSource\"},\"glyph\":{\"id\":\"d76fd98c-7e36-48e8-82ce-f24fdd0c7eea\",\"type\":\"Circle\"},\"hover_glyph\":null,\"muted_glyph\":null,\"nonselection_glyph\":{\"id\":\"1dccafe7-c9bc-4255-aa27-69afdcc56043\",\"type\":\"Circle\"},\"selection_glyph\":null},\"id\":\"bde19576-4d8a-407f-b40e-544d55b920e9\",\"type\":\"GlyphRenderer\"},{\"attributes\":{},\"id\":\"f6a82f40-fbf6-4e0f-ad2a-e0e44617920b\",\"type\":\"ToolEvents\"},{\"attributes\":{\"callback\":null,\"column_names\":[\"x2\",\"x1\",\"names\"],\"data\":{\"names\":[\"the\",\"and\",\"to\",\"of\",\"a\",\"that\",\"i\",\"in\",\"it\",\"you\",\"we\",\"is\",\"s\",\"this\",\"so\",\"they\",\"was\",\"for\",\"are\",\"have\",\"but\",\"what\",\"on\",\"with\",\"can\",\"t\",\"about\",\"there\",\"be\",\"as\",\"at\",\"all\",\"not\",\"do\",\"my\",\"one\",\"re\",\"people\",\"like\",\"if\",\"from\",\"now\",\"our\",\"he\",\"an\",\"just\",\"these\",\"or\",\"when\",\"because\",\"very\",\"me\",\"out\",\"by\",\"them\",\"how\",\"know\",\"up\",\"going\",\"had\",\"more\",\"think\",\"who\",\"were\",\"see\",\"your\",\"their\",\"which\",\"would\",\"here\",\"really\",\"get\",\"ve\",\"then\",\"m\",\"world\",\"us\",\"time\",\"some\",\"has\",\"don\",\"actually\",\"into\",\"way\",\"where\",\"will\",\"years\",\"things\",\"other\",\"no\",\"could\",\"go\",\"well\",\"want\",\"been\",\"make\",\"right\",\"she\",\"said\",\"something\",\"those\",\"first\",\"two\",\"than\",\"much\",\"also\",\"look\",\"new\",\"thing\",\"little\",\"got\",\"back\",\"over\",\"most\",\"say\",\"even\",\"his\",\"life\",\"only\",\"work\",\"many\",\"take\",\"need\",\"did\",\"lot\",\"kind\",\"why\",\"good\",\"around\",\"every\",\"different\",\"down\",\"ll\",\"let\",\"her\",\"through\",\"same\",\"being\",\"come\",\"d\",\"day\",\"year\",\"three\",\"use\",\"doing\",\"put\",\"called\",\"any\",\"today\",\"percent\",\"made\",\"after\",\"thank\",\"tell\",\"great\",\"human\",\"find\",\"didn\",\"fact\",\"talk\",\"change\",\"started\",\"another\",\"idea\",\"big\",\"last\",\"own\",\"before\",\"its\",\"never\",\"should\",\"better\",\"give\",\"thought\",\"went\",\"might\",\"important\",\"000\",\"again\",\"together\",\"able\",\"still\",\"problem\",\"off\",\"next\",\"part\",\"course\",\"system\",\"him\",\"does\",\"each\",\"start\",\"show\",\"long\",\"ago\",\"story\",\"came\",\"brain\",\"few\",\"bit\",\"between\",\"used\",\"place\",\"technology\",\"women\",\"too\",\"old\",\"mean\",\"data\",\"water\",\"looking\",\"question\",\"maybe\",\"found\",\"love\",\"doesn\",\"end\",\"example\",\"10\",\"done\",\"point\",\"four\",\"real\",\"wanted\",\"ever\",\"school\",\"understand\",\"sort\",\"live\",\"call\",\"whole\",\"always\",\"children\",\"trying\",\"may\",\"person\",\"away\",\"believe\",\"feel\",\"try\",\"million\",\"working\",\"help\",\"everything\",\"five\",\"country\",\"thinking\",\"second\",\"using\",\"information\",\"money\",\"means\",\"took\",\"power\",\"times\",\"high\",\"space\",\"number\",\"kids\",\"home\",\"become\",\"create\",\"small\",\"design\",\"making\",\"best\",\"left\",\"getting\",\"future\",\"enough\",\"man\",\"quite\",\"city\",\"without\",\"sense\",\"happened\",\"comes\",\"social\",\"probably\",\"light\",\"less\",\"talking\",\"energy\",\"am\",\"building\",\"science\",\"food\",\"body\",\"told\",\"interesting\",\"half\",\"ask\",\"pretty\",\"play\",\"hard\",\"anything\",\"lives\",\"countries\",\"coming\",\"such\",\"family\",\"stuff\",\"dollars\",\"moment\",\"earth\",\"20\",\"imagine\",\"across\",\"side\",\"saw\",\"while\",\"happen\",\"okay\",\"once\",\"build\",\"having\",\"men\",\"later\",\"experience\",\"makes\",\"asked\",\"living\",\"seen\",\"says\",\"room\",\"hand\",\"simple\",\"health\",\"ways\",\"else\",\"case\",\"yet\",\"almost\",\"young\",\"days\",\"nothing\",\"bad\",\"care\",\"happens\",\"goes\",\"move\",\"states\",\"reason\",\"computer\",\"open\",\"learn\",\"africa\",\"process\",\"inside\",\"someone\",\"six\",\"far\",\"project\",\"mind\",\"remember\",\"single\",\"picture\",\"both\",\"whether\",\"problems\",\"saying\",\"community\",\"basically\",\"already\",\"within\",\"looked\",\"myself\",\"billion\",\"possible\",\"often\",\"business\",\"planet\",\"global\",\"top\",\"everybody\",\"sure\",\"public\",\"set\",\"wrong\",\"car\",\"book\",\"keep\",\"yes\",\"answer\",\"oh\",\"sometimes\",\"hope\",\"true\",\"history\",\"war\",\"guy\",\"child\",\"instead\",\"months\",\"ideas\",\"looks\",\"matter\",\"government\",\"amazing\",\"united\",\"since\",\"bring\",\"age\",\"cells\",\"job\",\"heard\",\"until\",\"face\",\"wasn\",\"100\",\"read\",\"control\",\"isn\",\"research\",\"30\",\"words\",\"u\",\"group\",\"under\",\"self\",\"somebody\",\"built\",\"state\",\"woman\",\"turn\",\"beautiful\",\"friends\",\"line\",\"knew\",\"couple\",\"order\",\"form\",\"yeah\",\"internet\",\"middle\",\"music\",\"piece\",\"nature\",\"head\",\"though\",\"stop\",\"everyone\",\"50\",\"places\",\"video\",\"learned\",\"language\",\"run\",\"night\",\"decided\",\"study\",\"word\",\"cancer\",\"works\",\"taking\",\"became\",\"exactly\",\"species\",\"completely\",\"society\",\"education\",\"against\",\"stories\",\"large\",\"share\",\"level\",\"heart\",\"america\",\"model\",\"questions\",\"gets\",\"mother\",\"god\",\"company\",\"turns\",\"ourselves\",\"happening\",\"hear\",\"art\",\"themselves\",\"must\",\"itself\",\"rather\",\"kinds\",\"students\",\"name\",\"hours\",\"disease\",\"front\",\"house\",\"huge\",\"couldn\",\"created\",\"universe\",\"ok\",\"animals\",\"american\",\"environment\",\"worked\",\"minutes\",\"ones\",\"black\",\"perhaps\",\"1\",\"past\",\"third\",\"along\",\"finally\",\"others\",\"sound\",\"early\",\"game\",\"thousands\",\"century\",\"based\",\"least\",\"per\",\"ted\",\"lots\",\"figure\",\"free\",\"guys\",\"particular\",\"happy\",\"news\",\"learning\",\"entire\",\"won\",\"gave\",\"machine\",\"india\",\"during\",\"systems\",\"air\",\"difference\",\"outside\",\"natural\",\"taken\",\"seven\",\"given\",\"changed\",\"leave\",\"cell\",\"15\",\"close\",\"behind\",\"cities\",\"full\",\"scale\",\"china\",\"difficult\",\"takes\",\"companies\",\"yourself\",\"area\",\"reality\",\"seeing\",\"easy\",\"turned\",\"cost\",\"eyes\",\"team\",\"moving\",\"population\",\"culture\",\"york\",\"hands\",\"whatever\",\"began\",\"needs\",\"terms\",\"image\",\"needed\",\"simply\",\"beginning\",\"father\",\"local\",\"realized\",\"media\",\"parents\",\"death\",\"walk\",\"view\",\"white\",\"market\",\"parts\",\"ocean\",\"economic\",\"eight\",\"powerful\",\"week\",\"known\",\"size\",\"felt\",\"humans\",\"certain\",\"spend\",\"longer\",\"phone\",\"wonderful\",\"cannot\",\"grow\",\"common\",\"center\",\"tried\",\"fish\",\"land\",\"oil\",\"deal\",\"interested\",\"political\",\"red\",\"gone\",\"amount\",\"weeks\",\"spent\",\"opportunity\",\"paper\",\"lost\",\"national\",\"quickly\",\"blue\",\"step\",\"poor\",\"green\",\"buy\",\"wouldn\",\"growth\",\"either\",\"patients\",\"sitting\",\"ability\",\"changes\",\"write\",\"challenge\",\"south\",\"low\",\"friend\",\"growing\",\"field\",\"2\",\"shows\",\"born\",\"rest\",\"climate\",\"40\",\"test\",\"street\",\"surface\",\"incredible\",\"average\",\"morning\",\"physical\",\"value\",\"program\",\"scientists\",\"pay\",\"feeling\",\"met\",\"hundreds\",\"girl\",\"behavior\",\"economy\",\"dna\",\"complex\",\"access\",\"risk\",\"animal\",\"structure\",\"feet\",\"attention\",\"areas\",\"anyone\",\"deep\",\"watch\",\"short\",\"absolutely\",\"brought\",\"speak\",\"bottom\",\"die\",\"numbers\",\"audience\",\"stage\",\"realize\",\"images\",\"law\",\"wrote\",\"understanding\",\"books\",\"knowledge\",\"literally\",\"movement\",\"ground\",\"giving\",\"eat\",\"force\",\"seems\",\"alone\",\"telling\",\"starting\",\"hold\",\"nice\",\"sea\",\"forward\",\"developed\",\"individual\",\"kid\",\"millions\",\"support\",\"miles\",\"tools\",\"running\",\"online\",\"result\",\"act\",\"medical\",\"technologies\",\"north\",\"development\",\"lab\",\"blood\",\"fear\",\"nobody\",\"map\",\"personal\",\"voice\",\"issue\",\"key\",\"material\",\"recently\",\"12\",\"theory\",\"cut\",\"cars\",\"sun\",\"fast\",\"changing\",\"playing\",\"clear\",\"especially\",\"girls\",\"soon\",\"patient\",\"choice\",\"fly\",\"creating\",\"discovered\",\"talked\",\"relationship\",\"europe\",\"normal\",\"gives\",\"generation\",\"dark\",\"type\",\"showed\",\"asking\",\"industry\",\"seem\",\"chance\",\"rate\",\"hour\",\"designed\",\"fun\",\"color\",\"issues\",\"university\",\"several\",\"computers\",\"innovation\",\"class\",\"tiny\",\"english\",\"save\",\"allow\",\"focus\",\"developing\",\"digital\",\"solve\",\"film\",\"network\",\"special\",\"wall\",\"situation\",\"baby\",\"solution\",\"box\",\"reasons\",\"knows\",\"meet\",\"stand\",\"dead\",\"begin\",\"impact\",\"haven\",\"anybody\",\"term\",\"pictures\",\"beyond\",\"please\",\"produce\",\"ice\",\"shape\",\"non\",\"resources\",\"robot\",\"cool\",\"stay\",\"likely\",\"groups\",\"rights\",\"available\",\"truth\",\"major\",\"obviously\",\"evidence\",\"experiment\",\"cause\",\"writing\",\"drug\",\"modern\",\"incredibly\",\"becomes\",\"bigger\",\"guess\",\"aren\",\"nine\",\"product\",\"drugs\",\"lived\",\"involved\",\"perfect\",\"month\",\"google\",\"similar\",\"putting\",\"effect\",\"pick\",\"eye\",\"message\",\"web\",\"quality\",\"violence\",\"security\",\"evolution\",\"office\",\"basic\",\"indeed\",\"general\",\"solar\",\"towards\",\"drive\",\"present\",\"worth\",\"listen\",\"send\",\"revolution\",\"hundred\",\"explain\",\"died\",\"certainly\",\"ready\",\"teach\",\"journey\",\"25\",\"walking\",\"hit\",\"led\",\"international\",\"approach\",\"200\",\"games\",\"scientific\",\"60\",\"crazy\",\"potential\",\"chinese\",\"communities\",\"device\",\"camera\",\"source\",\"carbon\",\"sex\",\"rules\",\"sounds\",\"boy\",\"reach\",\"starts\",\"west\",\"examples\",\"3\",\"success\",\"software\",\"measure\",\"particularly\",\"totally\",\"suddenly\",\"action\",\"higher\",\"college\",\"code\",\"eventually\",\"democracy\",\"minute\",\"among\",\"sit\",\"largest\",\"showing\",\"hospital\",\"period\",\"notice\",\"mass\",\"develop\",\"dream\",\"onto\",\"add\",\"plants\",\"break\",\"memory\",\"zero\",\"everywhere\",\"11\",\"favorite\",\"speed\",\"moved\",\"schools\",\"response\",\"wants\",\"individuals\",\"table\",\"extremely\",\"movie\",\"wait\",\"anyway\",\"follow\",\"medicine\",\"trust\",\"biggest\",\"plant\",\"watching\",\"organization\",\"creative\",\"road\",\"worse\",\"choose\",\"results\",\"500\",\"lead\",\"exciting\",\"grew\",\"materials\",\"jobs\",\"positive\",\"plan\",\"poverty\",\"east\",\"safe\",\"strong\",\"fall\",\"essentially\",\"door\",\"object\",\"vision\",\"son\",\"continue\",\"further\",\"happiness\",\"student\",\"doctor\",\"role\",\"including\",\"named\",\"objects\",\"extraordinary\",\"standing\",\"skin\",\"leaders\",\"usually\",\"projects\",\"african\",\"conversation\",\"models\",\"allowed\",\"supposed\",\"interest\",\"faster\",\"police\",\"families\",\"fight\",\"tree\",\"connected\",\"cases\",\"screen\",\"5\",\"somewhere\",\"goal\",\"shown\",\"buildings\",\"finding\"],\"x1\":{\"__ndarray__\":\"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\",\"dtype\":\"float64\",\"shape\":[1000]},\"x2\":{\"__ndarray__\":\"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\",\"dtype\":\"float64\",\"shape\":[1000]}}},\"id\":\"9cbf860a-00e3-49cf-b539-fce31b38ccbf\",\"type\":\"ColumnDataSource\"},{\"attributes\":{\"formatter\":{\"id\":\"062bbd03-1a9d-47ec-a293-55cc5426911a\",\"type\":\"BasicTickFormatter\"},\"plot\":{\"id\":\"c2794a86-8361-46a0-9501-89b5af240147\",\"subtype\":\"Figure\",\"type\":\"Plot\"},\"ticker\":{\"id\":\"05fec06c-0ed2-4749-ac62-5e60e51e1876\",\"type\":\"BasicTicker\"}},\"id\":\"e36e787c-94d3-4833-9f90-faa49d955762\",\"type\":\"LinearAxis\"},{\"attributes\":{\"formatter\":{\"id\":\"de58d63a-6601-49bb-b3b1-d7e22a514cc3\",\"type\":\"BasicTickFormatter\"},\"plot\":{\"id\":\"c2794a86-8361-46a0-9501-89b5af240147\",\"subtype\":\"Figure\",\"type\":\"Plot\"},\"ticker\":{\"id\":\"c4a58a6d-4068-42e9-944a-b79e4d9258c8\",\"type\":\"BasicTicker\"}},\"id\":\"c0e6aeae-2108-4d2b-b90f-7559db8de3bd\",\"type\":\"LinearAxis\"},{\"attributes\":{\"plot\":{\"id\":\"c2794a86-8361-46a0-9501-89b5af240147\",\"subtype\":\"Figure\",\"type\":\"Plot\"}},\"id\":\"bfac76b8-09fd-4054-b1b6-1adba7e45365\",\"type\":\"WheelZoomTool\"}],\"root_ids\":[\"c2794a86-8361-46a0-9501-89b5af240147\"]},\"title\":\"Bokeh Application\",\"version\":\"0.12.5\"}};\n",
       "            var render_items = [{\"docid\":\"134ae2a0-61d8-4c34-8abd-084fa7a80fd6\",\"elementid\":\"372541a3-7c6a-4f7b-86fe-b2c4f4484646\",\"modelid\":\"c2794a86-8361-46a0-9501-89b5af240147\"}];\n",
       "            \n",
       "            Bokeh.embed.embed_items(docs_json, render_items);\n",
       "          };\n",
       "          if (document.readyState != \"loading\") fn();\n",
       "          else document.addEventListener(\"DOMContentLoaded\", fn);\n",
       "        })();\n",
       "      },\n",
       "      function(Bokeh) {\n",
       "      }\n",
       "    ];\n",
       "  \n",
       "    function run_inline_js() {\n",
       "      \n",
       "      if ((window.Bokeh !== undefined) || (force === true)) {\n",
       "        for (var i = 0; i < inline_js.length; i++) {\n",
       "          inline_js[i](window.Bokeh);\n",
       "        }if (force === true) {\n",
       "          display_loaded();\n",
       "        }} else if (Date.now() < window._bokeh_timeout) {\n",
       "        setTimeout(run_inline_js, 100);\n",
       "      } else if (!window._bokeh_failed_load) {\n",
       "        console.log(\"Bokeh: BokehJS failed to load within specified timeout.\");\n",
       "        window._bokeh_failed_load = true;\n",
       "      } else if (force !== true) {\n",
       "        var cell = $(document.getElementById(\"372541a3-7c6a-4f7b-86fe-b2c4f4484646\")).parents('.cell').data().cell;\n",
       "        cell.output_area.append_execute_result(NB_LOAD_WARNING)\n",
       "      }\n",
       "  \n",
       "    }\n",
       "  \n",
       "    if (window._bokeh_is_loading === 0) {\n",
       "      console.log(\"Bokeh: BokehJS loaded, going straight to plotting\");\n",
       "      run_inline_js();\n",
       "    } else {\n",
       "      load_libs(js_urls, function() {\n",
       "        console.log(\"Bokeh: BokehJS plotting callback run at\", now());\n",
       "        run_inline_js();\n",
       "      });\n",
       "    }\n",
       "  }(this));\n",
       "</script>"
      ]
     },
     "metadata": {},
     "output_type": "display_data"
    }
   ],
   "source": [
    "p = figure(tools=\"pan,wheel_zoom,reset,save\",\n",
    "           toolbar_location=\"above\",\n",
    "           title=\"word2vec T-SNE for most common words\")\n",
    "\n",
    "source = ColumnDataSource(data=dict(x1=words_top_ted_tsne[:,0],\n",
    "                                    x2=words_top_ted_tsne[:,1],\n",
    "                                    names=words_top_ted))\n",
    "\n",
    "p.scatter(x=\"x1\", y=\"x2\", size=8, source=source)\n",
    "\n",
    "labels = LabelSet(x=\"x1\", y=\"x2\", text=\"names\", y_offset=6,\n",
    "                  text_font_size=\"8pt\", text_color=\"#555555\",\n",
    "                  source=source, text_align='center')\n",
    "p.add_layout(labels)\n",
    "\n",
    "show(p)"
   ]
  },
  {
   "cell_type": "code",
   "execution_count": 47,
   "metadata": {
    "collapsed": true
   },
   "outputs": [],
   "source": [
    "inertias_ted = []\n",
    "for clusters in range(2,20):\n",
    "    kmeans = sklearn.cluster.KMeans(n_clusters=clusters).fit(words_top_ted_tsne)\n",
    "    inertias_ted.append(kmeans.inertia_)"
   ]
  },
  {
   "cell_type": "code",
   "execution_count": 48,
   "metadata": {
    "collapsed": false
   },
   "outputs": [
    {
     "data": {
      "image/png": "[encoded data removed]",
      "text/plain": [
       "<matplotlib.figure.Figure at 0x190106c10>"
      ]
     },
     "metadata": {},
     "output_type": "display_data"
    }
   ],
   "source": [
    "plt.plot(range(2,20),inertias_ted)\n",
    "plt.show()"
   ]
  },
  {
   "cell_type": "code",
   "execution_count": 65,
   "metadata": {
    "collapsed": true
   },
   "outputs": [],
   "source": [
    "kmeans_ted = sklearn.cluster.KMeans(n_clusters=8).fit(words_top_ted_tsne)"
   ]
  },
  {
   "cell_type": "code",
   "execution_count": 66,
   "metadata": {
    "collapsed": false
   },
   "outputs": [
    {
     "name": "stderr",
     "output_type": "stream",
     "text": [
      "/usr/local/lib/python2.7/site-packages/bokeh/util/deprecation.py:34: BokehDeprecationWarning: \n",
      "Supplying a user-defined data source AND iterable values to glyph methods is deprecated.\n",
      "\n",
      "See https://github.com/bokeh/bokeh/issues/2056 for more information.\n",
      "\n",
      "  warn(message)\n"
     ]
    },
    {
     "data": {
      "text/html": [
       "\n",
       "\n",
       "    <div class=\"bk-root\">\n",
       "        <div class=\"bk-plotdiv\" id=\"3a3aacf4-f547-4f4a-902f-20e4c53ac91e\"></div>\n",
       "    </div>\n",
       "<script type=\"text/javascript\">\n",
       "  \n",
       "  (function(global) {\n",
       "    function now() {\n",
       "      return new Date();\n",
       "    }\n",
       "  \n",
       "    var force = false;\n",
       "  \n",
       "    if (typeof (window._bokeh_onload_callbacks) === \"undefined\" || force === true) {\n",
       "      window._bokeh_onload_callbacks = [];\n",
       "      window._bokeh_is_loading = undefined;\n",
       "    }\n",
       "  \n",
       "  \n",
       "    \n",
       "    if (typeof (window._bokeh_timeout) === \"undefined\" || force === true) {\n",
       "      window._bokeh_timeout = Date.now() + 0;\n",
       "      window._bokeh_failed_load = false;\n",
       "    }\n",
       "  \n",
       "    var NB_LOAD_WARNING = {'data': {'text/html':\n",
       "       \"<div style='background-color: #fdd'>\\n\"+\n",
       "       \"<p>\\n\"+\n",
       "       \"BokehJS does not appear to have successfully loaded. If loading BokehJS from CDN, this \\n\"+\n",
       "       \"may be due to a slow or bad network connection. Possible fixes:\\n\"+\n",
       "       \"</p>\\n\"+\n",
       "       \"<ul>\\n\"+\n",
       "       \"<li>re-rerun `output_notebook()` to attempt to load from CDN again, or</li>\\n\"+\n",
       "       \"<li>use INLINE resources instead, as so:</li>\\n\"+\n",
       "       \"</ul>\\n\"+\n",
       "       \"<code>\\n\"+\n",
       "       \"from bokeh.resources import INLINE\\n\"+\n",
       "       \"output_notebook(resources=INLINE)\\n\"+\n",
       "       \"</code>\\n\"+\n",
       "       \"</div>\"}};\n",
       "  \n",
       "    function display_loaded() {\n",
       "      if (window.Bokeh !== undefined) {\n",
       "        var el = document.getElementById(\"3a3aacf4-f547-4f4a-902f-20e4c53ac91e\");\n",
       "        el.textContent = \"BokehJS \" + Bokeh.version + \" successfully loaded.\";\n",
       "      } else if (Date.now() < window._bokeh_timeout) {\n",
       "        setTimeout(display_loaded, 100)\n",
       "      }\n",
       "    }\n",
       "  \n",
       "    function run_callbacks() {\n",
       "      window._bokeh_onload_callbacks.forEach(function(callback) { callback() });\n",
       "      delete window._bokeh_onload_callbacks\n",
       "      console.info(\"Bokeh: all callbacks have finished\");\n",
       "    }\n",
       "  \n",
       "    function load_libs(js_urls, callback) {\n",
       "      window._bokeh_onload_callbacks.push(callback);\n",
       "      if (window._bokeh_is_loading > 0) {\n",
       "        console.log(\"Bokeh: BokehJS is being loaded, scheduling callback at\", now());\n",
       "        return null;\n",
       "      }\n",
       "      if (js_urls == null || js_urls.length === 0) {\n",
       "        run_callbacks();\n",
       "        return null;\n",
       "      }\n",
       "      console.log(\"Bokeh: BokehJS not loaded, scheduling load and callback at\", now());\n",
       "      window._bokeh_is_loading = js_urls.length;\n",
       "      for (var i = 0; i < js_urls.length; i++) {\n",
       "        var url = js_urls[i];\n",
       "        var s = document.createElement('script');\n",
       "        s.src = url;\n",
       "        s.async = false;\n",
       "        s.onreadystatechange = s.onload = function() {\n",
       "          window._bokeh_is_loading--;\n",
       "          if (window._bokeh_is_loading === 0) {\n",
       "            console.log(\"Bokeh: all BokehJS libraries loaded\");\n",
       "            run_callbacks()\n",
       "          }\n",
       "        };\n",
       "        s.onerror = function() {\n",
       "          console.warn(\"failed to load library \" + url);\n",
       "        };\n",
       "        console.log(\"Bokeh: injecting script tag for BokehJS library: \", url);\n",
       "        document.getElementsByTagName(\"head\")[0].appendChild(s);\n",
       "      }\n",
       "    };var element = document.getElementById(\"3a3aacf4-f547-4f4a-902f-20e4c53ac91e\");\n",
       "    if (element == null) {\n",
       "      console.log(\"Bokeh: ERROR: autoload.js configured with elementid '3a3aacf4-f547-4f4a-902f-20e4c53ac91e' but no matching script tag was found. \")\n",
       "      return false;\n",
       "    }\n",
       "  \n",
       "    var js_urls = [];\n",
       "  \n",
       "    var inline_js = [\n",
       "      function(Bokeh) {\n",
       "        (function() {\n",
       "          var fn = function() {\n",
       "            var docs_json = {\"a5554b01-7f0b-4ac7-8738-2cf982c2683b\":{\"roots\":{\"references\":[{\"attributes\":{\"plot\":{\"id\":\"89149254-5973-40b7-aa04-4f11c6452484\",\"subtype\":\"Figure\",\"type\":\"Plot\"},\"source\":{\"id\":\"922a5f95-4730-4a29-9980-bd957d708466\",\"type\":\"ColumnDataSource\"},\"text\":{\"field\":\"names\"},\"text_align\":\"center\",\"text_color\":{\"value\":\"#555555\"},\"text_font_size\":{\"value\":\"8pt\"},\"x\":{\"field\":\"x1\"},\"y\":{\"field\":\"x2\"},\"y_offset\":{\"value\":6}},\"id\":\"3688a613-dd59-4afb-af6b-3adf1b2f1658\",\"type\":\"LabelSet\"},{\"attributes\":{},\"id\":\"2c72c7fd-ba12-42ac-be7b-f9bdb8d93f3e\",\"type\":\"BasicTickFormatter\"},{\"attributes\":{\"plot\":null,\"text\":\"word2vec T-SNE for most common words\"},\"id\":\"61e2bd26-4d22-41c6-94bb-85842c8680a3\",\"type\":\"Title\"},{\"attributes\":{\"dimension\":1,\"plot\":{\"id\":\"89149254-5973-40b7-aa04-4f11c6452484\",\"subtype\":\"Figure\",\"type\":\"Plot\"},\"ticker\":{\"id\":\"85672bb2-3609-448c-af4e-2b3f6ad28082\",\"type\":\"BasicTicker\"}},\"id\":\"6e7bcc2a-e00c-462e-aa2e-27d377bf024b\",\"type\":\"Grid\"},{\"attributes\":{\"fill_alpha\":{\"value\":0.1},\"fill_color\":{\"value\":\"#1f77b4\"},\"line_alpha\":{\"value\":0.1},\"line_color\":{\"value\":\"#1f77b4\"},\"size\":{\"units\":\"screen\",\"value\":8},\"x\":{\"field\":\"x1\"},\"y\":{\"field\":\"x2\"}},\"id\":\"5dd18885-c158-44ca-b778-a960cafe695b\",\"type\":\"Circle\"},{\"attributes\":{\"plot\":{\"id\":\"89149254-5973-40b7-aa04-4f11c6452484\",\"subtype\":\"Figure\",\"type\":\"Plot\"}},\"id\":\"85a846c6-7b58-44d3-ae5d-d2658e4c0517\",\"type\":\"PanTool\"},{\"attributes\":{\"formatter\":{\"id\":\"2c72c7fd-ba12-42ac-be7b-f9bdb8d93f3e\",\"type\":\"BasicTickFormatter\"},\"plot\":{\"id\":\"89149254-5973-40b7-aa04-4f11c6452484\",\"subtype\":\"Figure\",\"type\":\"Plot\"},\"ticker\":{\"id\":\"911c9a22-cfc9-43da-8d2e-7766cd503e45\",\"type\":\"BasicTicker\"}},\"id\":\"9c4fe1dd-9e09-4c78-9903-f7e41560a37c\",\"type\":\"LinearAxis\"},{\"attributes\":{\"formatter\":{\"id\":\"2e63a5dd-2377-434c-a612-1a7934793856\",\"type\":\"BasicTickFormatter\"},\"plot\":{\"id\":\"89149254-5973-40b7-aa04-4f11c6452484\",\"subtype\":\"Figure\",\"type\":\"Plot\"},\"ticker\":{\"id\":\"85672bb2-3609-448c-af4e-2b3f6ad28082\",\"type\":\"BasicTicker\"}},\"id\":\"ff7d0811-14f0-4998-b1f7-7644a6089dca\",\"type\":\"LinearAxis\"},{\"attributes\":{},\"id\":\"911c9a22-cfc9-43da-8d2e-7766cd503e45\",\"type\":\"BasicTicker\"},{\"attributes\":{},\"id\":\"85672bb2-3609-448c-af4e-2b3f6ad28082\",\"type\":\"BasicTicker\"},{\"attributes\":{\"fill_color\":{\"field\":\"fill_color\"},\"line_color\":{\"value\":\"#1f77b4\"},\"size\":{\"units\":\"screen\",\"value\":8},\"x\":{\"field\":\"x1\"},\"y\":{\"field\":\"x2\"}},\"id\":\"b82d721a-2f24-4658-8d5d-af0d2937aa24\",\"type\":\"Circle\"},{\"attributes\":{},\"id\":\"2e63a5dd-2377-434c-a612-1a7934793856\",\"type\":\"BasicTickFormatter\"},{\"attributes\":{\"plot\":{\"id\":\"89149254-5973-40b7-aa04-4f11c6452484\",\"subtype\":\"Figure\",\"type\":\"Plot\"}},\"id\":\"b68e935d-f7a6-4354-a1a8-77182a265e4f\",\"type\":\"ResetTool\"},{\"attributes\":{\"plot\":{\"id\":\"89149254-5973-40b7-aa04-4f11c6452484\",\"subtype\":\"Figure\",\"type\":\"Plot\"}},\"id\":\"e5e2cd3e-2d13-43fb-8c38-946d1bc11d14\",\"type\":\"WheelZoomTool\"},{\"attributes\":{\"plot\":{\"id\":\"89149254-5973-40b7-aa04-4f11c6452484\",\"subtype\":\"Figure\",\"type\":\"Plot\"},\"ticker\":{\"id\":\"911c9a22-cfc9-43da-8d2e-7766cd503e45\",\"type\":\"BasicTicker\"}},\"id\":\"41c2f84e-9b80-48a7-94ef-7358aee9b63b\",\"type\":\"Grid\"},{\"attributes\":{\"below\":[{\"id\":\"9c4fe1dd-9e09-4c78-9903-f7e41560a37c\",\"type\":\"LinearAxis\"}],\"left\":[{\"id\":\"ff7d0811-14f0-4998-b1f7-7644a6089dca\",\"type\":\"LinearAxis\"}],\"renderers\":[{\"id\":\"9c4fe1dd-9e09-4c78-9903-f7e41560a37c\",\"type\":\"LinearAxis\"},{\"id\":\"41c2f84e-9b80-48a7-94ef-7358aee9b63b\",\"type\":\"Grid\"},{\"id\":\"ff7d0811-14f0-4998-b1f7-7644a6089dca\",\"type\":\"LinearAxis\"},{\"id\":\"6e7bcc2a-e00c-462e-aa2e-27d377bf024b\",\"type\":\"Grid\"},{\"id\":\"35a391f2-f508-4b7b-b2d2-dc21fa4917f1\",\"type\":\"GlyphRenderer\"},{\"id\":\"3688a613-dd59-4afb-af6b-3adf1b2f1658\",\"type\":\"LabelSet\"}],\"title\":{\"id\":\"61e2bd26-4d22-41c6-94bb-85842c8680a3\",\"type\":\"Title\"},\"tool_events\":{\"id\":\"be18ba3b-ccb7-4c46-ba7e-e44e0682994f\",\"type\":\"ToolEvents\"},\"toolbar\":{\"id\":\"4ce8866e-9168-4222-9de7-be975466a8c3\",\"type\":\"Toolbar\"},\"toolbar_location\":\"above\",\"x_range\":{\"id\":\"e27b5032-525e-435c-b3bc-a31af43458a0\",\"type\":\"DataRange1d\"},\"y_range\":{\"id\":\"7151c56f-8127-4e4b-9b93-4fcb06fab0c8\",\"type\":\"DataRange1d\"}},\"id\":\"89149254-5973-40b7-aa04-4f11c6452484\",\"subtype\":\"Figure\",\"type\":\"Plot\"},{\"attributes\":{\"callback\":null},\"id\":\"7151c56f-8127-4e4b-9b93-4fcb06fab0c8\",\"type\":\"DataRange1d\"},{\"attributes\":{\"data_source\":{\"id\":\"922a5f95-4730-4a29-9980-bd957d708466\",\"type\":\"ColumnDataSource\"},\"glyph\":{\"id\":\"b82d721a-2f24-4658-8d5d-af0d2937aa24\",\"type\":\"Circle\"},\"hover_glyph\":null,\"muted_glyph\":null,\"nonselection_glyph\":{\"id\":\"5dd18885-c158-44ca-b778-a960cafe695b\",\"type\":\"Circle\"},\"selection_glyph\":null},\"id\":\"35a391f2-f508-4b7b-b2d2-dc21fa4917f1\",\"type\":\"GlyphRenderer\"},{\"attributes\":{\"callback\":null},\"id\":\"e27b5032-525e-435c-b3bc-a31af43458a0\",\"type\":\"DataRange1d\"},{\"attributes\":{\"callback\":null,\"column_names\":[\"x2\",\"x1\",\"names\",\"fill_color\"],\"data\":{\"fill_color\":[\"#7fffff\",\"#ff7fdf\",\"#ffdf7f\",\"#ff7fdf\",\"#ffdf7f\",\"#ffdf7f\",\"#7f9fff\",\"#ff7fdf\",\"#ffdf7f\",\"#ff7f7f\",\"#ff7f7f\",\"#7f9fff\",\"#7f9fff\",\"#ffdf7f\",\"#ffdf7f\",\"#ff7f7f\",\"#7f9fff\",\"#bfff7f\",\"#ff7f7f\",\"#7fff9f\",\"#ffdf7f\",\"#7fff9f\",\"#ffdf7f\",\"#ffdf7f\",\"#ff7fdf\",\"#ff7fdf\",\"#ff7fdf\",\"#ff7fdf\",\"#7fff9f\",\"#ff7fdf\",\"#ff7fdf\",\"#ff7f7f\",\"#ff7fdf\",\"#7fff9f\",\"#ffdf7f\",\"#7fffff\",\"#ff7f7f\",\"#ff7f7f\",\"#ff7fdf\",\"#ff7fdf\",\"#ffdf7f\",\"#ff7fdf\",\"#ff7f7f\",\"#ffdf7f\",\"#7fffff\",\"#ff7fdf\",\"#ff7f7f\",\"#ff7fdf\",\"#bf7fff\",\"#ffdf7f\",\"#7fffff\",\"#7f9fff\",\"#ffdf7f\",\"#ff7fdf\",\"#ff7f7f\",\"#ff7f7f\",\"#7fff9f\",\"#ffdf7f\",\"#7f9fff\",\"#ffdf7f\",\"#7f9fff\",\"#7fff9f\",\"#ff7f7f\",\"#ff7f7f\",\"#7fff9f\",\"#7f9fff\",\"#ff7f7f\",\"#ffdf7f\",\"#ff7fdf\",\"#7f9fff\",\"#7fffff\",\"#7fff9f\",\"#7fff9f\",\"#ff7fdf\",\"#bf7fff\",\"#7fffff\",\"#ff7f7f\",\"#bf7fff\",\"#bf7fff\",\"#ffdf7f\",\"#7fff9f\",\"#ff7fdf\",\"#ffdf7f\",\"#bfff7f\",\"#ff7fdf\",\"#ff7fdf\",\"#7fffff\",\"#ff7f7f\",\"#bfff7f\",\"#7f9fff\",\"#ff7fdf\",\"#7fff9f\",\"#7f9fff\",\"#7f9fff\",\"#7fff9f\",\"#7fff9f\",\"#7f9fff\",\"#ffdf7f\",\"#7f9fff\",\"#7fff9f\",\"#ff7f7f\",\"#7fffff\",\"#bf7fff\",\"#ff7fdf\",\"#bf7fff\",\"#ff7fdf\",\"#7f9fff\",\"#bfff7f\",\"#7fffff\",\"#bfff7f\",\"#7f9fff\",\"#ffdf7f\",\"#ff7fdf\",\"#ff7fdf\",\"#ff7f7f\",\"#ff7fdf\",\"#ffdf7f\",\"#bfff7f\",\"#ff7fdf\",\"#bfff7f\",\"#bf7fff\",\"#7fff9f\",\"#7f9fff\",\"#7f9fff\",\"#bf7fff\",\"#7fff9f\",\"#7f9fff\",\"#ff7fdf\",\"#ffdf7f\",\"#bfff7f\",\"#ff7fdf\",\"#ffdf7f\",\"#ff7fdf\",\"#7f9fff\",\"#ffdf7f\",\"#ffdf7f\",\"#ff7fdf\",\"#7fffff\",\"#7fff9f\",\"#ff7fdf\",\"#7f9fff\",\"#7fffff\",\"#bf7fff\",\"#7fff9f\",\"#7f9fff\",\"#7fff9f\",\"#ff7fdf\",\"#7fffff\",\"#ff7fdf\",\"#bf7fff\",\"#ffdf7f\",\"#bf7fff\",\"#7f9fff\",\"#7fff9f\",\"#ff7fdf\",\"#bfff7f\",\"#7fff9f\",\"#7fff9f\",\"#bfff7f\",\"#7fff9f\",\"#7fff9f\",\"#7f9fff\",\"#7fffff\",\"#bfff7f\",\"#ff7fdf\",\"#bf7fff\",\"#7fffff\",\"#bf7fff\",\"#bfff7f\",\"#7fffff\",\"#ff7fdf\",\"#7f9fff\",\"#7fff9f\",\"#ffdf7f\",\"#ffdf7f\",\"#ff7fdf\",\"#ff7fdf\",\"#bf7fff\",\"#ff7fdf\",\"#ff7f7f\",\"#7f9fff\",\"#ff7fdf\",\"#7fffff\",\"#ffdf7f\",\"#bf7fff\",\"#7fffff\",\"#7fffff\",\"#bfff7f\",\"#7f9fff\",\"#7f9fff\",\"#bfff7f\",\"#7fff9f\",\"#7fff9f\",\"#ff7fdf\",\"#bf7fff\",\"#bfff7f\",\"#ffdf7f\",\"#ff7f7f\",\"#bf7fff\",\"#bfff7f\",\"#ff7fdf\",\"#ffdf7f\",\"#bfff7f\",\"#bfff7f\",\"#ff7f7f\",\"#7fffff\",\"#bf7fff\",\"#ff7f7f\",\"#bfff7f\",\"#ff7f7f\",\"#7f9fff\",\"#bfff7f\",\"#ff7fdf\",\"#ffdf7f\",\"#ffdf7f\",\"#7fff9f\",\"#ff7f7f\",\"#bfff7f\",\"#bf7fff\",\"#ffdf7f\",\"#bf7fff\",\"#bf7fff\",\"#ff7fdf\",\"#7f9fff\",\"#7fffff\",\"#ffdf7f\",\"#7fff9f\",\"#7fff9f\",\"#7fff9f\",\"#7f9fff\",\"#ff7fdf\",\"#ff7fdf\",\"#ff7f7f\",\"#7f9fff\",\"#ff7fdf\",\"#ffdf7f\",\"#ffdf7f\",\"#7fff9f\",\"#7fff9f\",\"#7f9fff\",\"#bf7fff\",\"#ffdf7f\",\"#7fff9f\",\"#7fff9f\",\"#bf7fff\",\"#7fffff\",\"#7f9fff\",\"#7fffff\",\"#ffdf7f\",\"#bfff7f\",\"#bfff7f\",\"#bfff7f\",\"#7f9fff\",\"#7fffff\",\"#7fffff\",\"#ff7f7f\",\"#bfff7f\",\"#bf7fff\",\"#ff7f7f\",\"#ffdf7f\",\"#7fff9f\",\"#7fff9f\",\"#ff7fdf\",\"#bfff7f\",\"#7f9fff\",\"#7fffff\",\"#ff7f7f\",\"#7f9fff\",\"#7fffff\",\"#7fffff\",\"#ffdf7f\",\"#7fffff\",\"#7fffff\",\"#ff7fdf\",\"#7fffff\",\"#ffdf7f\",\"#7f9fff\",\"#7fffff\",\"#ff7fdf\",\"#bfff7f\",\"#7f9fff\",\"#7f9fff\",\"#bfff7f\",\"#bf7fff\",\"#bfff7f\",\"#ff7fdf\",\"#ff7f7f\",\"#ff7f7f\",\"#7f9fff\",\"#ff7fdf\",\"#bf7fff\",\"#7fff9f\",\"#7fffff\",\"#7fff9f\",\"#ff7fdf\",\"#7fff9f\",\"#ff7f7f\",\"#ff7f7f\",\"#7f9fff\",\"#ff7fdf\",\"#ffdf7f\",\"#ff7f7f\",\"#7fffff\",\"#bf7fff\",\"#ff7f7f\",\"#bf7fff\",\"#7fff9f\",\"#ffdf7f\",\"#ff7f7f\",\"#7f9fff\",\"#ff7fdf\",\"#7fff9f\",\"#7f9fff\",\"#ff7fdf\",\"#7fff9f\",\"#7f9fff\",\"#ff7f7f\",\"#bf7fff\",\"#bfff7f\",\"#7f9fff\",\"#7f9fff\",\"#ff7fdf\",\"#ffdf7f\",\"#7f9fff\",\"#ffdf7f\",\"#ff7f7f\",\"#ff7fdf\",\"#7fffff\",\"#ff7f7f\",\"#ffdf7f\",\"#bfff7f\",\"#ff7fdf\",\"#ff7fdf\",\"#ff7f7f\",\"#7fffff\",\"#7fff9f\",\"#ff7fdf\",\"#7fffff\",\"#7f9fff\",\"#7f9fff\",\"#7fff9f\",\"#7fffff\",\"#bfff7f\",\"#bfff7f\",\"#bfff7f\",\"#7fff9f\",\"#7fffff\",\"#bfff7f\",\"#ffdf7f\",\"#7fffff\",\"#bf7fff\",\"#bf7fff\",\"#bfff7f\",\"#ff7f7f\",\"#7fff9f\",\"#ff7fdf\",\"#bfff7f\",\"#ff7f7f\",\"#ff7fdf\",\"#ff7f7f\",\"#7f9fff\",\"#7fffff\",\"#ff7fdf\",\"#ff7fdf\",\"#ff7fdf\",\"#7f9fff\",\"#7f9fff\",\"#bf7fff\",\"#7fffff\",\"#ff7fdf\",\"#7fffff\",\"#ff7f7f\",\"#7fffff\",\"#bfff7f\",\"#7fffff\",\"#ff7fdf\",\"#7fffff\",\"#7fff9f\",\"#ff7fdf\",\"#bfff7f\",\"#bfff7f\",\"#7fff9f\",\"#7f9fff\",\"#bfff7f\",\"#7f9fff\",\"#ff7fdf\",\"#bfff7f\",\"#7fffff\",\"#7fffff\",\"#7fffff\",\"#ffdf7f\",\"#ffdf7f\",\"#ff7fdf\",\"#7fffff\",\"#ff7f7f\",\"#7f9fff\",\"#7fffff\",\"#7fffff\",\"#ff7fdf\",\"#7fffff\",\"#bf7fff\",\"#7fff9f\",\"#bfff7f\",\"#ff7f7f\",\"#bfff7f\",\"#ffdf7f\",\"#bf7fff\",\"#ff7f7f\",\"#7fff9f\",\"#bf7fff\",\"#7fff9f\",\"#7fff9f\",\"#7fff9f\",\"#bfff7f\",\"#bf7fff\",\"#ff7f7f\",\"#7fffff\",\"#bfff7f\",\"#ff7fdf\",\"#7fffff\",\"#7fffff\",\"#ffdf7f\",\"#7fffff\",\"#ffdf7f\",\"#7fff9f\",\"#ff7fdf\",\"#ff7f7f\",\"#bfff7f\",\"#ffdf7f\",\"#bf7fff\",\"#7fff9f\",\"#bfff7f\",\"#7f9fff\",\"#bfff7f\",\"#7fffff\",\"#ffdf7f\",\"#bfff7f\",\"#bfff7f\",\"#ff7f7f\",\"#ff7fdf\",\"#7fff9f\",\"#7fffff\",\"#bf7fff\",\"#ff7f7f\",\"#bfff7f\",\"#ffdf7f\",\"#7fffff\",\"#7fff9f\",\"#7f9fff\",\"#7f9fff\",\"#bfff7f\",\"#ffdf7f\",\"#ff7f7f\",\"#7f9fff\",\"#7f9fff\",\"#7f9fff\",\"#ff7fdf\",\"#ff7f7f\",\"#ff7fdf\",\"#7fffff\",\"#7fffff\",\"#7fffff\",\"#ff7f7f\",\"#ff7fdf\",\"#7fff9f\",\"#bfff7f\",\"#ff7f7f\",\"#7fffff\",\"#bfff7f\",\"#bfff7f\",\"#7f9fff\",\"#ffdf7f\",\"#7f9fff\",\"#bfff7f\",\"#ffdf7f\",\"#ff7f7f\",\"#7f9fff\",\"#7fff9f\",\"#ff7fdf\",\"#ff7f7f\",\"#ff7fdf\",\"#bfff7f\",\"#7f9fff\",\"#ff7f7f\",\"#ff7f7f\",\"#ffdf7f\",\"#7fffff\",\"#ff7f7f\",\"#bfff7f\",\"#ffdf7f\",\"#ff7fdf\",\"#7fff9f\",\"#ffdf7f\",\"#bfff7f\",\"#7f9fff\",\"#ff7f7f\",\"#7fffff\",\"#bfff7f\",\"#ffdf7f\",\"#7fffff\",\"#ff7f7f\",\"#ffdf7f\",\"#ff7fdf\",\"#bf7fff\",\"#ff7fdf\",\"#7fffff\",\"#ffdf7f\",\"#ff7fdf\",\"#ff7f7f\",\"#ff7fdf\",\"#bf7fff\",\"#bfff7f\",\"#bf7fff\",\"#7fffff\",\"#bfff7f\",\"#bfff7f\",\"#bf7fff\",\"#ffdf7f\",\"#bf7fff\",\"#7fff9f\",\"#bfff7f\",\"#ff7f7f\",\"#ff7fdf\",\"#ff7fdf\",\"#ff7fdf\",\"#bfff7f\",\"#7fffff\",\"#7fff9f\",\"#7f9fff\",\"#bfff7f\",\"#7fffff\",\"#bf7fff\",\"#ff7f7f\",\"#ff7f7f\",\"#7fffff\",\"#ffdf7f\",\"#bfff7f\",\"#7fff9f\",\"#bf7fff\",\"#ffdf7f\",\"#ffdf7f\",\"#7fff9f\",\"#ff7f7f\",\"#bf7fff\",\"#bf7fff\",\"#ffdf7f\",\"#ff7f7f\",\"#ff7fdf\",\"#bfff7f\",\"#7fffff\",\"#ff7fdf\",\"#7f9fff\",\"#ff7f7f\",\"#7f9fff\",\"#bfff7f\",\"#bfff7f\",\"#7f9fff\",\"#ff7fdf\",\"#ffdf7f\",\"#bfff7f\",\"#ff7f7f\",\"#bfff7f\",\"#7f9fff\",\"#7fffff\",\"#7fffff\",\"#bf7fff\",\"#ff7f7f\",\"#ff7fdf\",\"#7f9fff\",\"#7f9fff\",\"#7fffff\",\"#bfff7f\",\"#7f9fff\",\"#ff7fdf\",\"#ff7fdf\",\"#ffdf7f\",\"#7fffff\",\"#ffdf7f\",\"#7fffff\",\"#ff7f7f\",\"#7fffff\",\"#7fff9f\",\"#bfff7f\",\"#ffdf7f\",\"#7fffff\",\"#ff7f7f\",\"#bfff7f\",\"#7fffff\",\"#bf7fff\",\"#ff7fdf\",\"#7fffff\",\"#ffdf7f\",\"#bfff7f\",\"#ffdf7f\",\"#ff7f7f\",\"#ff7fdf\",\"#7fff9f\",\"#7f9fff\",\"#bfff7f\",\"#ff7fdf\",\"#ff7fdf\",\"#7fff9f\",\"#ff7fdf\",\"#ffdf7f\",\"#7f9fff\",\"#ff7f7f\",\"#bfff7f\",\"#bfff7f\",\"#7fffff\",\"#ff7fdf\",\"#7fffff\",\"#bfff7f\",\"#7fff9f\",\"#bfff7f\",\"#7fffff\",\"#ffdf7f\",\"#7fffff\",\"#bfff7f\",\"#ffdf7f\",\"#7fffff\",\"#bf7fff\",\"#bfff7f\",\"#bfff7f\",\"#ff7fdf\",\"#bfff7f\",\"#7fff9f\",\"#7fff9f\",\"#7fffff\",\"#ff7fdf\",\"#ff7f7f\",\"#7f9fff\",\"#7fff9f\",\"#bfff7f\",\"#7fff9f\",\"#7fffff\",\"#7fffff\",\"#ff7f7f\",\"#ffdf7f\",\"#ffdf7f\",\"#bfff7f\",\"#bf7fff\",\"#7f9fff\",\"#ffdf7f\",\"#ff7fdf\",\"#7fffff\",\"#bf7fff\",\"#bfff7f\",\"#bfff7f\",\"#ff7f7f\",\"#ff7fdf\",\"#bf7fff\",\"#7f9fff\",\"#bfff7f\",\"#7fffff\",\"#bfff7f\",\"#ff7f7f\",\"#7fff9f\",\"#ffdf7f\",\"#ffdf7f\",\"#bf7fff\",\"#ffdf7f\",\"#bfff7f\",\"#7fffff\",\"#bfff7f\",\"#ff7fdf\",\"#7fff9f\",\"#bfff7f\",\"#bfff7f\",\"#bfff7f\",\"#7fffff\",\"#7fffff\",\"#ff7f7f\",\"#7fffff\",\"#bfff7f\",\"#7fff9f\",\"#ff7fdf\",\"#ff7fdf\",\"#ffdf7f\",\"#7fff9f\",\"#bfff7f\",\"#7fff9f\",\"#ff7f7f\",\"#bfff7f\",\"#bfff7f\",\"#7fff9f\",\"#ff7f7f\",\"#7fffff\",\"#7f9fff\",\"#bfff7f\",\"#ff7f7f\",\"#7fffff\",\"#ff7fdf\",\"#7fffff\",\"#bfff7f\",\"#7f9fff\",\"#7fff9f\",\"#7fffff\",\"#ff7fdf\",\"#ff7fdf\",\"#7f9fff\",\"#ff7fdf\",\"#7fff9f\",\"#ff7fdf\",\"#ff7f7f\",\"#ff7fdf\",\"#ffdf7f\",\"#bfff7f\",\"#ffdf7f\",\"#bf7fff\",\"#7fff9f\",\"#7fffff\",\"#ff7f7f\",\"#7f9fff\",\"#bfff7f\",\"#7fffff\",\"#7fffff\",\"#7fffff\",\"#ff7f7f\",\"#7fffff\",\"#7fffff\",\"#bfff7f\",\"#ff7f7f\",\"#7fffff\",\"#7fffff\",\"#bfff7f\",\"#7fffff\",\"#ffdf7f\",\"#7fffff\",\"#ff7fdf\",\"#bfff7f\",\"#bf7fff\",\"#bf7fff\",\"#bfff7f\",\"#7fff9f\",\"#ff7f7f\",\"#bfff7f\",\"#bf7fff\",\"#bfff7f\",\"#7f9fff\",\"#ff7fdf\",\"#ff7fdf\",\"#ff7f7f\",\"#bf7fff\",\"#ffdf7f\",\"#7fffff\",\"#7fff9f\",\"#bfff7f\",\"#ffdf7f\",\"#ffdf7f\",\"#7fffff\",\"#7fffff\",\"#ff7fdf\",\"#7f9fff\",\"#bfff7f\",\"#bfff7f\",\"#bfff7f\",\"#7f9fff\",\"#7f9fff\",\"#7fffff\",\"#ff7fdf\",\"#7fffff\",\"#bfff7f\",\"#7fffff\",\"#ffdf7f\",\"#ff7fdf\",\"#bfff7f\",\"#ff7f7f\",\"#ffdf7f\",\"#bf7fff\",\"#ff7f7f\",\"#7fffff\",\"#7fffff\",\"#bfff7f\",\"#7fffff\",\"#7fff9f\",\"#7fff9f\",\"#bfff7f\",\"#7fffff\",\"#bfff7f\",\"#7fff9f\",\"#bfff7f\",\"#bfff7f\",\"#ff7fdf\",\"#bfff7f\",\"#7fffff\",\"#ffdf7f\",\"#7fffff\",\"#bfff7f\",\"#bfff7f\",\"#7f9fff\",\"#7fff9f\",\"#7fff9f\",\"#ff7fdf\",\"#7fff9f\",\"#bfff7f\",\"#7fff9f\",\"#7fffff\",\"#7fffff\",\"#ff7f7f\",\"#ff7fdf\",\"#7f9fff\",\"#7fff9f\",\"#bfff7f\",\"#bfff7f\",\"#7fffff\",\"#ff7f7f\",\"#bfff7f\",\"#ff7fdf\",\"#7fff9f\",\"#ff7fdf\",\"#ff7f7f\",\"#7fffff\",\"#bfff7f\",\"#7fffff\",\"#7fffff\",\"#ff7fdf\",\"#7fffff\",\"#bfff7f\",\"#7fffff\",\"#7f9fff\",\"#7fffff\",\"#7fffff\",\"#7fffff\",\"#7f9fff\",\"#7f9fff\",\"#7f9fff\",\"#7fff9f\",\"#bf7fff\",\"#7fffff\",\"#ff7f7f\",\"#ffdf7f\",\"#ff7fdf\",\"#ff7fdf\",\"#7fffff\",\"#bfff7f\",\"#ff7fdf\",\"#7f9fff\",\"#bfff7f\",\"#7fff9f\",\"#ff7f7f\",\"#ffdf7f\",\"#bfff7f\",\"#7fffff\",\"#7fffff\",\"#7fffff\",\"#bfff7f\",\"#ffdf7f\",\"#ff7fdf\",\"#ff7fdf\",\"#7fffff\",\"#bfff7f\",\"#ffdf7f\",\"#7fff9f\",\"#ff7fdf\",\"#ff7fdf\",\"#7fff9f\",\"#7fff9f\",\"#7fffff\",\"#bf7fff\",\"#7fff9f\",\"#ffdf7f\",\"#ff7fdf\",\"#7f9fff\",\"#7fff9f\",\"#bfff7f\",\"#bf7fff\",\"#7f9fff\",\"#7fff9f\",\"#ffdf7f\",\"#7fffff\",\"#bfff7f\",\"#bf7fff\",\"#bfff7f\",\"#7fffff\",\"#bf7fff\",\"#ff7fdf\",\"#7fffff\",\"#7fffff\",\"#ff7f7f\",\"#bfff7f\",\"#bfff7f\",\"#bfff7f\",\"#bfff7f\",\"#ff7fdf\",\"#ff7f7f\",\"#ff7fdf\",\"#ffdf7f\",\"#7fff9f\",\"#7f9fff\",\"#7fffff\",\"#ff7f7f\",\"#bf7fff\",\"#7fffff\",\"#bfff7f\",\"#7fff9f\",\"#ff7fdf\",\"#ff7fdf\",\"#ff7fdf\",\"#7fffff\",\"#7f9fff\",\"#ffdf7f\",\"#bfff7f\",\"#ff7fdf\",\"#7fffff\",\"#7fffff\",\"#7fffff\",\"#7fff9f\",\"#7fffff\",\"#7f9fff\",\"#ffdf7f\",\"#7fffff\",\"#7fff9f\",\"#bfff7f\",\"#7fff9f\",\"#bfff7f\",\"#ffdf7f\",\"#7fff9f\",\"#ff7f7f\",\"#7fff9f\",\"#bfff7f\",\"#bfff7f\",\"#ff7fdf\",\"#bf7fff\",\"#ffdf7f\",\"#bfff7f\",\"#ffdf7f\",\"#ff7f7f\",\"#7fffff\",\"#7f9fff\",\"#ff7f7f\",\"#bfff7f\",\"#7fffff\",\"#bfff7f\",\"#7fff9f\",\"#ff7fdf\",\"#7fff9f\",\"#7fffff\",\"#7fffff\",\"#7fffff\",\"#bfff7f\",\"#7f9fff\",\"#7fffff\",\"#ff7fdf\",\"#bfff7f\",\"#7f9fff\",\"#7fff9f\",\"#ff7f7f\",\"#bf7fff\",\"#7fff9f\",\"#ff7fdf\",\"#ffdf7f\",\"#ff7f7f\",\"#ff7f7f\",\"#ff7fdf\",\"#bfff7f\",\"#7fffff\",\"#7fffff\",\"#ff7fdf\",\"#ff7fdf\",\"#7fff9f\",\"#ff7fdf\",\"#bfff7f\",\"#bfff7f\",\"#7fffff\",\"#ffdf7f\",\"#7fff9f\",\"#7f9fff\",\"#7fffff\",\"#ffdf7f\",\"#ffdf7f\",\"#7fffff\",\"#7fffff\",\"#ffdf7f\",\"#ff7f7f\",\"#ff7fdf\",\"#ffdf7f\",\"#ff7f7f\",\"#ff7f7f\",\"#ff7fdf\",\"#ff7f7f\",\"#7fffff\",\"#bfff7f\",\"#ff7f7f\",\"#7f9fff\",\"#7f9fff\",\"#7fffff\",\"#7f9fff\",\"#7fffff\",\"#ff7f7f\",\"#7fff9f\",\"#bfff7f\",\"#ffdf7f\",\"#ff7f7f\",\"#bfff7f\",\"#bf7fff\",\"#ff7fdf\",\"#7fffff\",\"#ffdf7f\",\"#ff7f7f\",\"#ff7fdf\"],\"names\":[\"the\",\"and\",\"to\",\"of\",\"a\",\"that\",\"i\",\"in\",\"it\",\"you\",\"we\",\"is\",\"s\",\"this\",\"so\",\"they\",\"was\",\"for\",\"are\",\"have\",\"but\",\"what\",\"on\",\"with\",\"can\",\"t\",\"about\",\"there\",\"be\",\"as\",\"at\",\"all\",\"not\",\"do\",\"my\",\"one\",\"re\",\"people\",\"like\",\"if\",\"from\",\"now\",\"our\",\"he\",\"an\",\"just\",\"these\",\"or\",\"when\",\"because\",\"very\",\"me\",\"out\",\"by\",\"them\",\"how\",\"know\",\"up\",\"going\",\"had\",\"more\",\"think\",\"who\",\"were\",\"see\",\"your\",\"their\",\"which\",\"would\",\"here\",\"really\",\"get\",\"ve\",\"then\",\"m\",\"world\",\"us\",\"time\",\"some\",\"has\",\"don\",\"actually\",\"into\",\"way\",\"where\",\"will\",\"years\",\"things\",\"other\",\"no\",\"could\",\"go\",\"well\",\"want\",\"been\",\"make\",\"right\",\"she\",\"said\",\"something\",\"those\",\"first\",\"two\",\"than\",\"much\",\"also\",\"look\",\"new\",\"thing\",\"little\",\"got\",\"back\",\"over\",\"most\",\"say\",\"even\",\"his\",\"life\",\"only\",\"work\",\"many\",\"take\",\"need\",\"did\",\"lot\",\"kind\",\"why\",\"good\",\"around\",\"every\",\"different\",\"down\",\"ll\",\"let\",\"her\",\"through\",\"same\",\"being\",\"come\",\"d\",\"day\",\"year\",\"three\",\"use\",\"doing\",\"put\",\"called\",\"any\",\"today\",\"percent\",\"made\",\"after\",\"thank\",\"tell\",\"great\",\"human\",\"find\",\"didn\",\"fact\",\"talk\",\"change\",\"started\",\"another\",\"idea\",\"big\",\"last\",\"own\",\"before\",\"its\",\"never\",\"should\",\"better\",\"give\",\"thought\",\"went\",\"might\",\"important\",\"000\",\"again\",\"together\",\"able\",\"still\",\"problem\",\"off\",\"next\",\"part\",\"course\",\"system\",\"him\",\"does\",\"each\",\"start\",\"show\",\"long\",\"ago\",\"story\",\"came\",\"brain\",\"few\",\"bit\",\"between\",\"used\",\"place\",\"technology\",\"women\",\"too\",\"old\",\"mean\",\"data\",\"water\",\"looking\",\"question\",\"maybe\",\"found\",\"love\",\"doesn\",\"end\",\"example\",\"10\",\"done\",\"point\",\"four\",\"real\",\"wanted\",\"ever\",\"school\",\"understand\",\"sort\",\"live\",\"call\",\"whole\",\"always\",\"children\",\"trying\",\"may\",\"person\",\"away\",\"believe\",\"feel\",\"try\",\"million\",\"working\",\"help\",\"everything\",\"five\",\"country\",\"thinking\",\"second\",\"using\",\"information\",\"money\",\"means\",\"took\",\"power\",\"times\",\"high\",\"space\",\"number\",\"kids\",\"home\",\"become\",\"create\",\"small\",\"design\",\"making\",\"best\",\"left\",\"getting\",\"future\",\"enough\",\"man\",\"quite\",\"city\",\"without\",\"sense\",\"happened\",\"comes\",\"social\",\"probably\",\"light\",\"less\",\"talking\",\"energy\",\"am\",\"building\",\"science\",\"food\",\"body\",\"told\",\"interesting\",\"half\",\"ask\",\"pretty\",\"play\",\"hard\",\"anything\",\"lives\",\"countries\",\"coming\",\"such\",\"family\",\"stuff\",\"dollars\",\"moment\",\"earth\",\"20\",\"imagine\",\"across\",\"side\",\"saw\",\"while\",\"happen\",\"okay\",\"once\",\"build\",\"having\",\"men\",\"later\",\"experience\",\"makes\",\"asked\",\"living\",\"seen\",\"says\",\"room\",\"hand\",\"simple\",\"health\",\"ways\",\"else\",\"case\",\"yet\",\"almost\",\"young\",\"days\",\"nothing\",\"bad\",\"care\",\"happens\",\"goes\",\"move\",\"states\",\"reason\",\"computer\",\"open\",\"learn\",\"africa\",\"process\",\"inside\",\"someone\",\"six\",\"far\",\"project\",\"mind\",\"remember\",\"single\",\"picture\",\"both\",\"whether\",\"problems\",\"saying\",\"community\",\"basically\",\"already\",\"within\",\"looked\",\"myself\",\"billion\",\"possible\",\"often\",\"business\",\"planet\",\"global\",\"top\",\"everybody\",\"sure\",\"public\",\"set\",\"wrong\",\"car\",\"book\",\"keep\",\"yes\",\"answer\",\"oh\",\"sometimes\",\"hope\",\"true\",\"history\",\"war\",\"guy\",\"child\",\"instead\",\"months\",\"ideas\",\"looks\",\"matter\",\"government\",\"amazing\",\"united\",\"since\",\"bring\",\"age\",\"cells\",\"job\",\"heard\",\"until\",\"face\",\"wasn\",\"100\",\"read\",\"control\",\"isn\",\"research\",\"30\",\"words\",\"u\",\"group\",\"under\",\"self\",\"somebody\",\"built\",\"state\",\"woman\",\"turn\",\"beautiful\",\"friends\",\"line\",\"knew\",\"couple\",\"order\",\"form\",\"yeah\",\"internet\",\"middle\",\"music\",\"piece\",\"nature\",\"head\",\"though\",\"stop\",\"everyone\",\"50\",\"places\",\"video\",\"learned\",\"language\",\"run\",\"night\",\"decided\",\"study\",\"word\",\"cancer\",\"works\",\"taking\",\"became\",\"exactly\",\"species\",\"completely\",\"society\",\"education\",\"against\",\"stories\",\"large\",\"share\",\"level\",\"heart\",\"america\",\"model\",\"questions\",\"gets\",\"mother\",\"god\",\"company\",\"turns\",\"ourselves\",\"happening\",\"hear\",\"art\",\"themselves\",\"must\",\"itself\",\"rather\",\"kinds\",\"students\",\"name\",\"hours\",\"disease\",\"front\",\"house\",\"huge\",\"couldn\",\"created\",\"universe\",\"ok\",\"animals\",\"american\",\"environment\",\"worked\",\"minutes\",\"ones\",\"black\",\"perhaps\",\"1\",\"past\",\"third\",\"along\",\"finally\",\"others\",\"sound\",\"early\",\"game\",\"thousands\",\"century\",\"based\",\"least\",\"per\",\"ted\",\"lots\",\"figure\",\"free\",\"guys\",\"particular\",\"happy\",\"news\",\"learning\",\"entire\",\"won\",\"gave\",\"machine\",\"india\",\"during\",\"systems\",\"air\",\"difference\",\"outside\",\"natural\",\"taken\",\"seven\",\"given\",\"changed\",\"leave\",\"cell\",\"15\",\"close\",\"behind\",\"cities\",\"full\",\"scale\",\"china\",\"difficult\",\"takes\",\"companies\",\"yourself\",\"area\",\"reality\",\"seeing\",\"easy\",\"turned\",\"cost\",\"eyes\",\"team\",\"moving\",\"population\",\"culture\",\"york\",\"hands\",\"whatever\",\"began\",\"needs\",\"terms\",\"image\",\"needed\",\"simply\",\"beginning\",\"father\",\"local\",\"realized\",\"media\",\"parents\",\"death\",\"walk\",\"view\",\"white\",\"market\",\"parts\",\"ocean\",\"economic\",\"eight\",\"powerful\",\"week\",\"known\",\"size\",\"felt\",\"humans\",\"certain\",\"spend\",\"longer\",\"phone\",\"wonderful\",\"cannot\",\"grow\",\"common\",\"center\",\"tried\",\"fish\",\"land\",\"oil\",\"deal\",\"interested\",\"political\",\"red\",\"gone\",\"amount\",\"weeks\",\"spent\",\"opportunity\",\"paper\",\"lost\",\"national\",\"quickly\",\"blue\",\"step\",\"poor\",\"green\",\"buy\",\"wouldn\",\"growth\",\"either\",\"patients\",\"sitting\",\"ability\",\"changes\",\"write\",\"challenge\",\"south\",\"low\",\"friend\",\"growing\",\"field\",\"2\",\"shows\",\"born\",\"rest\",\"climate\",\"40\",\"test\",\"street\",\"surface\",\"incredible\",\"average\",\"morning\",\"physical\",\"value\",\"program\",\"scientists\",\"pay\",\"feeling\",\"met\",\"hundreds\",\"girl\",\"behavior\",\"economy\",\"dna\",\"complex\",\"access\",\"risk\",\"animal\",\"structure\",\"feet\",\"attention\",\"areas\",\"anyone\",\"deep\",\"watch\",\"short\",\"absolutely\",\"brought\",\"speak\",\"bottom\",\"die\",\"numbers\",\"audience\",\"stage\",\"realize\",\"images\",\"law\",\"wrote\",\"understanding\",\"books\",\"knowledge\",\"literally\",\"movement\",\"ground\",\"giving\",\"eat\",\"force\",\"seems\",\"alone\",\"telling\",\"starting\",\"hold\",\"nice\",\"sea\",\"forward\",\"developed\",\"individual\",\"kid\",\"millions\",\"support\",\"miles\",\"tools\",\"running\",\"online\",\"result\",\"act\",\"medical\",\"technologies\",\"north\",\"development\",\"lab\",\"blood\",\"fear\",\"nobody\",\"map\",\"personal\",\"voice\",\"issue\",\"key\",\"material\",\"recently\",\"12\",\"theory\",\"cut\",\"cars\",\"sun\",\"fast\",\"changing\",\"playing\",\"clear\",\"especially\",\"girls\",\"soon\",\"patient\",\"choice\",\"fly\",\"creating\",\"discovered\",\"talked\",\"relationship\",\"europe\",\"normal\",\"gives\",\"generation\",\"dark\",\"type\",\"showed\",\"asking\",\"industry\",\"seem\",\"chance\",\"rate\",\"hour\",\"designed\",\"fun\",\"color\",\"issues\",\"university\",\"several\",\"computers\",\"innovation\",\"class\",\"tiny\",\"english\",\"save\",\"allow\",\"focus\",\"developing\",\"digital\",\"solve\",\"film\",\"network\",\"special\",\"wall\",\"situation\",\"baby\",\"solution\",\"box\",\"reasons\",\"knows\",\"meet\",\"stand\",\"dead\",\"begin\",\"impact\",\"haven\",\"anybody\",\"term\",\"pictures\",\"beyond\",\"please\",\"produce\",\"ice\",\"shape\",\"non\",\"resources\",\"robot\",\"cool\",\"stay\",\"likely\",\"groups\",\"rights\",\"available\",\"truth\",\"major\",\"obviously\",\"evidence\",\"experiment\",\"cause\",\"writing\",\"drug\",\"modern\",\"incredibly\",\"becomes\",\"bigger\",\"guess\",\"aren\",\"nine\",\"product\",\"drugs\",\"lived\",\"involved\",\"perfect\",\"month\",\"google\",\"similar\",\"putting\",\"effect\",\"pick\",\"eye\",\"message\",\"web\",\"quality\",\"violence\",\"security\",\"evolution\",\"office\",\"basic\",\"indeed\",\"general\",\"solar\",\"towards\",\"drive\",\"present\",\"worth\",\"listen\",\"send\",\"revolution\",\"hundred\",\"explain\",\"died\",\"certainly\",\"ready\",\"teach\",\"journey\",\"25\",\"walking\",\"hit\",\"led\",\"international\",\"approach\",\"200\",\"games\",\"scientific\",\"60\",\"crazy\",\"potential\",\"chinese\",\"communities\",\"device\",\"camera\",\"source\",\"carbon\",\"sex\",\"rules\",\"sounds\",\"boy\",\"reach\",\"starts\",\"west\",\"examples\",\"3\",\"success\",\"software\",\"measure\",\"particularly\",\"totally\",\"suddenly\",\"action\",\"higher\",\"college\",\"code\",\"eventually\",\"democracy\",\"minute\",\"among\",\"sit\",\"largest\",\"showing\",\"hospital\",\"period\",\"notice\",\"mass\",\"develop\",\"dream\",\"onto\",\"add\",\"plants\",\"break\",\"memory\",\"zero\",\"everywhere\",\"11\",\"favorite\",\"speed\",\"moved\",\"schools\",\"response\",\"wants\",\"individuals\",\"table\",\"extremely\",\"movie\",\"wait\",\"anyway\",\"follow\",\"medicine\",\"trust\",\"biggest\",\"plant\",\"watching\",\"organization\",\"creative\",\"road\",\"worse\",\"choose\",\"results\",\"500\",\"lead\",\"exciting\",\"grew\",\"materials\",\"jobs\",\"positive\",\"plan\",\"poverty\",\"east\",\"safe\",\"strong\",\"fall\",\"essentially\",\"door\",\"object\",\"vision\",\"son\",\"continue\",\"further\",\"happiness\",\"student\",\"doctor\",\"role\",\"including\",\"named\",\"objects\",\"extraordinary\",\"standing\",\"skin\",\"leaders\",\"usually\",\"projects\",\"african\",\"conversation\",\"models\",\"allowed\",\"supposed\",\"interest\",\"faster\",\"police\",\"families\",\"fight\",\"tree\",\"connected\",\"cases\",\"screen\",\"5\",\"somewhere\",\"goal\",\"shown\",\"buildings\",\"finding\"],\"x1\":{\"__ndarray__\":\"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\",\"dtype\":\"float64\",\"shape\":[1000]},\"x2\":{\"__ndarray__\":\"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\",\"dtype\":\"float64\",\"shape\":[1000]}}},\"id\":\"922a5f95-4730-4a29-9980-bd957d708466\",\"type\":\"ColumnDataSource\"},{\"attributes\":{\"active_drag\":\"auto\",\"active_scroll\":\"auto\",\"active_tap\":\"auto\",\"tools\":[{\"id\":\"85a846c6-7b58-44d3-ae5d-d2658e4c0517\",\"type\":\"PanTool\"},{\"id\":\"e5e2cd3e-2d13-43fb-8c38-946d1bc11d14\",\"type\":\"WheelZoomTool\"},{\"id\":\"b68e935d-f7a6-4354-a1a8-77182a265e4f\",\"type\":\"ResetTool\"},{\"id\":\"da209561-6c08-462a-b298-8596ef8581da\",\"type\":\"SaveTool\"}]},\"id\":\"4ce8866e-9168-4222-9de7-be975466a8c3\",\"type\":\"Toolbar\"},{\"attributes\":{},\"id\":\"be18ba3b-ccb7-4c46-ba7e-e44e0682994f\",\"type\":\"ToolEvents\"},{\"attributes\":{\"plot\":{\"id\":\"89149254-5973-40b7-aa04-4f11c6452484\",\"subtype\":\"Figure\",\"type\":\"Plot\"}},\"id\":\"da209561-6c08-462a-b298-8596ef8581da\",\"type\":\"SaveTool\"}],\"root_ids\":[\"89149254-5973-40b7-aa04-4f11c6452484\"]},\"title\":\"Bokeh Application\",\"version\":\"0.12.5\"}};\n",
       "            var render_items = [{\"docid\":\"a5554b01-7f0b-4ac7-8738-2cf982c2683b\",\"elementid\":\"3a3aacf4-f547-4f4a-902f-20e4c53ac91e\",\"modelid\":\"89149254-5973-40b7-aa04-4f11c6452484\"}];\n",
       "            \n",
       "            Bokeh.embed.embed_items(docs_json, render_items);\n",
       "          };\n",
       "          if (document.readyState != \"loading\") fn();\n",
       "          else document.addEventListener(\"DOMContentLoaded\", fn);\n",
       "        })();\n",
       "      },\n",
       "      function(Bokeh) {\n",
       "      }\n",
       "    ];\n",
       "  \n",
       "    function run_inline_js() {\n",
       "      \n",
       "      if ((window.Bokeh !== undefined) || (force === true)) {\n",
       "        for (var i = 0; i < inline_js.length; i++) {\n",
       "          inline_js[i](window.Bokeh);\n",
       "        }if (force === true) {\n",
       "          display_loaded();\n",
       "        }} else if (Date.now() < window._bokeh_timeout) {\n",
       "        setTimeout(run_inline_js, 100);\n",
       "      } else if (!window._bokeh_failed_load) {\n",
       "        console.log(\"Bokeh: BokehJS failed to load within specified timeout.\");\n",
       "        window._bokeh_failed_load = true;\n",
       "      } else if (force !== true) {\n",
       "        var cell = $(document.getElementById(\"3a3aacf4-f547-4f4a-902f-20e4c53ac91e\")).parents('.cell').data().cell;\n",
       "        cell.output_area.append_execute_result(NB_LOAD_WARNING)\n",
       "      }\n",
       "  \n",
       "    }\n",
       "  \n",
       "    if (window._bokeh_is_loading === 0) {\n",
       "      console.log(\"Bokeh: BokehJS loaded, going straight to plotting\");\n",
       "      run_inline_js();\n",
       "    } else {\n",
       "      load_libs(js_urls, function() {\n",
       "        console.log(\"Bokeh: BokehJS plotting callback run at\", now());\n",
       "        run_inline_js();\n",
       "      });\n",
       "    }\n",
       "  }(this));\n",
       "</script>"
      ]
     },
     "metadata": {},
     "output_type": "display_data"
    }
   ],
   "source": [
    "p = figure(tools=\"pan,wheel_zoom,reset,save\",\n",
    "           toolbar_location=\"above\",\n",
    "           title=\"word2vec T-SNE for most common words\")\n",
    "\n",
    "source = ColumnDataSource(data=dict(x1=words_top_ted_tsne[:,0],\n",
    "                                    x2=words_top_ted_tsne[:,1],\n",
    "                                    names=words_top_ted))\n",
    "\n",
    "fill_colors = ['#%02x%02x%02x' % tuple(map(lambda x: int(255*x),colorsys.hsv_to_rgb(label*1.0/8,0.5,1))) for label in kmeans_ted.labels_]\n",
    "\n",
    "p.scatter(x=\"x1\", y=\"x2\", size=8, source=source, fill_color=fill_colors)\n",
    "\n",
    "labels = LabelSet(x=\"x1\", y=\"x2\", text=\"names\", y_offset=6,\n",
    "                  text_font_size=\"8pt\", text_color=\"#555555\",\n",
    "                  source=source, text_align='center')\n",
    "p.add_layout(labels)\n",
    "\n",
    "show(p)"
   ]
  },
  {
   "cell_type": "code",
   "execution_count": 62,
   "metadata": {
    "collapsed": false
   },
   "outputs": [
    {
     "data": {
      "text/plain": [
       "(0, 127, 31)"
      ]
     },
     "execution_count": 62,
     "metadata": {},
     "output_type": "execute_result"
    }
   ],
   "source": [
    "tuple(map(lambda x: int(255*x),colorsys.hsv_to_rgb(3*1.0/8,1,0.5)))"
   ]
  },
  {
   "cell_type": "markdown",
   "metadata": {},
   "source": [
    "### Part 5: Wiki Learnt Representations"
   ]
  },
  {
   "cell_type": "markdown",
   "metadata": {},
   "source": [
    "Download dataset"
   ]
  },
  {
   "cell_type": "code",
   "execution_count": 71,
   "metadata": {
    "collapsed": false
   },
   "outputs": [],
   "source": [
    "if not os.path.isfile('wikitext-103-raw-v1.zip'):\n",
    "    urllib.urlretrieve(\"https://s3.amazonaws.com/research.metamind.io/wikitext/wikitext-103-raw-v1.zip\", filename=\"wikitext-103-raw-v1.zip\")"
   ]
  },
  {
   "cell_type": "code",
   "execution_count": 4,
   "metadata": {
    "collapsed": false
   },
   "outputs": [],
   "source": [
    "with zipfile.ZipFile('wikitext-103-raw-v1.zip', 'r') as z:\n",
    "    input_text = unicode(z.open('wikitext-103-raw/wiki.train.raw', 'r').read(), 'utf-8') # Thanks Robert Bastian"
   ]
  },
  {
   "cell_type": "markdown",
   "metadata": {},
   "source": [
    "Preprocess sentences (note that it's important to remove small sentences for performance)"
   ]
  },
  {
   "cell_type": "code",
   "execution_count": 5,
   "metadata": {
    "collapsed": false
   },
   "outputs": [],
   "source": [
    "sentences_wiki = []\n",
    "for line in input_text.split('\\n'):\n",
    "    s = [x for x in line.split('.') if x and len(x.split()) >= 5]\n",
    "    sentences_wiki.extend(s)\n",
    "    \n",
    "for s_i in range(len(sentences_wiki)):\n",
    "    sentences_wiki[s_i] = re.sub(\"[^a-z]\", \" \", sentences_wiki[s_i].lower())\n",
    "    sentences_wiki[s_i] = re.sub(r'\\([^)]*\\)', '', sentences_wiki[s_i])\n",
    "del input_text"
   ]
  },
  {
   "cell_type": "code",
   "execution_count": 6,
   "metadata": {
    "collapsed": false
   },
   "outputs": [
    {
     "name": "stdout",
     "output_type": "stream",
     "text": [
      "4267112\n",
      "853422\n"
     ]
    }
   ],
   "source": [
    "# sample 1/5 of the data\n",
    "shuffle(sentences_wiki)\n",
    "print(len(sentences_wiki))\n",
    "sentences_wiki = sentences_wiki[:int(len(sentences_wiki)/5)]\n",
    "print(len(sentences_wiki))"
   ]
  },
  {
   "cell_type": "code",
   "execution_count": 7,
   "metadata": {
    "collapsed": false
   },
   "outputs": [],
   "source": [
    "sentences_tokens_wiki = []\n",
    "for sent_str in sentences_wiki:\n",
    "    tokens = map(str,re.sub(r\"[^a-z0-9]+\", \" \", sent_str.lower()).split())\n",
    "    sentences_tokens_wiki.append(tokens)"
   ]
  },
  {
   "cell_type": "markdown",
   "metadata": {},
   "source": [
    "Now, repeat all the same steps that you performed above. You should be able to reuse essentially all the code."
   ]
  },
  {
   "cell_type": "code",
   "execution_count": 8,
   "metadata": {
    "collapsed": true
   },
   "outputs": [],
   "source": [
    "counts_dict_wiki = {}\n",
    "for sentence in sentences_tokens_wiki:\n",
    "    for word in sentence:\n",
    "        if word in counts_dict_wiki:\n",
    "            counts_dict_wiki[word] += 1\n",
    "        else:\n",
    "            counts_dict_wiki[word] = 1\n",
    "sorted_words_wiki = sorted(counts_dict_wiki.items(), key=lambda (k,v): v, reverse=True)"
   ]
  },
  {
   "cell_type": "code",
   "execution_count": 11,
   "metadata": {
    "collapsed": false
   },
   "outputs": [],
   "source": [
    "model_wiki = Word2Vec(sentences_tokens_wiki, size=100, window=5, min_count=10, workers=4)"
   ]
  },
  {
   "cell_type": "code",
   "execution_count": 12,
   "metadata": {
    "collapsed": true
   },
   "outputs": [],
   "source": [
    "words_top_wiki = [counts[0] for counts in sorted_words_wiki[:1000]]"
   ]
  },
  {
   "cell_type": "markdown",
   "metadata": {},
   "source": [
    "#### t-SNE visualization"
   ]
  },
  {
   "cell_type": "code",
   "execution_count": 15,
   "metadata": {
    "collapsed": false
   },
   "outputs": [],
   "source": [
    "# This assumes words_top_wiki is a list of strings, the top 1000 words\n",
    "words_top_vec_wiki = model_wiki[words_top_wiki]\n",
    "\n",
    "tsne = TSNE(n_components=2, random_state=0)\n",
    "words_top_wiki_tsne = tsne.fit_transform(words_top_vec_wiki)"
   ]
  },
  {
   "cell_type": "code",
   "execution_count": 107,
   "metadata": {
    "collapsed": false
   },
   "outputs": [
    {
     "data": {
      "text/html": [
       "\n",
       "\n",
       "    <div class=\"bk-root\">\n",
       "        <div class=\"bk-plotdiv\" id=\"c51e43da-23fd-4f1b-bad3-3b39c9985905\"></div>\n",
       "    </div>\n",
       "<script type=\"text/javascript\">\n",
       "  \n",
       "  (function(global) {\n",
       "    function now() {\n",
       "      return new Date();\n",
       "    }\n",
       "  \n",
       "    var force = false;\n",
       "  \n",
       "    if (typeof (window._bokeh_onload_callbacks) === \"undefined\" || force === true) {\n",
       "      window._bokeh_onload_callbacks = [];\n",
       "      window._bokeh_is_loading = undefined;\n",
       "    }\n",
       "  \n",
       "  \n",
       "    \n",
       "    if (typeof (window._bokeh_timeout) === \"undefined\" || force === true) {\n",
       "      window._bokeh_timeout = Date.now() + 0;\n",
       "      window._bokeh_failed_load = false;\n",
       "    }\n",
       "  \n",
       "    var NB_LOAD_WARNING = {'data': {'text/html':\n",
       "       \"<div style='background-color: #fdd'>\\n\"+\n",
       "       \"<p>\\n\"+\n",
       "       \"BokehJS does not appear to have successfully loaded. If loading BokehJS from CDN, this \\n\"+\n",
       "       \"may be due to a slow or bad network connection. Possible fixes:\\n\"+\n",
       "       \"</p>\\n\"+\n",
       "       \"<ul>\\n\"+\n",
       "       \"<li>re-rerun `output_notebook()` to attempt to load from CDN again, or</li>\\n\"+\n",
       "       \"<li>use INLINE resources instead, as so:</li>\\n\"+\n",
       "       \"</ul>\\n\"+\n",
       "       \"<code>\\n\"+\n",
       "       \"from bokeh.resources import INLINE\\n\"+\n",
       "       \"output_notebook(resources=INLINE)\\n\"+\n",
       "       \"</code>\\n\"+\n",
       "       \"</div>\"}};\n",
       "  \n",
       "    function display_loaded() {\n",
       "      if (window.Bokeh !== undefined) {\n",
       "        var el = document.getElementById(\"c51e43da-23fd-4f1b-bad3-3b39c9985905\");\n",
       "        el.textContent = \"BokehJS \" + Bokeh.version + \" successfully loaded.\";\n",
       "      } else if (Date.now() < window._bokeh_timeout) {\n",
       "        setTimeout(display_loaded, 100)\n",
       "      }\n",
       "    }\n",
       "  \n",
       "    function run_callbacks() {\n",
       "      window._bokeh_onload_callbacks.forEach(function(callback) { callback() });\n",
       "      delete window._bokeh_onload_callbacks\n",
       "      console.info(\"Bokeh: all callbacks have finished\");\n",
       "    }\n",
       "  \n",
       "    function load_libs(js_urls, callback) {\n",
       "      window._bokeh_onload_callbacks.push(callback);\n",
       "      if (window._bokeh_is_loading > 0) {\n",
       "        console.log(\"Bokeh: BokehJS is being loaded, scheduling callback at\", now());\n",
       "        return null;\n",
       "      }\n",
       "      if (js_urls == null || js_urls.length === 0) {\n",
       "        run_callbacks();\n",
       "        return null;\n",
       "      }\n",
       "      console.log(\"Bokeh: BokehJS not loaded, scheduling load and callback at\", now());\n",
       "      window._bokeh_is_loading = js_urls.length;\n",
       "      for (var i = 0; i < js_urls.length; i++) {\n",
       "        var url = js_urls[i];\n",
       "        var s = document.createElement('script');\n",
       "        s.src = url;\n",
       "        s.async = false;\n",
       "        s.onreadystatechange = s.onload = function() {\n",
       "          window._bokeh_is_loading--;\n",
       "          if (window._bokeh_is_loading === 0) {\n",
       "            console.log(\"Bokeh: all BokehJS libraries loaded\");\n",
       "            run_callbacks()\n",
       "          }\n",
       "        };\n",
       "        s.onerror = function() {\n",
       "          console.warn(\"failed to load library \" + url);\n",
       "        };\n",
       "        console.log(\"Bokeh: injecting script tag for BokehJS library: \", url);\n",
       "        document.getElementsByTagName(\"head\")[0].appendChild(s);\n",
       "      }\n",
       "    };var element = document.getElementById(\"c51e43da-23fd-4f1b-bad3-3b39c9985905\");\n",
       "    if (element == null) {\n",
       "      console.log(\"Bokeh: ERROR: autoload.js configured with elementid 'c51e43da-23fd-4f1b-bad3-3b39c9985905' but no matching script tag was found. \")\n",
       "      return false;\n",
       "    }\n",
       "  \n",
       "    var js_urls = [];\n",
       "  \n",
       "    var inline_js = [\n",
       "      function(Bokeh) {\n",
       "        (function() {\n",
       "          var fn = function() {\n",
       "            var docs_json = {\"eec00ddf-8152-4082-89b7-a42c08de9a0f\":{\"roots\":{\"references\":[{\"attributes\":{\"plot\":{\"id\":\"25788eb3-d43a-400f-93a9-2c248d34168e\",\"subtype\":\"Figure\",\"type\":\"Plot\"}},\"id\":\"f566f406-aa5d-493d-bad6-f0e083eabc82\",\"type\":\"WheelZoomTool\"},{\"attributes\":{\"plot\":null,\"text\":\"word2vec T-SNE for most common words\"},\"id\":\"5c8e6a74-66ba-409a-992a-13b3caf4d9b5\",\"type\":\"Title\"},{\"attributes\":{},\"id\":\"6c99059a-d1d4-4b7d-8285-2a97d2fdfb89\",\"type\":\"BasicTickFormatter\"},{\"attributes\":{\"fill_alpha\":{\"value\":0.1},\"fill_color\":{\"value\":\"#1f77b4\"},\"line_alpha\":{\"value\":0.1},\"line_color\":{\"value\":\"#1f77b4\"},\"size\":{\"units\":\"screen\",\"value\":8},\"x\":{\"field\":\"x1\"},\"y\":{\"field\":\"x2\"}},\"id\":\"4cbc0ae0-e1fb-4fd3-ad69-9a352ddcd6eb\",\"type\":\"Circle\"},{\"attributes\":{\"fill_color\":{\"value\":\"#1f77b4\"},\"line_color\":{\"value\":\"#1f77b4\"},\"size\":{\"units\":\"screen\",\"value\":8},\"x\":{\"field\":\"x1\"},\"y\":{\"field\":\"x2\"}},\"id\":\"b50a1dc8-9cd0-4a8a-a2ce-4e855d690a37\",\"type\":\"Circle\"},{\"attributes\":{},\"id\":\"23676857-585a-451c-8afa-bf5d953dfffa\",\"type\":\"BasicTickFormatter\"},{\"attributes\":{\"plot\":{\"id\":\"25788eb3-d43a-400f-93a9-2c248d34168e\",\"subtype\":\"Figure\",\"type\":\"Plot\"},\"ticker\":{\"id\":\"9132c547-5b7e-4896-9d99-18b86586fff1\",\"type\":\"BasicTicker\"}},\"id\":\"e2c94b9d-38ac-42ae-9e03-fb795a250524\",\"type\":\"Grid\"},{\"attributes\":{\"callback\":null},\"id\":\"6b0d2373-78ec-49b2-8d2a-aa5aba0f7460\",\"type\":\"DataRange1d\"},{\"attributes\":{\"formatter\":{\"id\":\"6c99059a-d1d4-4b7d-8285-2a97d2fdfb89\",\"type\":\"BasicTickFormatter\"},\"plot\":{\"id\":\"25788eb3-d43a-400f-93a9-2c248d34168e\",\"subtype\":\"Figure\",\"type\":\"Plot\"},\"ticker\":{\"id\":\"7b3d36bc-d095-4042-981d-49d14621a83c\",\"type\":\"BasicTicker\"}},\"id\":\"26a7c1da-2edb-42cd-854c-c4361e330608\",\"type\":\"LinearAxis\"},{\"attributes\":{\"callback\":null,\"column_names\":[\"x2\",\"x1\",\"names\"],\"data\":{\"names\":[\"the\",\"of\",\"and\",\"in\",\"to\",\"a\",\"was\",\"s\",\"on\",\"as\",\"for\",\"that\",\"with\",\"by\",\"is\",\"his\",\"at\",\"he\",\"from\",\"it\",\"were\",\"an\",\"had\",\"which\",\"be\",\"this\",\"but\",\"first\",\"are\",\"not\",\"their\",\"after\",\"one\",\"her\",\"also\",\"its\",\"they\",\"two\",\"or\",\"have\",\"who\",\"been\",\"new\",\"has\",\"she\",\"when\",\"during\",\"time\",\"other\",\"would\",\"into\",\"all\",\"i\",\"more\",\"while\",\"over\",\"him\",\"game\",\"later\",\"only\",\"up\",\"most\",\"about\",\"three\",\"out\",\"between\",\"th\",\"there\",\"than\",\"some\",\"may\",\"film\",\"year\",\"before\",\"no\",\"made\",\"such\",\"season\",\"second\",\"where\",\"world\",\"war\",\"years\",\"used\",\"both\",\"then\",\"however\",\"being\",\"through\",\"these\",\"song\",\"them\",\"series\",\"against\",\"album\",\"m\",\"many\",\"part\",\"city\",\"team\",\"north\",\"several\",\"number\",\"well\",\"became\",\"can\",\"including\",\"united\",\"four\",\"early\",\"under\",\"state\",\"music\",\"south\",\"day\",\"so\",\"episode\",\"following\",\"said\",\"states\",\"although\",\"known\",\"did\",\"american\",\"work\",\"could\",\"began\",\"until\",\"released\",\"because\",\"t\",\"like\",\"called\",\"people\",\"high\",\"end\",\"since\",\"around\",\"british\",\"long\",\"national\",\"if\",\"each\",\"west\",\"found\",\"same\",\"life\",\"best\",\"us\",\"september\",\"along\",\"million\",\"back\",\"five\",\"use\",\"another\",\"you\",\"took\",\"km\",\"show\",\"area\",\"any\",\"august\",\"final\",\"group\",\"off\",\"century\",\"received\",\"october\",\"due\",\"school\",\"will\",\"line\",\"east\",\"what\",\"john\",\"government\",\"system\",\"june\",\"games\",\"july\",\"home\",\"single\",\"march\",\"november\",\"april\",\"third\",\"large\",\"general\",\"major\",\"down\",\"much\",\"family\",\"we\",\"set\",\"place\",\"left\",\"company\",\"based\",\"york\",\"just\",\"house\",\"army\",\"played\",\"road\",\"december\",\"six\",\"january\",\"now\",\"name\",\"character\",\"history\",\"wrote\",\"band\",\"included\",\"king\",\"within\",\"won\",\"video\",\"according\",\"led\",\"death\",\"times\",\"last\",\"main\",\"men\",\"d\",\"described\",\"still\",\"those\",\"own\",\"late\",\"near\",\"release\",\"river\",\"st\",\"de\",\"named\",\"original\",\"battle\",\"next\",\"way\",\"record\",\"league\",\"air\",\"club\",\"even\",\"ship\",\"top\",\"make\",\"production\",\"force\",\"very\",\"great\",\"small\",\"again\",\"public\",\"february\",\"route\",\"man\",\"species\",\"storm\",\"old\",\"u\",\"though\",\"days\",\"built\",\"book\",\"further\",\"having\",\"play\",\"members\",\"b\",\"role\",\"held\",\"among\",\"service\",\"division\",\"german\",\"side\",\"story\",\"power\",\"french\",\"match\",\"do\",\"white\",\"university\",\"point\",\"water\",\"former\",\"player\",\"order\",\"career\",\"h\",\"town\",\"continued\",\"without\",\"often\",\"park\",\"local\",\"half\",\"considered\",\"came\",\"england\",\"black\",\"despite\",\"take\",\"songs\",\"island\",\"few\",\"version\",\"party\",\"support\",\"form\",\"different\",\"become\",\"county\",\"c\",\"period\",\"military\",\"english\",\"written\",\"moved\",\"development\",\"tropical\",\"ii\",\"forces\",\"lost\",\"court\",\"president\",\"building\",\"london\",\"given\",\"re\",\"international\",\"my\",\"street\",\"country\",\"little\",\"using\",\"performance\",\"similar\",\"never\",\"attack\",\"church\",\"tour\",\"class\",\"children\",\"lead\",\"returned\",\"track\",\"produced\",\"n\",\"gave\",\"went\",\"royal\",\"published\",\"short\",\"position\",\"live\",\"television\",\"western\",\"land\",\"run\",\"father\",\"control\",\"recorded\",\"stated\",\"ships\",\"per\",\"making\",\"highway\",\"good\",\"star\",\"include\",\"total\",\"right\",\"how\",\"women\",\"aircraft\",\"once\",\"australia\",\"love\",\"head\",\"throughout\",\"upon\",\"central\",\"title\",\"week\",\"fire\",\"me\",\"less\",\"himself\",\"characters\",\"light\",\"design\",\"age\",\"young\",\"writing\",\"players\",\"instead\",\"station\",\"away\",\"rock\",\"seven\",\"across\",\"previous\",\"night\",\"result\",\"sea\",\"red\",\"months\",\"law\",\"return\",\"ten\",\"developed\",\"eight\",\"hurricane\",\"remained\",\"low\",\"southern\",\"r\",\"ft\",\"office\",\"died\",\"political\",\"style\",\"e\",\"areas\",\"reported\",\"race\",\"felt\",\"miles\",\"announced\",\"center\",\"james\",\"noted\",\"too\",\"william\",\"college\",\"field\",\"construction\",\"created\",\"various\",\"win\",\"sent\",\"japanese\",\"eventually\",\"america\",\"son\",\"followed\",\"act\",\"together\",\"should\",\"seen\",\"member\",\"award\",\"served\",\"taken\",\"range\",\"northern\",\"mm\",\"campaign\",\"reached\",\"killed\",\"level\",\"features\",\"performed\",\"full\",\"points\",\"action\",\"common\",\"works\",\"able\",\"football\",\"appeared\",\"body\",\"get\",\"located\",\"success\",\"special\",\"front\",\"originally\",\"others\",\"chart\",\"born\",\"stage\",\"modern\",\"project\",\"bridge\",\"george\",\"established\",\"thought\",\"playing\",\"critics\",\"rather\",\"australian\",\"heavy\",\"post\",\"caused\",\"addition\",\"go\",\"started\",\"feet\",\"present\",\"sold\",\"important\",\"saw\",\"site\",\"decided\",\"formed\",\"popular\",\"added\",\"championship\",\"fourth\",\"f\",\"behind\",\"strong\",\"o\",\"population\",\"see\",\"every\",\"damage\",\"open\",\"completed\",\"soon\",\"initially\",\"guns\",\"command\",\"fleet\",\"opened\",\"almost\",\"close\",\"david\",\"free\",\"ground\",\"region\",\"coast\",\"eastern\",\"case\",\"working\",\"non\",\"awards\",\"director\",\"mi\",\"weeks\",\"hall\",\"art\",\"leading\",\"mother\",\"towards\",\"union\",\"kingdom\",\"sound\",\"france\",\"scene\",\"worked\",\"l\",\"help\",\"recording\",\"michael\",\"put\",\"event\",\"ever\",\"scored\",\"featured\",\"cup\",\"navy\",\"provided\",\"wanted\",\"records\",\"generally\",\"either\",\"brought\",\"training\",\"average\",\"magazine\",\"studio\",\"least\",\"example\",\"does\",\"placed\",\"victory\",\"allowed\",\"runs\",\"henry\",\"washington\",\"wife\",\"hit\",\"designed\",\"joined\",\"opening\",\"summer\",\"list\",\"europe\",\"far\",\"mid\",\"troops\",\"council\",\"robert\",\"nine\",\"human\",\"co\",\"al\",\"events\",\"police\",\"believed\",\"replaced\",\"start\",\"european\",\"official\",\"met\",\"hours\",\"squadron\",\"media\",\"saying\",\"possible\",\"significant\",\"involved\",\"successful\",\"japan\",\"society\",\"research\",\"rest\",\"earlier\",\"operation\",\"finished\",\"big\",\"brown\",\"change\",\"process\",\"shot\",\"radio\",\"mph\",\"films\",\"particularly\",\"minutes\",\"review\",\"crew\",\"month\",\"largest\",\"must\",\"beginning\",\"turned\",\"x\",\"base\",\"cast\",\"available\",\"come\",\"test\",\"stone\",\"highest\",\"captain\",\"association\",\"hill\",\"above\",\"forced\",\"future\",\"ended\",\"taking\",\"outside\",\"middle\",\"reviews\",\"previously\",\"winds\",\"section\",\"units\",\"real\",\"san\",\"passed\",\"better\",\"thus\",\"castle\",\"move\",\"goal\",\"appearance\",\"staff\",\"praised\",\"lower\",\"parts\",\"relationship\",\"cross\",\"community\",\"increased\",\"elements\",\"additional\",\"enough\",\"canada\",\"business\",\"rights\",\"chief\",\"charles\",\"space\",\"going\",\"social\",\"signed\",\"board\",\"gold\",\"g\",\"don\",\"thomas\",\"critical\",\"spent\",\"directed\",\"program\",\"lake\",\"california\",\"type\",\"lines\",\"gun\",\"attempt\",\"groups\",\"overall\",\"give\",\"told\",\"interest\",\"ordered\",\"paul\",\"district\",\"plan\",\"evidence\",\"positive\",\"brother\",\"india\",\"infantry\",\"required\",\"itself\",\"female\",\"musical\",\"reception\",\"v\",\"money\",\"find\",\"whose\",\"failed\",\"news\",\"committee\",\"germany\",\"round\",\"sometimes\",\"complete\",\"already\",\"prior\",\"term\",\"entire\",\"battalion\",\"whom\",\"introduced\",\"education\",\"personal\",\"person\",\"room\",\"shows\",\"our\",\"limited\",\"green\",\"grand\",\"claimed\",\"hand\",\"square\",\"cover\",\"past\",\"debut\",\"loss\",\"governor\",\"bill\",\"food\",\"industry\",\"effects\",\"study\",\"speed\",\"election\",\"asked\",\"students\",\"quickly\",\"turn\",\"background\",\"services\",\"indian\",\"p\",\"surface\",\"k\",\"movement\",\"idea\",\"minister\",\"britain\",\"mark\",\"usually\",\"richard\",\"remaining\",\"stars\",\"commander\",\"arrived\",\"material\",\"village\",\"ny\",\"car\",\"plot\",\"uk\",\"novel\",\"centre\",\"response\",\"larger\",\"structure\",\"issue\",\"fifth\",\"teams\",\"woman\",\"estimated\",\"especially\",\"flight\",\"bay\",\"decision\",\"anti\",\"voice\",\"earth\",\"port\",\"god\",\"science\",\"carried\",\"la\",\"operations\",\"press\",\"changes\",\"writer\",\"smith\",\"defeated\",\"peter\",\"running\",\"suggested\",\"queen\",\"entered\",\"score\",\"department\",\"might\",\"appointed\",\"language\",\"commercial\",\"episodes\",\"percent\",\"living\",\"naval\",\"latter\",\"leader\",\"los\",\"blue\",\"date\",\"self\",\"view\",\"virginia\",\"approximately\",\"railway\",\"civil\",\"nearly\",\"influence\",\"leaving\",\"dark\",\"experience\",\"fact\",\"soviet\",\"length\",\"supported\",\"pressure\",\"depression\",\"wide\",\"shortly\",\"destroyed\",\"cut\",\"married\",\"whether\",\"subsequently\",\"report\",\"islands\",\"scenes\",\"manager\",\"becoming\",\"lack\",\"daughter\",\"higher\",\"pop\",\"hot\",\"create\",\"professional\",\"winning\",\"yet\",\"spanish\",\"provide\",\"producer\",\"brigade\",\"finally\",\"course\",\"contract\",\"child\",\"tracks\",\"size\",\"upper\",\"network\",\"buildings\",\"federal\",\"proposed\",\"edward\",\"done\",\"helped\",\"regular\",\"fans\",\"related\",\"empire\",\"trade\",\"compared\",\"mostly\",\"chinese\",\"agreed\",\"fort\",\"awarded\",\"current\",\"jackson\",\"cost\",\"lyrics\",\"lord\",\"initial\",\"nd\",\"face\",\"museum\",\"today\",\"longer\",\"your\",\"intended\",\"effect\",\"planned\",\"natural\",\"mixed\",\"countries\",\"moving\",\"private\",\"immediately\",\"cm\",\"always\",\"officers\",\"minor\",\"nature\",\"health\",\"changed\",\"officer\",\"extended\",\"regiment\",\"remains\",\"chicago\",\"johnson\",\"includes\",\"guitar\",\"friends\",\"corps\",\"key\",\"got\",\"themselves\",\"really\",\"friend\",\"energy\",\"albums\",\"singer\",\"captured\",\"christian\",\"something\",\"status\",\"appear\",\"associated\",\"numerous\",\"probably\",\"difficult\",\"feature\",\"unit\",\"dance\",\"singles\",\"ball\",\"books\",\"billboard\",\"information\",\"location\",\"soldiers\",\"fight\",\"florida\",\"ran\",\"removed\",\"likely\",\"need\",\"j\",\"problems\",\"offered\",\"pass\",\"edition\",\"via\",\"plans\",\"pacific\",\"roman\",\"dead\",\"forward\",\"movie\",\"atlantic\",\"impact\",\"china\"],\"x1\":{\"__ndarray__\":\"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\",\"dtype\":\"float64\",\"shape\":[1000]},\"x2\":{\"__ndarray__\":\"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\",\"dtype\":\"float64\",\"shape\":[1000]}}},\"id\":\"5dd64904-0251-4477-833a-b4943c16c8ad\",\"type\":\"ColumnDataSource\"},{\"attributes\":{\"data_source\":{\"id\":\"5dd64904-0251-4477-833a-b4943c16c8ad\",\"type\":\"ColumnDataSource\"},\"glyph\":{\"id\":\"b50a1dc8-9cd0-4a8a-a2ce-4e855d690a37\",\"type\":\"Circle\"},\"hover_glyph\":null,\"muted_glyph\":null,\"nonselection_glyph\":{\"id\":\"4cbc0ae0-e1fb-4fd3-ad69-9a352ddcd6eb\",\"type\":\"Circle\"},\"selection_glyph\":null},\"id\":\"951e09b0-f87d-49a3-a0c8-7cfce7f476ff\",\"type\":\"GlyphRenderer\"},{\"attributes\":{},\"id\":\"7b3d36bc-d095-4042-981d-49d14621a83c\",\"type\":\"BasicTicker\"},{\"attributes\":{\"active_drag\":\"auto\",\"active_scroll\":\"auto\",\"active_tap\":\"auto\",\"tools\":[{\"id\":\"147a2bc9-d503-405a-8c45-f46574acef5b\",\"type\":\"PanTool\"},{\"id\":\"f566f406-aa5d-493d-bad6-f0e083eabc82\",\"type\":\"WheelZoomTool\"},{\"id\":\"2e660c62-8216-4313-bdd6-069db3d66c19\",\"type\":\"ResetTool\"},{\"id\":\"0df22178-887b-45cf-9419-e93227a0299b\",\"type\":\"SaveTool\"}]},\"id\":\"a1215234-979a-4165-a172-252cc38ba8d7\",\"type\":\"Toolbar\"},{\"attributes\":{\"plot\":{\"id\":\"25788eb3-d43a-400f-93a9-2c248d34168e\",\"subtype\":\"Figure\",\"type\":\"Plot\"}},\"id\":\"2e660c62-8216-4313-bdd6-069db3d66c19\",\"type\":\"ResetTool\"},{\"attributes\":{},\"id\":\"6aeae77f-fdf1-4a0c-98d0-2bb6a6aab006\",\"type\":\"ToolEvents\"},{\"attributes\":{},\"id\":\"9132c547-5b7e-4896-9d99-18b86586fff1\",\"type\":\"BasicTicker\"},{\"attributes\":{\"plot\":{\"id\":\"25788eb3-d43a-400f-93a9-2c248d34168e\",\"subtype\":\"Figure\",\"type\":\"Plot\"},\"source\":{\"id\":\"5dd64904-0251-4477-833a-b4943c16c8ad\",\"type\":\"ColumnDataSource\"},\"text\":{\"field\":\"names\"},\"text_align\":\"center\",\"text_color\":{\"value\":\"#555555\"},\"text_font_size\":{\"value\":\"8pt\"},\"x\":{\"field\":\"x1\"},\"y\":{\"field\":\"x2\"},\"y_offset\":{\"value\":6}},\"id\":\"70054960-e8ba-4f80-9975-6843aa3a9434\",\"type\":\"LabelSet\"},{\"attributes\":{\"plot\":{\"id\":\"25788eb3-d43a-400f-93a9-2c248d34168e\",\"subtype\":\"Figure\",\"type\":\"Plot\"}},\"id\":\"147a2bc9-d503-405a-8c45-f46574acef5b\",\"type\":\"PanTool\"},{\"attributes\":{\"below\":[{\"id\":\"f7a08998-ec36-4088-b28b-78df02310ea6\",\"type\":\"LinearAxis\"}],\"left\":[{\"id\":\"26a7c1da-2edb-42cd-854c-c4361e330608\",\"type\":\"LinearAxis\"}],\"renderers\":[{\"id\":\"f7a08998-ec36-4088-b28b-78df02310ea6\",\"type\":\"LinearAxis\"},{\"id\":\"e2c94b9d-38ac-42ae-9e03-fb795a250524\",\"type\":\"Grid\"},{\"id\":\"26a7c1da-2edb-42cd-854c-c4361e330608\",\"type\":\"LinearAxis\"},{\"id\":\"4a9fc4fe-831d-410c-a9d1-336b7f13696f\",\"type\":\"Grid\"},{\"id\":\"951e09b0-f87d-49a3-a0c8-7cfce7f476ff\",\"type\":\"GlyphRenderer\"},{\"id\":\"70054960-e8ba-4f80-9975-6843aa3a9434\",\"type\":\"LabelSet\"}],\"title\":{\"id\":\"5c8e6a74-66ba-409a-992a-13b3caf4d9b5\",\"type\":\"Title\"},\"tool_events\":{\"id\":\"6aeae77f-fdf1-4a0c-98d0-2bb6a6aab006\",\"type\":\"ToolEvents\"},\"toolbar\":{\"id\":\"a1215234-979a-4165-a172-252cc38ba8d7\",\"type\":\"Toolbar\"},\"toolbar_location\":\"above\",\"x_range\":{\"id\":\"6b0d2373-78ec-49b2-8d2a-aa5aba0f7460\",\"type\":\"DataRange1d\"},\"y_range\":{\"id\":\"bf998c5f-8284-4af0-9fb6-9adf4736e327\",\"type\":\"DataRange1d\"}},\"id\":\"25788eb3-d43a-400f-93a9-2c248d34168e\",\"subtype\":\"Figure\",\"type\":\"Plot\"},{\"attributes\":{\"formatter\":{\"id\":\"23676857-585a-451c-8afa-bf5d953dfffa\",\"type\":\"BasicTickFormatter\"},\"plot\":{\"id\":\"25788eb3-d43a-400f-93a9-2c248d34168e\",\"subtype\":\"Figure\",\"type\":\"Plot\"},\"ticker\":{\"id\":\"9132c547-5b7e-4896-9d99-18b86586fff1\",\"type\":\"BasicTicker\"}},\"id\":\"f7a08998-ec36-4088-b28b-78df02310ea6\",\"type\":\"LinearAxis\"},{\"attributes\":{\"callback\":null},\"id\":\"bf998c5f-8284-4af0-9fb6-9adf4736e327\",\"type\":\"DataRange1d\"},{\"attributes\":{\"dimension\":1,\"plot\":{\"id\":\"25788eb3-d43a-400f-93a9-2c248d34168e\",\"subtype\":\"Figure\",\"type\":\"Plot\"},\"ticker\":{\"id\":\"7b3d36bc-d095-4042-981d-49d14621a83c\",\"type\":\"BasicTicker\"}},\"id\":\"4a9fc4fe-831d-410c-a9d1-336b7f13696f\",\"type\":\"Grid\"},{\"attributes\":{\"plot\":{\"id\":\"25788eb3-d43a-400f-93a9-2c248d34168e\",\"subtype\":\"Figure\",\"type\":\"Plot\"}},\"id\":\"0df22178-887b-45cf-9419-e93227a0299b\",\"type\":\"SaveTool\"}],\"root_ids\":[\"25788eb3-d43a-400f-93a9-2c248d34168e\"]},\"title\":\"Bokeh Application\",\"version\":\"0.12.5\"}};\n",
       "            var render_items = [{\"docid\":\"eec00ddf-8152-4082-89b7-a42c08de9a0f\",\"elementid\":\"c51e43da-23fd-4f1b-bad3-3b39c9985905\",\"modelid\":\"25788eb3-d43a-400f-93a9-2c248d34168e\"}];\n",
       "            \n",
       "            Bokeh.embed.embed_items(docs_json, render_items);\n",
       "          };\n",
       "          if (document.readyState != \"loading\") fn();\n",
       "          else document.addEventListener(\"DOMContentLoaded\", fn);\n",
       "        })();\n",
       "      },\n",
       "      function(Bokeh) {\n",
       "      }\n",
       "    ];\n",
       "  \n",
       "    function run_inline_js() {\n",
       "      \n",
       "      if ((window.Bokeh !== undefined) || (force === true)) {\n",
       "        for (var i = 0; i < inline_js.length; i++) {\n",
       "          inline_js[i](window.Bokeh);\n",
       "        }if (force === true) {\n",
       "          display_loaded();\n",
       "        }} else if (Date.now() < window._bokeh_timeout) {\n",
       "        setTimeout(run_inline_js, 100);\n",
       "      } else if (!window._bokeh_failed_load) {\n",
       "        console.log(\"Bokeh: BokehJS failed to load within specified timeout.\");\n",
       "        window._bokeh_failed_load = true;\n",
       "      } else if (force !== true) {\n",
       "        var cell = $(document.getElementById(\"c51e43da-23fd-4f1b-bad3-3b39c9985905\")).parents('.cell').data().cell;\n",
       "        cell.output_area.append_execute_result(NB_LOAD_WARNING)\n",
       "      }\n",
       "  \n",
       "    }\n",
       "  \n",
       "    if (window._bokeh_is_loading === 0) {\n",
       "      console.log(\"Bokeh: BokehJS loaded, going straight to plotting\");\n",
       "      run_inline_js();\n",
       "    } else {\n",
       "      load_libs(js_urls, function() {\n",
       "        console.log(\"Bokeh: BokehJS plotting callback run at\", now());\n",
       "        run_inline_js();\n",
       "      });\n",
       "    }\n",
       "  }(this));\n",
       "</script>"
      ]
     },
     "metadata": {},
     "output_type": "display_data"
    }
   ],
   "source": [
    "p = figure(tools=\"pan,wheel_zoom,reset,save\",\n",
    "           toolbar_location=\"above\",\n",
    "           title=\"word2vec T-SNE for most common words\")\n",
    "\n",
    "source = ColumnDataSource(data=dict(x1=words_top_wiki_tsne[:,0],\n",
    "                                    x2=words_top_wiki_tsne[:,1],\n",
    "                                    names=words_top_wiki))\n",
    "\n",
    "p.scatter(x=\"x1\", y=\"x2\", size=8, source=source)\n",
    "\n",
    "labels = LabelSet(x=\"x1\", y=\"x2\", text=\"names\", y_offset=6,\n",
    "                  text_font_size=\"8pt\", text_color=\"#555555\",\n",
    "                  source=source, text_align='center')\n",
    "p.add_layout(labels)\n",
    "\n",
    "show(p)"
   ]
  },
  {
   "cell_type": "code",
   "execution_count": 67,
   "metadata": {
    "collapsed": true
   },
   "outputs": [],
   "source": [
    "inertias_wiki = []\n",
    "for clusters in range(2,20):\n",
    "    kmeans = sklearn.cluster.KMeans(n_clusters=clusters).fit(words_top_wiki_tsne)\n",
    "    inertias_wiki.append(kmeans.inertia_)"
   ]
  },
  {
   "cell_type": "code",
   "execution_count": 69,
   "metadata": {
    "collapsed": false
   },
   "outputs": [
    {
     "data": {
      "image/png": "[encoded data removed]",
      "text/plain": [
       "<matplotlib.figure.Figure at 0x1101a2890>"
      ]
     },
     "metadata": {},
     "output_type": "display_data"
    }
   ],
   "source": [
    "plt.plot(range(2,20),inertias_wiki)\n",
    "plt.show()"
   ]
  },
  {
   "cell_type": "code",
   "execution_count": 72,
   "metadata": {
    "collapsed": true
   },
   "outputs": [],
   "source": [
    "kmeans_wiki = sklearn.cluster.KMeans(n_clusters=8).fit(words_top_wiki_tsne)"
   ]
  },
  {
   "cell_type": "code",
   "execution_count": 73,
   "metadata": {
    "collapsed": false
   },
   "outputs": [
    {
     "name": "stderr",
     "output_type": "stream",
     "text": [
      "/usr/local/lib/python2.7/site-packages/bokeh/util/deprecation.py:34: BokehDeprecationWarning: \n",
      "Supplying a user-defined data source AND iterable values to glyph methods is deprecated.\n",
      "\n",
      "See https://github.com/bokeh/bokeh/issues/2056 for more information.\n",
      "\n",
      "  warn(message)\n"
     ]
    },
    {
     "data": {
      "text/html": [
       "\n",
       "\n",
       "    <div class=\"bk-root\">\n",
       "        <div class=\"bk-plotdiv\" id=\"0af2cecb-0309-4c8b-89c2-4be8b4cf324b\"></div>\n",
       "    </div>\n",
       "<script type=\"text/javascript\">\n",
       "  \n",
       "  (function(global) {\n",
       "    function now() {\n",
       "      return new Date();\n",
       "    }\n",
       "  \n",
       "    var force = false;\n",
       "  \n",
       "    if (typeof (window._bokeh_onload_callbacks) === \"undefined\" || force === true) {\n",
       "      window._bokeh_onload_callbacks = [];\n",
       "      window._bokeh_is_loading = undefined;\n",
       "    }\n",
       "  \n",
       "  \n",
       "    \n",
       "    if (typeof (window._bokeh_timeout) === \"undefined\" || force === true) {\n",
       "      window._bokeh_timeout = Date.now() + 0;\n",
       "      window._bokeh_failed_load = false;\n",
       "    }\n",
       "  \n",
       "    var NB_LOAD_WARNING = {'data': {'text/html':\n",
       "       \"<div style='background-color: #fdd'>\\n\"+\n",
       "       \"<p>\\n\"+\n",
       "       \"BokehJS does not appear to have successfully loaded. If loading BokehJS from CDN, this \\n\"+\n",
       "       \"may be due to a slow or bad network connection. Possible fixes:\\n\"+\n",
       "       \"</p>\\n\"+\n",
       "       \"<ul>\\n\"+\n",
       "       \"<li>re-rerun `output_notebook()` to attempt to load from CDN again, or</li>\\n\"+\n",
       "       \"<li>use INLINE resources instead, as so:</li>\\n\"+\n",
       "       \"</ul>\\n\"+\n",
       "       \"<code>\\n\"+\n",
       "       \"from bokeh.resources import INLINE\\n\"+\n",
       "       \"output_notebook(resources=INLINE)\\n\"+\n",
       "       \"</code>\\n\"+\n",
       "       \"</div>\"}};\n",
       "  \n",
       "    function display_loaded() {\n",
       "      if (window.Bokeh !== undefined) {\n",
       "        var el = document.getElementById(\"0af2cecb-0309-4c8b-89c2-4be8b4cf324b\");\n",
       "        el.textContent = \"BokehJS \" + Bokeh.version + \" successfully loaded.\";\n",
       "      } else if (Date.now() < window._bokeh_timeout) {\n",
       "        setTimeout(display_loaded, 100)\n",
       "      }\n",
       "    }\n",
       "  \n",
       "    function run_callbacks() {\n",
       "      window._bokeh_onload_callbacks.forEach(function(callback) { callback() });\n",
       "      delete window._bokeh_onload_callbacks\n",
       "      console.info(\"Bokeh: all callbacks have finished\");\n",
       "    }\n",
       "  \n",
       "    function load_libs(js_urls, callback) {\n",
       "      window._bokeh_onload_callbacks.push(callback);\n",
       "      if (window._bokeh_is_loading > 0) {\n",
       "        console.log(\"Bokeh: BokehJS is being loaded, scheduling callback at\", now());\n",
       "        return null;\n",
       "      }\n",
       "      if (js_urls == null || js_urls.length === 0) {\n",
       "        run_callbacks();\n",
       "        return null;\n",
       "      }\n",
       "      console.log(\"Bokeh: BokehJS not loaded, scheduling load and callback at\", now());\n",
       "      window._bokeh_is_loading = js_urls.length;\n",
       "      for (var i = 0; i < js_urls.length; i++) {\n",
       "        var url = js_urls[i];\n",
       "        var s = document.createElement('script');\n",
       "        s.src = url;\n",
       "        s.async = false;\n",
       "        s.onreadystatechange = s.onload = function() {\n",
       "          window._bokeh_is_loading--;\n",
       "          if (window._bokeh_is_loading === 0) {\n",
       "            console.log(\"Bokeh: all BokehJS libraries loaded\");\n",
       "            run_callbacks()\n",
       "          }\n",
       "        };\n",
       "        s.onerror = function() {\n",
       "          console.warn(\"failed to load library \" + url);\n",
       "        };\n",
       "        console.log(\"Bokeh: injecting script tag for BokehJS library: \", url);\n",
       "        document.getElementsByTagName(\"head\")[0].appendChild(s);\n",
       "      }\n",
       "    };var element = document.getElementById(\"0af2cecb-0309-4c8b-89c2-4be8b4cf324b\");\n",
       "    if (element == null) {\n",
       "      console.log(\"Bokeh: ERROR: autoload.js configured with elementid '0af2cecb-0309-4c8b-89c2-4be8b4cf324b' but no matching script tag was found. \")\n",
       "      return false;\n",
       "    }\n",
       "  \n",
       "    var js_urls = [];\n",
       "  \n",
       "    var inline_js = [\n",
       "      function(Bokeh) {\n",
       "        (function() {\n",
       "          var fn = function() {\n",
       "            var docs_json = {\"20d9c489-d002-41a4-b580-1287e693130d\":{\"roots\":{\"references\":[{\"attributes\":{\"formatter\":{\"id\":\"a71832f7-4d16-4bf1-a467-19f3d8e82853\",\"type\":\"BasicTickFormatter\"},\"plot\":{\"id\":\"5f96220b-ed5f-40e5-9759-9c3ba9ae6372\",\"subtype\":\"Figure\",\"type\":\"Plot\"},\"ticker\":{\"id\":\"80d43ac5-b176-423f-a2cf-76305b540544\",\"type\":\"BasicTicker\"}},\"id\":\"272c412e-6de1-4e32-8079-069e2e49fa7c\",\"type\":\"LinearAxis\"},{\"attributes\":{},\"id\":\"a71832f7-4d16-4bf1-a467-19f3d8e82853\",\"type\":\"BasicTickFormatter\"},{\"attributes\":{\"plot\":{\"id\":\"5f96220b-ed5f-40e5-9759-9c3ba9ae6372\",\"subtype\":\"Figure\",\"type\":\"Plot\"}},\"id\":\"2525af08-4a28-4bcc-a073-8c6e9e3fc31a\",\"type\":\"PanTool\"},{\"attributes\":{\"fill_alpha\":{\"value\":0.1},\"fill_color\":{\"value\":\"#1f77b4\"},\"line_alpha\":{\"value\":0.1},\"line_color\":{\"value\":\"#1f77b4\"},\"size\":{\"units\":\"screen\",\"value\":8},\"x\":{\"field\":\"x1\"},\"y\":{\"field\":\"x2\"}},\"id\":\"5d6830ee-b015-47c4-a491-5e7d765bd5f4\",\"type\":\"Circle\"},{\"attributes\":{\"plot\":{\"id\":\"5f96220b-ed5f-40e5-9759-9c3ba9ae6372\",\"subtype\":\"Figure\",\"type\":\"Plot\"},\"ticker\":{\"id\":\"80d43ac5-b176-423f-a2cf-76305b540544\",\"type\":\"BasicTicker\"}},\"id\":\"aa0e336e-4475-4d5b-b4c0-be0b8bf52e3c\",\"type\":\"Grid\"},{\"attributes\":{\"callback\":null,\"column_names\":[\"x2\",\"x1\",\"names\",\"fill_color\"],\"data\":{\"fill_color\":[\"#ff7f7f\",\"#7fff9f\",\"#7fff9f\",\"#7fff9f\",\"#7fff9f\",\"#ff7f7f\",\"#bfff7f\",\"#ffdf7f\",\"#7fff9f\",\"#7fff9f\",\"#7fff9f\",\"#7fff9f\",\"#7fff9f\",\"#7fff9f\",\"#bfff7f\",\"#7f9fff\",\"#7fff9f\",\"#7f9fff\",\"#7fff9f\",\"#ff7fdf\",\"#bfff7f\",\"#ff7f7f\",\"#7fff9f\",\"#7fff9f\",\"#ffdf7f\",\"#ff7fdf\",\"#7fff9f\",\"#bfff7f\",\"#7f9fff\",\"#7fff9f\",\"#7f9fff\",\"#7fff9f\",\"#ff7f7f\",\"#7f9fff\",\"#7fff9f\",\"#ff7fdf\",\"#7f9fff\",\"#ff7f7f\",\"#7fff9f\",\"#7fff9f\",\"#7f9fff\",\"#ff7fdf\",\"#7fff9f\",\"#7fff9f\",\"#7f9fff\",\"#7fff9f\",\"#ff7f7f\",\"#7fff9f\",\"#ff7f7f\",\"#7fffff\",\"#7fff9f\",\"#ff7f7f\",\"#7f9fff\",\"#ffdf7f\",\"#7fff9f\",\"#7fff9f\",\"#7f9fff\",\"#7f9fff\",\"#7fff9f\",\"#ff7f7f\",\"#7fff9f\",\"#ff7fdf\",\"#bf7fff\",\"#ff7f7f\",\"#7fff9f\",\"#ff7f7f\",\"#7fff9f\",\"#ffdf7f\",\"#7fff9f\",\"#ff7f7f\",\"#ffdf7f\",\"#7fffff\",\"#7fff9f\",\"#7fff9f\",\"#7fffff\",\"#7fff9f\",\"#bfff7f\",\"#7fff9f\",\"#7fff9f\",\"#7f9fff\",\"#ff7f7f\",\"#bf7fff\",\"#ffdf7f\",\"#ff7f7f\",\"#7fff9f\",\"#7fff9f\",\"#7fff9f\",\"#7fff9f\",\"#ff7f7f\",\"#7fffff\",\"#7f9fff\",\"#ffdf7f\",\"#7fffff\",\"#bfff7f\",\"#ffdf7f\",\"#bfff7f\",\"#ff7f7f\",\"#7f9fff\",\"#ffdf7f\",\"#ff7f7f\",\"#bf7fff\",\"#ff7f7f\",\"#bfff7f\",\"#ff7f7f\",\"#7fff9f\",\"#bf7fff\",\"#7fffff\",\"#7fffff\",\"#ff7f7f\",\"#bfff7f\",\"#7fff9f\",\"#bf7fff\",\"#bfff7f\",\"#bfff7f\",\"#7fff9f\",\"#bfff7f\",\"#ffdf7f\",\"#7fffff\",\"#7fff9f\",\"#ff7f7f\",\"#bf7fff\",\"#7fffff\",\"#7fffff\",\"#7fffff\",\"#7fff9f\",\"#7fff9f\",\"#ff7fdf\",\"#7fffff\",\"#7fffff\",\"#bfff7f\",\"#7fff9f\",\"#7f9fff\",\"#7fffff\",\"#7fff9f\",\"#7f9fff\",\"#ff7f7f\",\"#7fff9f\",\"#7fff9f\",\"#ff7f7f\",\"#7fff9f\",\"#ff7f7f\",\"#7fff9f\",\"#bf7fff\",\"#7f9fff\",\"#ff7fdf\",\"#7fffff\",\"#ff7f7f\",\"#bf7fff\",\"#ff7f7f\",\"#ff7f7f\",\"#ff7f7f\",\"#7fff9f\",\"#bfff7f\",\"#7fff9f\",\"#ff7f7f\",\"#ff7fdf\",\"#7f9fff\",\"#7f9fff\",\"#7fffff\",\"#bfff7f\",\"#7f9fff\",\"#bf7fff\",\"#7fff9f\",\"#bf7fff\",\"#7fffff\",\"#ff7fdf\",\"#7fff9f\",\"#bf7fff\",\"#ff7f7f\",\"#ff7f7f\",\"#7fff9f\",\"#7fffff\",\"#bf7fff\",\"#bfff7f\",\"#ff7fdf\",\"#bfff7f\",\"#bfff7f\",\"#bf7fff\",\"#ff7fdf\",\"#ff7f7f\",\"#ff7f7f\",\"#ff7fdf\",\"#ff7f7f\",\"#ff7f7f\",\"#7f9fff\",\"#7f9fff\",\"#7f9fff\",\"#ff7f7f\",\"#7fff9f\",\"#7fff9f\",\"#7fff9f\",\"#7fff9f\",\"#ffdf7f\",\"#bf7fff\",\"#7fffff\",\"#bfff7f\",\"#7fff9f\",\"#7f9fff\",\"#bf7fff\",\"#bf7fff\",\"#ffdf7f\",\"#7fffff\",\"#7f9fff\",\"#7f9fff\",\"#ff7f7f\",\"#bf7fff\",\"#ff7fdf\",\"#ffdf7f\",\"#ff7f7f\",\"#ff7f7f\",\"#bfff7f\",\"#7f9fff\",\"#ffdf7f\",\"#bf7fff\",\"#7fff9f\",\"#7fffff\",\"#ff7f7f\",\"#7fffff\",\"#7fffff\",\"#7fffff\",\"#7fffff\",\"#7fff9f\",\"#bfff7f\",\"#7f9fff\",\"#7f9fff\",\"#7f9fff\",\"#bfff7f\",\"#7fff9f\",\"#bf7fff\",\"#bfff7f\",\"#ff7fdf\",\"#7fffff\",\"#ff7f7f\",\"#ff7f7f\",\"#ffdf7f\",\"#7f9fff\",\"#ffdf7f\",\"#bf7fff\",\"#7fff9f\",\"#bfff7f\",\"#ffdf7f\",\"#ff7f7f\",\"#ffdf7f\",\"#bfff7f\",\"#7f9fff\",\"#7fff9f\",\"#ffdf7f\",\"#7fff9f\",\"#ff7f7f\",\"#bf7fff\",\"#7f9fff\",\"#bf7fff\",\"#bfff7f\",\"#7f9fff\",\"#7f9fff\",\"#ff7fdf\",\"#7fffff\",\"#bfff7f\",\"#7fff9f\",\"#ff7f7f\",\"#ff7f7f\",\"#7fff9f\",\"#7f9fff\",\"#bf7fff\",\"#bf7fff\",\"#7fffff\",\"#7fff9f\",\"#ff7f7f\",\"#bf7fff\",\"#bfff7f\",\"#ff7f7f\",\"#bf7fff\",\"#ffdf7f\",\"#7f9fff\",\"#7fffff\",\"#7fff9f\",\"#ff7fdf\",\"#ff7f7f\",\"#ffdf7f\",\"#ffdf7f\",\"#ffdf7f\",\"#ffdf7f\",\"#7f9fff\",\"#ff7f7f\",\"#7f9fff\",\"#bfff7f\",\"#ff7fdf\",\"#ffdf7f\",\"#7fff9f\",\"#ff7fdf\",\"#7f9fff\",\"#bf7fff\",\"#bfff7f\",\"#bfff7f\",\"#ff7fdf\",\"#7fffff\",\"#7fff9f\",\"#7fff9f\",\"#bf7fff\",\"#ff7fdf\",\"#bf7fff\",\"#7fffff\",\"#bf7fff\",\"#ffdf7f\",\"#7fffff\",\"#bf7fff\",\"#ff7f7f\",\"#bf7fff\",\"#bf7fff\",\"#ff7fdf\",\"#bfff7f\",\"#bfff7f\",\"#bfff7f\",\"#ff7f7f\",\"#bf7fff\",\"#7fffff\",\"#ff7f7f\",\"#ff7f7f\",\"#bf7fff\",\"#ffdf7f\",\"#ff7fdf\",\"#ff7f7f\",\"#bf7fff\",\"#7fffff\",\"#bfff7f\",\"#7fff9f\",\"#7fffff\",\"#7f9fff\",\"#bfff7f\",\"#bf7fff\",\"#7fffff\",\"#bf7fff\",\"#bf7fff\",\"#7f9fff\",\"#bfff7f\",\"#7f9fff\",\"#ffdf7f\",\"#7fff9f\",\"#bf7fff\",\"#bf7fff\",\"#7fff9f\",\"#7fffff\",\"#7fff9f\",\"#bfff7f\",\"#ffdf7f\",\"#ffdf7f\",\"#7fffff\",\"#7fffff\",\"#bfff7f\",\"#bf7fff\",\"#ff7fdf\",\"#bfff7f\",\"#bf7fff\",\"#bfff7f\",\"#7fffff\",\"#bfff7f\",\"#7fffff\",\"#bfff7f\",\"#7f9fff\",\"#ff7fdf\",\"#7fffff\",\"#bf7fff\",\"#ffdf7f\",\"#bf7fff\",\"#7fffff\",\"#7fffff\",\"#7fffff\",\"#ff7f7f\",\"#7f9fff\",\"#ff7fdf\",\"#7fff9f\",\"#bfff7f\",\"#ffdf7f\",\"#7f9fff\",\"#7f9fff\",\"#7fff9f\",\"#bfff7f\",\"#7fff9f\",\"#bfff7f\",\"#7f9fff\",\"#7f9fff\",\"#ffdf7f\",\"#7f9fff\",\"#ff7fdf\",\"#ffdf7f\",\"#ff7fdf\",\"#7f9fff\",\"#7fff9f\",\"#ffdf7f\",\"#ff7f7f\",\"#7fff9f\",\"#ffdf7f\",\"#ff7f7f\",\"#7fff9f\",\"#ffdf7f\",\"#bf7fff\",\"#ff7f7f\",\"#bfff7f\",\"#ffdf7f\",\"#ff7f7f\",\"#7f9fff\",\"#7fff9f\",\"#bfff7f\",\"#bf7fff\",\"#ff7fdf\",\"#7fff9f\",\"#ff7fdf\",\"#ff7f7f\",\"#ffdf7f\",\"#7f9fff\",\"#ff7f7f\",\"#bf7fff\",\"#bf7fff\",\"#7fffff\",\"#bfff7f\",\"#7fff9f\",\"#7fffff\",\"#bf7fff\",\"#bf7fff\",\"#bf7fff\",\"#bfff7f\",\"#ff7fdf\",\"#bf7fff\",\"#7fff9f\",\"#bf7fff\",\"#7fffff\",\"#7f9fff\",\"#7fffff\",\"#ffdf7f\",\"#7fff9f\",\"#ff7f7f\",\"#ff7f7f\",\"#7fff9f\",\"#bfff7f\",\"#bfff7f\",\"#ffdf7f\",\"#7fffff\",\"#7fffff\",\"#ff7fdf\",\"#bf7fff\",\"#bf7fff\",\"#bf7fff\",\"#7fffff\",\"#bf7fff\",\"#7fff9f\",\"#7fffff\",\"#bf7fff\",\"#7f9fff\",\"#7fffff\",\"#ff7f7f\",\"#ff7fdf\",\"#bf7fff\",\"#7fffff\",\"#7fffff\",\"#7f9fff\",\"#7fffff\",\"#7fffff\",\"#ff7fdf\",\"#7fffff\",\"#7fffff\",\"#ff7fdf\",\"#7fffff\",\"#ff7f7f\",\"#7fffff\",\"#7f9fff\",\"#7fffff\",\"#ffdf7f\",\"#7fffff\",\"#ff7fdf\",\"#ffdf7f\",\"#bfff7f\",\"#ff7f7f\",\"#7fffff\",\"#ff7fdf\",\"#ff7f7f\",\"#ff7fdf\",\"#bfff7f\",\"#bfff7f\",\"#ffdf7f\",\"#ff7fdf\",\"#ff7fdf\",\"#bfff7f\",\"#ff7f7f\",\"#7fffff\",\"#7f9fff\",\"#7fffff\",\"#ff7f7f\",\"#ff7fdf\",\"#bf7fff\",\"#ff7fdf\",\"#7fffff\",\"#bf7fff\",\"#bfff7f\",\"#bfff7f\",\"#ff7fdf\",\"#7fffff\",\"#7f9fff\",\"#bf7fff\",\"#bf7fff\",\"#ffdf7f\",\"#bf7fff\",\"#bfff7f\",\"#7fffff\",\"#bfff7f\",\"#ffdf7f\",\"#7fffff\",\"#ff7f7f\",\"#7fffff\",\"#bf7fff\",\"#7fff9f\",\"#7fffff\",\"#ffdf7f\",\"#7fffff\",\"#ff7fdf\",\"#7f9fff\",\"#7fff9f\",\"#7f9fff\",\"#7fff9f\",\"#ffdf7f\",\"#7fffff\",\"#ff7f7f\",\"#bf7fff\",\"#7fffff\",\"#7fff9f\",\"#bf7fff\",\"#7f9fff\",\"#7fff9f\",\"#7fff9f\",\"#7f9fff\",\"#ffdf7f\",\"#ff7f7f\",\"#7fff9f\",\"#ff7fdf\",\"#ff7fdf\",\"#7fff9f\",\"#7fff9f\",\"#7fffff\",\"#7f9fff\",\"#ffdf7f\",\"#ff7fdf\",\"#7fffff\",\"#ffdf7f\",\"#ffdf7f\",\"#ffdf7f\",\"#7f9fff\",\"#7f9fff\",\"#bf7fff\",\"#7fff9f\",\"#bf7fff\",\"#7fff9f\",\"#ff7f7f\",\"#bf7fff\",\"#7fff9f\",\"#bfff7f\",\"#bf7fff\",\"#ffdf7f\",\"#bfff7f\",\"#7fffff\",\"#ffdf7f\",\"#7f9fff\",\"#bf7fff\",\"#7fffff\",\"#7fffff\",\"#7fffff\",\"#ff7f7f\",\"#ff7fdf\",\"#7f9fff\",\"#7fffff\",\"#7fffff\",\"#7fff9f\",\"#ffdf7f\",\"#7fffff\",\"#7fffff\",\"#bf7fff\",\"#bfff7f\",\"#ffdf7f\",\"#ff7f7f\",\"#ffdf7f\",\"#7fff9f\",\"#ffdf7f\",\"#7f9fff\",\"#bf7fff\",\"#7fff9f\",\"#ff7fdf\",\"#ff7fdf\",\"#7f9fff\",\"#bfff7f\",\"#ff7f7f\",\"#7fffff\",\"#7fffff\",\"#ffdf7f\",\"#ff7fdf\",\"#ff7f7f\",\"#ff7f7f\",\"#ff7f7f\",\"#bf7fff\",\"#7fffff\",\"#bfff7f\",\"#ff7f7f\",\"#bf7fff\",\"#7fffff\",\"#7fffff\",\"#bf7fff\",\"#bfff7f\",\"#ff7f7f\",\"#ff7f7f\",\"#ff7fdf\",\"#7fffff\",\"#7fffff\",\"#7f9fff\",\"#bf7fff\",\"#bfff7f\",\"#bf7fff\",\"#7fff9f\",\"#ff7fdf\",\"#bf7fff\",\"#bf7fff\",\"#7fff9f\",\"#ffdf7f\",\"#ff7f7f\",\"#ff7fdf\",\"#ff7fdf\",\"#ffdf7f\",\"#7f9fff\",\"#7f9fff\",\"#7f9fff\",\"#bf7fff\",\"#ffdf7f\",\"#ff7fdf\",\"#ff7f7f\",\"#bfff7f\",\"#7fff9f\",\"#7fff9f\",\"#7f9fff\",\"#ffdf7f\",\"#7fffff\",\"#ff7f7f\",\"#ff7f7f\",\"#7fffff\",\"#ff7fdf\",\"#bfff7f\",\"#bf7fff\",\"#ff7fdf\",\"#7fffff\",\"#7fff9f\",\"#7f9fff\",\"#7fffff\",\"#bf7fff\",\"#ff7fdf\",\"#ffdf7f\",\"#7f9fff\",\"#ffdf7f\",\"#7fff9f\",\"#bfff7f\",\"#7f9fff\",\"#ffdf7f\",\"#ff7fdf\",\"#bf7fff\",\"#bfff7f\",\"#ff7fdf\",\"#bf7fff\",\"#7fffff\",\"#bf7fff\",\"#ffdf7f\",\"#bfff7f\",\"#bf7fff\",\"#ff7f7f\",\"#7fff9f\",\"#7fffff\",\"#ffdf7f\",\"#7fffff\",\"#7f9fff\",\"#7fff9f\",\"#7fff9f\",\"#7fffff\",\"#bf7fff\",\"#bf7fff\",\"#7fff9f\",\"#bfff7f\",\"#ff7fdf\",\"#bf7fff\",\"#ffdf7f\",\"#7fffff\",\"#7fffff\",\"#ff7fdf\",\"#ff7fdf\",\"#ff7fdf\",\"#ff7fdf\",\"#ff7fdf\",\"#ff7fdf\",\"#bf7fff\",\"#ff7f7f\",\"#bfff7f\",\"#bfff7f\",\"#bf7fff\",\"#bf7fff\",\"#ff7fdf\",\"#ffdf7f\",\"#7fffff\",\"#7f9fff\",\"#bf7fff\",\"#7f9fff\",\"#7f9fff\",\"#bf7fff\",\"#ff7fdf\",\"#7fffff\",\"#ff7fdf\",\"#7f9fff\",\"#7fffff\",\"#7fffff\",\"#bfff7f\",\"#bfff7f\",\"#ffdf7f\",\"#ffdf7f\",\"#bf7fff\",\"#bf7fff\",\"#ff7fdf\",\"#ff7fdf\",\"#bf7fff\",\"#bf7fff\",\"#bfff7f\",\"#ff7fdf\",\"#bf7fff\",\"#ffdf7f\",\"#ff7fdf\",\"#7f9fff\",\"#bfff7f\",\"#bfff7f\",\"#ff7fdf\",\"#ffdf7f\",\"#bf7fff\",\"#ffdf7f\",\"#bfff7f\",\"#ff7fdf\",\"#7f9fff\",\"#ff7f7f\",\"#7fff9f\",\"#ff7fdf\",\"#bfff7f\",\"#bf7fff\",\"#bf7fff\",\"#bf7fff\",\"#7fff9f\",\"#ff7fdf\",\"#7fff9f\",\"#bf7fff\",\"#7f9fff\",\"#7fffff\",\"#bfff7f\",\"#bf7fff\",\"#bfff7f\",\"#7f9fff\",\"#bf7fff\",\"#7fffff\",\"#bf7fff\",\"#7fffff\",\"#ff7fdf\",\"#7fff9f\",\"#bfff7f\",\"#ff7fdf\",\"#ff7fdf\",\"#ffdf7f\",\"#ff7fdf\",\"#bf7fff\",\"#bf7fff\",\"#ff7fdf\",\"#ff7fdf\",\"#ff7fdf\",\"#ff7f7f\",\"#ff7fdf\",\"#bfff7f\",\"#ff7f7f\",\"#ff7fdf\",\"#7f9fff\",\"#7fff9f\",\"#ff7fdf\",\"#ff7f7f\",\"#ffdf7f\",\"#bf7fff\",\"#7fff9f\",\"#7fffff\",\"#ffdf7f\",\"#ff7fdf\",\"#ffdf7f\",\"#7f9fff\",\"#7f9fff\",\"#bf7fff\",\"#bf7fff\",\"#ff7fdf\",\"#bf7fff\",\"#ff7fdf\",\"#bf7fff\",\"#ffdf7f\",\"#bf7fff\",\"#bf7fff\",\"#ff7fdf\",\"#ffdf7f\",\"#bf7fff\",\"#bf7fff\",\"#7f9fff\",\"#bf7fff\",\"#7f9fff\",\"#7f9fff\",\"#ffdf7f\",\"#7f9fff\",\"#bf7fff\",\"#bf7fff\",\"#7fffff\",\"#ff7f7f\",\"#bf7fff\",\"#ffdf7f\",\"#7fffff\",\"#bf7fff\",\"#ff7f7f\",\"#bf7fff\",\"#ff7f7f\",\"#bfff7f\",\"#ff7fdf\",\"#bf7fff\",\"#ff7f7f\",\"#ff7f7f\",\"#7f9fff\",\"#bfff7f\",\"#ff7fdf\",\"#bf7fff\",\"#7fffff\",\"#7f9fff\",\"#7fffff\",\"#ff7fdf\",\"#ffdf7f\",\"#ffdf7f\",\"#ff7fdf\",\"#ff7fdf\",\"#bfff7f\",\"#7f9fff\",\"#ff7fdf\",\"#bf7fff\",\"#ff7f7f\",\"#ff7fdf\",\"#bfff7f\",\"#bf7fff\",\"#ffdf7f\",\"#ff7fdf\",\"#7fffff\",\"#ff7fdf\",\"#bfff7f\",\"#ff7fdf\",\"#bfff7f\",\"#7f9fff\",\"#ff7f7f\",\"#ffdf7f\",\"#7fff9f\",\"#ff7f7f\",\"#ffdf7f\",\"#ff7f7f\",\"#7fffff\",\"#7fffff\",\"#ff7f7f\",\"#ff7fdf\",\"#bf7fff\",\"#ffdf7f\",\"#bf7fff\",\"#7fffff\",\"#7fff9f\",\"#ff7fdf\",\"#bf7fff\",\"#7fff9f\",\"#ff7fdf\",\"#bf7fff\",\"#ff7fdf\",\"#bfff7f\",\"#ff7f7f\",\"#ff7fdf\",\"#bf7fff\",\"#ff7fdf\",\"#7f9fff\",\"#ff7fdf\",\"#7fffff\",\"#bf7fff\",\"#bf7fff\",\"#ff7fdf\",\"#ff7f7f\",\"#ffdf7f\",\"#bf7fff\",\"#ffdf7f\",\"#7fffff\",\"#7fff9f\",\"#ff7f7f\",\"#7fff9f\",\"#ff7fdf\",\"#7f9fff\",\"#7fff9f\",\"#bf7fff\",\"#bfff7f\",\"#ff7fdf\",\"#7f9fff\",\"#7fffff\",\"#ffdf7f\",\"#7f9fff\",\"#7fffff\",\"#bf7fff\",\"#ff7f7f\",\"#7f9fff\",\"#7fffff\",\"#bf7fff\",\"#bf7fff\",\"#7fff9f\",\"#7f9fff\",\"#7fffff\",\"#7fffff\",\"#ff7fdf\",\"#7f9fff\",\"#ff7fdf\",\"#7fffff\",\"#ff7fdf\",\"#bfff7f\",\"#7f9fff\",\"#ff7fdf\",\"#bfff7f\",\"#bf7fff\",\"#7f9fff\",\"#bfff7f\",\"#bf7fff\",\"#ffdf7f\",\"#7fff9f\",\"#ff7fdf\",\"#7fffff\",\"#ffdf7f\",\"#ff7f7f\",\"#7f9fff\",\"#bf7fff\",\"#bfff7f\",\"#ff7fdf\",\"#bfff7f\",\"#7fffff\",\"#bfff7f\",\"#bf7fff\",\"#7fffff\",\"#7f9fff\",\"#bf7fff\",\"#bf7fff\",\"#7fff9f\",\"#ffdf7f\",\"#7f9fff\",\"#bfff7f\",\"#7fffff\",\"#ff7f7f\",\"#7fffff\",\"#ff7fdf\",\"#7f9fff\",\"#ff7fdf\",\"#bf7fff\",\"#ff7fdf\",\"#bfff7f\",\"#ff7f7f\",\"#bfff7f\",\"#bf7fff\",\"#7f9fff\",\"#7fff9f\",\"#ffdf7f\",\"#bfff7f\",\"#7fff9f\",\"#bf7fff\",\"#7f9fff\",\"#7fffff\",\"#7fff9f\",\"#ff7fdf\",\"#ff7fdf\",\"#ffdf7f\",\"#7fffff\",\"#ff7fdf\",\"#7fff9f\",\"#7fff9f\",\"#ff7f7f\",\"#ff7fdf\",\"#bfff7f\",\"#ffdf7f\",\"#bfff7f\",\"#7fffff\",\"#bf7fff\",\"#ff7f7f\",\"#ff7fdf\",\"#7fff9f\",\"#ffdf7f\",\"#bf7fff\",\"#ffdf7f\",\"#7fffff\",\"#bf7fff\",\"#bf7fff\",\"#7fffff\",\"#ff7fdf\",\"#ff7fdf\",\"#ffdf7f\",\"#bfff7f\",\"#ff7f7f\",\"#bfff7f\",\"#bf7fff\",\"#bf7fff\",\"#bfff7f\",\"#7fff9f\"],\"names\":[\"the\",\"of\",\"and\",\"in\",\"to\",\"a\",\"was\",\"s\",\"on\",\"as\",\"for\",\"that\",\"with\",\"by\",\"is\",\"his\",\"at\",\"he\",\"from\",\"it\",\"were\",\"an\",\"had\",\"which\",\"be\",\"this\",\"but\",\"are\",\"first\",\"not\",\"their\",\"after\",\"one\",\"her\",\"also\",\"its\",\"they\",\"two\",\"or\",\"have\",\"who\",\"new\",\"been\",\"has\",\"she\",\"when\",\"time\",\"during\",\"other\",\"would\",\"into\",\"all\",\"i\",\"more\",\"while\",\"over\",\"game\",\"him\",\"only\",\"later\",\"up\",\"most\",\"th\",\"about\",\"out\",\"three\",\"between\",\"there\",\"than\",\"some\",\"film\",\"may\",\"year\",\"before\",\"made\",\"no\",\"such\",\"season\",\"where\",\"second\",\"years\",\"world\",\"war\",\"both\",\"however\",\"then\",\"being\",\"through\",\"these\",\"used\",\"them\",\"series\",\"against\",\"song\",\"m\",\"album\",\"many\",\"team\",\"became\",\"several\",\"city\",\"number\",\"north\",\"four\",\"part\",\"united\",\"can\",\"including\",\"early\",\"well\",\"under\",\"state\",\"south\",\"music\",\"day\",\"so\",\"episode\",\"said\",\"states\",\"following\",\"american\",\"known\",\"could\",\"did\",\"although\",\"until\",\"work\",\"began\",\"released\",\"like\",\"because\",\"t\",\"called\",\"high\",\"people\",\"end\",\"since\",\"around\",\"each\",\"long\",\"british\",\"if\",\"national\",\"best\",\"life\",\"found\",\"september\",\"us\",\"another\",\"same\",\"five\",\"back\",\"west\",\"along\",\"million\",\"show\",\"km\",\"you\",\"took\",\"use\",\"final\",\"group\",\"any\",\"area\",\"received\",\"century\",\"off\",\"school\",\"october\",\"august\",\"due\",\"will\",\"john\",\"what\",\"line\",\"single\",\"east\",\"government\",\"system\",\"june\",\"march\",\"home\",\"november\",\"july\",\"third\",\"games\",\"general\",\"april\",\"down\",\"large\",\"much\",\"major\",\"left\",\"house\",\"set\",\"based\",\"just\",\"family\",\"york\",\"company\",\"place\",\"included\",\"we\",\"army\",\"january\",\"road\",\"history\",\"played\",\"six\",\"december\",\"band\",\"name\",\"character\",\"king\",\"now\",\"wrote\",\"main\",\"led\",\"according\",\"won\",\"described\",\"within\",\"video\",\"men\",\"death\",\"last\",\"times\",\"near\",\"river\",\"d\",\"own\",\"named\",\"late\",\"those\",\"air\",\"league\",\"battle\",\"st\",\"great\",\"de\",\"record\",\"next\",\"way\",\"release\",\"top\",\"still\",\"make\",\"even\",\"original\",\"species\",\"ship\",\"route\",\"very\",\"man\",\"force\",\"production\",\"built\",\"storm\",\"small\",\"old\",\"february\",\"again\",\"club\",\"public\",\"u\",\"among\",\"though\",\"days\",\"university\",\"b\",\"french\",\"service\",\"play\",\"division\",\"held\",\"having\",\"book\",\"further\",\"side\",\"do\",\"role\",\"story\",\"match\",\"german\",\"player\",\"power\",\"water\",\"point\",\"often\",\"white\",\"members\",\"former\",\"h\",\"order\",\"career\",\"continued\",\"despite\",\"without\",\"town\",\"black\",\"park\",\"came\",\"local\",\"take\",\"considered\",\"england\",\"half\",\"party\",\"island\",\"form\",\"songs\",\"c\",\"support\",\"few\",\"military\",\"moved\",\"english\",\"period\",\"county\",\"become\",\"development\",\"different\",\"building\",\"lost\",\"version\",\"little\",\"written\",\"forces\",\"tropical\",\"court\",\"given\",\"country\",\"international\",\"president\",\"ii\",\"my\",\"lead\",\"re\",\"church\",\"london\",\"never\",\"published\",\"short\",\"n\",\"position\",\"attack\",\"produced\",\"returned\",\"similar\",\"street\",\"class\",\"track\",\"royal\",\"using\",\"went\",\"performance\",\"gave\",\"tour\",\"ships\",\"television\",\"include\",\"highway\",\"aircraft\",\"land\",\"recorded\",\"stated\",\"making\",\"total\",\"children\",\"western\",\"once\",\"control\",\"run\",\"father\",\"star\",\"week\",\"live\",\"good\",\"how\",\"himself\",\"love\",\"right\",\"me\",\"design\",\"head\",\"light\",\"women\",\"upon\",\"fire\",\"per\",\"throughout\",\"characters\",\"seven\",\"away\",\"less\",\"australia\",\"ten\",\"r\",\"writing\",\"age\",\"players\",\"instead\",\"rock\",\"sea\",\"central\",\"result\",\"young\",\"months\",\"return\",\"title\",\"previous\",\"station\",\"james\",\"remained\",\"hurricane\",\"across\",\"developed\",\"political\",\"ft\",\"law\",\"race\",\"red\",\"center\",\"night\",\"act\",\"died\",\"son\",\"created\",\"win\",\"low\",\"eight\",\"various\",\"eventually\",\"too\",\"e\",\"field\",\"announced\",\"reported\",\"southern\",\"william\",\"america\",\"office\",\"should\",\"areas\",\"together\",\"served\",\"college\",\"miles\",\"felt\",\"japanese\",\"style\",\"construction\",\"sent\",\"noted\",\"award\",\"reached\",\"performed\",\"level\",\"seen\",\"killed\",\"northern\",\"able\",\"range\",\"followed\",\"member\",\"taken\",\"campaign\",\"established\",\"common\",\"points\",\"success\",\"full\",\"born\",\"works\",\"mm\",\"modern\",\"stage\",\"chart\",\"front\",\"present\",\"body\",\"features\",\"originally\",\"appeared\",\"football\",\"thought\",\"others\",\"special\",\"post\",\"action\",\"caused\",\"australian\",\"addition\",\"critics\",\"project\",\"located\",\"fourth\",\"site\",\"george\",\"rather\",\"feet\",\"o\",\"formed\",\"f\",\"get\",\"started\",\"every\",\"saw\",\"bridge\",\"heavy\",\"decided\",\"playing\",\"completed\",\"damage\",\"director\",\"behind\",\"championship\",\"kingdom\",\"go\",\"added\",\"non\",\"population\",\"sold\",\"soon\",\"david\",\"awards\",\"initially\",\"strong\",\"command\",\"working\",\"almost\",\"open\",\"eastern\",\"case\",\"important\",\"close\",\"opened\",\"fleet\",\"guns\",\"art\",\"leading\",\"ground\",\"see\",\"scene\",\"mother\",\"mi\",\"union\",\"popular\",\"france\",\"towards\",\"weeks\",\"region\",\"free\",\"sound\",\"michael\",\"scored\",\"l\",\"allowed\",\"help\",\"navy\",\"coast\",\"worked\",\"brought\",\"does\",\"least\",\"event\",\"cup\",\"featured\",\"wanted\",\"ever\",\"records\",\"provided\",\"placed\",\"hall\",\"recording\",\"training\",\"average\",\"victory\",\"generally\",\"hit\",\"wife\",\"henry\",\"either\",\"example\",\"magazine\",\"troops\",\"studio\",\"mid\",\"designed\",\"put\",\"runs\",\"human\",\"list\",\"nine\",\"opening\",\"europe\",\"joined\",\"events\",\"hours\",\"co\",\"replaced\",\"saying\",\"washington\",\"x\",\"start\",\"summer\",\"media\",\"involved\",\"believed\",\"crew\",\"robert\",\"al\",\"council\",\"far\",\"big\",\"society\",\"european\",\"possible\",\"base\",\"earlier\",\"radio\",\"brown\",\"shot\",\"squadron\",\"highest\",\"police\",\"japan\",\"films\",\"particularly\",\"official\",\"minutes\",\"significant\",\"successful\",\"largest\",\"operation\",\"finished\",\"beginning\",\"rest\",\"met\",\"review\",\"available\",\"association\",\"change\",\"forced\",\"outside\",\"mph\",\"turned\",\"stone\",\"process\",\"taking\",\"captain\",\"better\",\"month\",\"reviews\",\"relationship\",\"move\",\"section\",\"business\",\"winds\",\"lower\",\"research\",\"must\",\"social\",\"test\",\"cast\",\"board\",\"middle\",\"increased\",\"ordered\",\"going\",\"praised\",\"units\",\"thus\",\"previously\",\"passed\",\"canada\",\"community\",\"positive\",\"appearance\",\"real\",\"rights\",\"come\",\"signed\",\"ended\",\"elements\",\"above\",\"program\",\"future\",\"gold\",\"space\",\"thomas\",\"additional\",\"enough\",\"san\",\"charles\",\"hill\",\"female\",\"goal\",\"told\",\"infantry\",\"lake\",\"chief\",\"round\",\"california\",\"cross\",\"failed\",\"interest\",\"staff\",\"spent\",\"directed\",\"musical\",\"g\",\"give\",\"overall\",\"don\",\"money\",\"plan\",\"parts\",\"paul\",\"committee\",\"critical\",\"lines\",\"castle\",\"hand\",\"news\",\"brother\",\"grand\",\"attempt\",\"type\",\"find\",\"election\",\"gun\",\"v\",\"evidence\",\"battalion\",\"term\",\"sometimes\",\"itself\",\"cover\",\"district\",\"groups\",\"room\",\"prior\",\"plot\",\"already\",\"port\",\"our\",\"required\",\"response\",\"ny\",\"reception\",\"debut\",\"germany\",\"introduced\",\"india\",\"claimed\",\"green\",\"usually\",\"p\",\"food\",\"personal\",\"loss\",\"past\",\"smith\",\"study\",\"surface\",\"press\",\"speed\",\"square\",\"decision\",\"k\",\"entire\",\"novel\",\"commander\",\"limited\",\"structure\",\"complete\",\"episodes\",\"uk\",\"quickly\",\"asked\",\"score\",\"background\",\"whose\",\"person\",\"whom\",\"britain\",\"indian\",\"idea\",\"students\",\"issue\",\"industry\",\"flight\",\"richard\",\"mark\",\"larger\",\"turn\",\"education\",\"queen\",\"services\",\"movement\",\"governor\",\"teams\",\"operations\",\"fifth\",\"bill\",\"peter\",\"defeated\",\"estimated\",\"writer\",\"becoming\",\"arrived\",\"bay\",\"remaining\",\"village\",\"anti\",\"la\",\"blue\",\"science\",\"latter\",\"date\",\"minister\",\"shows\",\"living\",\"commercial\",\"carried\",\"woman\",\"entered\",\"especially\",\"car\",\"cut\",\"influence\",\"pressure\",\"pop\",\"stars\",\"report\",\"civil\",\"size\",\"today\",\"depression\",\"los\",\"running\",\"earth\",\"might\",\"effects\",\"voice\",\"material\",\"hot\",\"child\",\"nearly\",\"god\",\"subsequently\",\"percent\",\"scenes\",\"length\",\"destroyed\",\"suggested\",\"approximately\",\"changes\",\"centre\",\"leaving\",\"virginia\",\"proposed\",\"wide\",\"view\",\"islands\",\"shortly\",\"self\",\"railway\",\"current\",\"tracks\",\"spanish\",\"regular\",\"empire\",\"lack\",\"daughter\",\"fact\",\"appointed\",\"soviet\",\"department\",\"higher\",\"language\",\"winning\",\"naval\",\"provide\",\"married\",\"finally\",\"cost\",\"whether\",\"course\",\"leader\",\"immediately\",\"nd\",\"related\",\"dark\",\"your\",\"agreed\",\"face\",\"professional\",\"compared\",\"trade\",\"numerous\",\"producer\",\"awarded\",\"chicago\",\"jackson\",\"yet\",\"brigade\",\"helped\",\"intended\",\"network\",\"officer\",\"experience\",\"done\",\"upper\",\"manager\",\"fans\",\"books\",\"singles\",\"countries\",\"soldiers\",\"something\",\"buildings\",\"ball\",\"mostly\",\"nature\",\"captured\",\"create\",\"chinese\",\"officers\",\"health\",\"associated\",\"contract\",\"guitar\",\"supported\",\"feature\",\"federal\",\"extended\",\"corps\",\"museum\",\"edward\",\"key\",\"longer\",\"regiment\",\"really\",\"issued\",\"christian\",\"planned\",\"plans\",\"friends\",\"remains\",\"lord\",\"effect\",\"billboard\",\"cm\",\"lyrics\",\"private\",\"friend\",\"minor\",\"pass\",\"appear\",\"forward\",\"fort\",\"themselves\",\"changed\",\"probably\",\"information\",\"dead\",\"moving\",\"ran\",\"broadcast\",\"difficult\",\"always\",\"initial\",\"natural\",\"mixed\",\"keep\",\"j\",\"got\",\"location\",\"roman\",\"problems\",\"cause\",\"know\",\"pacific\",\"leave\",\"offered\",\"conference\",\"meeting\",\"suffered\",\"male\",\"energy\",\"fight\",\"singer\",\"copies\",\"minute\",\"valley\",\"johnson\",\"edition\",\"via\"],\"x1\":{\"__ndarray__\":\"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\",\"dtype\":\"float64\",\"shape\":[1000]},\"x2\":{\"__ndarray__\":\"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\",\"dtype\":\"float64\",\"shape\":[1000]}}},\"id\":\"514516c6-15e9-4a8c-a457-1b82f749e44a\",\"type\":\"ColumnDataSource\"},{\"attributes\":{\"callback\":null},\"id\":\"66b48540-2848-4054-bbc4-249a703cb237\",\"type\":\"DataRange1d\"},{\"attributes\":{\"dimension\":1,\"plot\":{\"id\":\"5f96220b-ed5f-40e5-9759-9c3ba9ae6372\",\"subtype\":\"Figure\",\"type\":\"Plot\"},\"ticker\":{\"id\":\"c3f48374-70f9-4129-8d5a-11344d11437a\",\"type\":\"BasicTicker\"}},\"id\":\"7cd7e53e-42fa-46c7-9f6a-f14f4b208e3d\",\"type\":\"Grid\"},{\"attributes\":{},\"id\":\"1b20331d-e743-48aa-8cad-7028f4c8af4a\",\"type\":\"ToolEvents\"},{\"attributes\":{},\"id\":\"c3f48374-70f9-4129-8d5a-11344d11437a\",\"type\":\"BasicTicker\"},{\"attributes\":{\"formatter\":{\"id\":\"548beb21-4579-40b8-b73a-47674d83a42d\",\"type\":\"BasicTickFormatter\"},\"plot\":{\"id\":\"5f96220b-ed5f-40e5-9759-9c3ba9ae6372\",\"subtype\":\"Figure\",\"type\":\"Plot\"},\"ticker\":{\"id\":\"c3f48374-70f9-4129-8d5a-11344d11437a\",\"type\":\"BasicTicker\"}},\"id\":\"7bac0878-0490-4c47-b349-22c485a7cdea\",\"type\":\"LinearAxis\"},{\"attributes\":{\"below\":[{\"id\":\"272c412e-6de1-4e32-8079-069e2e49fa7c\",\"type\":\"LinearAxis\"}],\"left\":[{\"id\":\"7bac0878-0490-4c47-b349-22c485a7cdea\",\"type\":\"LinearAxis\"}],\"renderers\":[{\"id\":\"272c412e-6de1-4e32-8079-069e2e49fa7c\",\"type\":\"LinearAxis\"},{\"id\":\"aa0e336e-4475-4d5b-b4c0-be0b8bf52e3c\",\"type\":\"Grid\"},{\"id\":\"7bac0878-0490-4c47-b349-22c485a7cdea\",\"type\":\"LinearAxis\"},{\"id\":\"7cd7e53e-42fa-46c7-9f6a-f14f4b208e3d\",\"type\":\"Grid\"},{\"id\":\"329aa05b-0c65-46fa-a4de-7d8c2529d9b3\",\"type\":\"GlyphRenderer\"},{\"id\":\"32bb2ea4-e6e1-45f9-8381-3e1924251084\",\"type\":\"LabelSet\"}],\"title\":{\"id\":\"3282a427-0b4f-4746-b9a1-a9deaf87a4a9\",\"type\":\"Title\"},\"tool_events\":{\"id\":\"1b20331d-e743-48aa-8cad-7028f4c8af4a\",\"type\":\"ToolEvents\"},\"toolbar\":{\"id\":\"04f71d8f-d9b1-46f5-ae32-aead9aa4ada1\",\"type\":\"Toolbar\"},\"toolbar_location\":\"above\",\"x_range\":{\"id\":\"66b48540-2848-4054-bbc4-249a703cb237\",\"type\":\"DataRange1d\"},\"y_range\":{\"id\":\"9d3f0400-d3ce-48aa-bada-15255c1888bd\",\"type\":\"DataRange1d\"}},\"id\":\"5f96220b-ed5f-40e5-9759-9c3ba9ae6372\",\"subtype\":\"Figure\",\"type\":\"Plot\"},{\"attributes\":{\"plot\":{\"id\":\"5f96220b-ed5f-40e5-9759-9c3ba9ae6372\",\"subtype\":\"Figure\",\"type\":\"Plot\"}},\"id\":\"1719e2ed-5e46-4036-b364-86484d6656a9\",\"type\":\"WheelZoomTool\"},{\"attributes\":{\"plot\":null,\"text\":\"word2vec T-SNE for most common words\"},\"id\":\"3282a427-0b4f-4746-b9a1-a9deaf87a4a9\",\"type\":\"Title\"},{\"attributes\":{},\"id\":\"548beb21-4579-40b8-b73a-47674d83a42d\",\"type\":\"BasicTickFormatter\"},{\"attributes\":{\"data_source\":{\"id\":\"514516c6-15e9-4a8c-a457-1b82f749e44a\",\"type\":\"ColumnDataSource\"},\"glyph\":{\"id\":\"4f718537-4ff7-4d96-a5c0-5228f50ab1f5\",\"type\":\"Circle\"},\"hover_glyph\":null,\"muted_glyph\":null,\"nonselection_glyph\":{\"id\":\"5d6830ee-b015-47c4-a491-5e7d765bd5f4\",\"type\":\"Circle\"},\"selection_glyph\":null},\"id\":\"329aa05b-0c65-46fa-a4de-7d8c2529d9b3\",\"type\":\"GlyphRenderer\"},{\"attributes\":{},\"id\":\"80d43ac5-b176-423f-a2cf-76305b540544\",\"type\":\"BasicTicker\"},{\"attributes\":{\"plot\":{\"id\":\"5f96220b-ed5f-40e5-9759-9c3ba9ae6372\",\"subtype\":\"Figure\",\"type\":\"Plot\"},\"source\":{\"id\":\"514516c6-15e9-4a8c-a457-1b82f749e44a\",\"type\":\"ColumnDataSource\"},\"text\":{\"field\":\"names\"},\"text_align\":\"center\",\"text_color\":{\"value\":\"#555555\"},\"text_font_size\":{\"value\":\"8pt\"},\"x\":{\"field\":\"x1\"},\"y\":{\"field\":\"x2\"},\"y_offset\":{\"value\":6}},\"id\":\"32bb2ea4-e6e1-45f9-8381-3e1924251084\",\"type\":\"LabelSet\"},{\"attributes\":{\"plot\":{\"id\":\"5f96220b-ed5f-40e5-9759-9c3ba9ae6372\",\"subtype\":\"Figure\",\"type\":\"Plot\"}},\"id\":\"e6843453-3dcc-44b4-83b7-0ee006c28606\",\"type\":\"ResetTool\"},{\"attributes\":{\"plot\":{\"id\":\"5f96220b-ed5f-40e5-9759-9c3ba9ae6372\",\"subtype\":\"Figure\",\"type\":\"Plot\"}},\"id\":\"a1889a67-8903-4b3b-8f97-5e04bcaa912b\",\"type\":\"SaveTool\"},{\"attributes\":{\"fill_color\":{\"field\":\"fill_color\"},\"line_color\":{\"value\":\"#1f77b4\"},\"size\":{\"units\":\"screen\",\"value\":8},\"x\":{\"field\":\"x1\"},\"y\":{\"field\":\"x2\"}},\"id\":\"4f718537-4ff7-4d96-a5c0-5228f50ab1f5\",\"type\":\"Circle\"},{\"attributes\":{\"callback\":null},\"id\":\"9d3f0400-d3ce-48aa-bada-15255c1888bd\",\"type\":\"DataRange1d\"},{\"attributes\":{\"active_drag\":\"auto\",\"active_scroll\":\"auto\",\"active_tap\":\"auto\",\"tools\":[{\"id\":\"2525af08-4a28-4bcc-a073-8c6e9e3fc31a\",\"type\":\"PanTool\"},{\"id\":\"1719e2ed-5e46-4036-b364-86484d6656a9\",\"type\":\"WheelZoomTool\"},{\"id\":\"e6843453-3dcc-44b4-83b7-0ee006c28606\",\"type\":\"ResetTool\"},{\"id\":\"a1889a67-8903-4b3b-8f97-5e04bcaa912b\",\"type\":\"SaveTool\"}]},\"id\":\"04f71d8f-d9b1-46f5-ae32-aead9aa4ada1\",\"type\":\"Toolbar\"}],\"root_ids\":[\"5f96220b-ed5f-40e5-9759-9c3ba9ae6372\"]},\"title\":\"Bokeh Application\",\"version\":\"0.12.5\"}};\n",
       "            var render_items = [{\"docid\":\"20d9c489-d002-41a4-b580-1287e693130d\",\"elementid\":\"0af2cecb-0309-4c8b-89c2-4be8b4cf324b\",\"modelid\":\"5f96220b-ed5f-40e5-9759-9c3ba9ae6372\"}];\n",
       "            \n",
       "            Bokeh.embed.embed_items(docs_json, render_items);\n",
       "          };\n",
       "          if (document.readyState != \"loading\") fn();\n",
       "          else document.addEventListener(\"DOMContentLoaded\", fn);\n",
       "        })();\n",
       "      },\n",
       "      function(Bokeh) {\n",
       "      }\n",
       "    ];\n",
       "  \n",
       "    function run_inline_js() {\n",
       "      \n",
       "      if ((window.Bokeh !== undefined) || (force === true)) {\n",
       "        for (var i = 0; i < inline_js.length; i++) {\n",
       "          inline_js[i](window.Bokeh);\n",
       "        }if (force === true) {\n",
       "          display_loaded();\n",
       "        }} else if (Date.now() < window._bokeh_timeout) {\n",
       "        setTimeout(run_inline_js, 100);\n",
       "      } else if (!window._bokeh_failed_load) {\n",
       "        console.log(\"Bokeh: BokehJS failed to load within specified timeout.\");\n",
       "        window._bokeh_failed_load = true;\n",
       "      } else if (force !== true) {\n",
       "        var cell = $(document.getElementById(\"0af2cecb-0309-4c8b-89c2-4be8b4cf324b\")).parents('.cell').data().cell;\n",
       "        cell.output_area.append_execute_result(NB_LOAD_WARNING)\n",
       "      }\n",
       "  \n",
       "    }\n",
       "  \n",
       "    if (window._bokeh_is_loading === 0) {\n",
       "      console.log(\"Bokeh: BokehJS loaded, going straight to plotting\");\n",
       "      run_inline_js();\n",
       "    } else {\n",
       "      load_libs(js_urls, function() {\n",
       "        console.log(\"Bokeh: BokehJS plotting callback run at\", now());\n",
       "        run_inline_js();\n",
       "      });\n",
       "    }\n",
       "  }(this));\n",
       "</script>"
      ]
     },
     "metadata": {},
     "output_type": "display_data"
    }
   ],
   "source": [
    "p = figure(tools=\"pan,wheel_zoom,reset,save\",\n",
    "           toolbar_location=\"above\",\n",
    "           title=\"word2vec T-SNE for most common words\")\n",
    "\n",
    "source = ColumnDataSource(data=dict(x1=words_top_wiki_tsne[:,0],\n",
    "                                    x2=words_top_wiki_tsne[:,1],\n",
    "                                    names=words_top_wiki))\n",
    "\n",
    "fill_colors = ['#%02x%02x%02x' % tuple(map(lambda x: int(255*x),colorsys.hsv_to_rgb(label*1.0/8,0.5,1))) for label in kmeans_wiki.labels_]\n",
    "\n",
    "p.scatter(x=\"x1\", y=\"x2\", size=8, source=source, fill_color=fill_colors)\n",
    "\n",
    "labels = LabelSet(x=\"x1\", y=\"x2\", text=\"names\", y_offset=6,\n",
    "                  text_font_size=\"8pt\", text_color=\"#555555\",\n",
    "                  source=source, text_align='center')\n",
    "p.add_layout(labels)\n",
    "\n",
    "show(p)"
   ]
  },
  {
   "cell_type": "code",
   "execution_count": null,
   "metadata": {
    "collapsed": true
   },
   "outputs": [],
   "source": []
  }
 ],
 "metadata": {
  "anaconda-cloud": {},
  "kernelspec": {
   "display_name": "Python 2",
   "language": "python",
   "name": "python2"
  },
  "language_info": {
   "codemirror_mode": {
    "name": "ipython",
    "version": 2
   },
   "file_extension": ".py",
   "mimetype": "text/x-python",
   "name": "python",
   "nbconvert_exporter": "python",
   "pygments_lexer": "ipython2",
   "version": "2.7.10"
  }
 },
 "nbformat": 4,
 "nbformat_minor": 0
}
