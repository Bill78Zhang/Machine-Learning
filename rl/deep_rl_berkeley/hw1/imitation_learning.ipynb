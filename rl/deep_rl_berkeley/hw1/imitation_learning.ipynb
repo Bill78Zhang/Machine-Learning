{
 "cells": [
  {
   "cell_type": "code",
   "execution_count": 1,
   "metadata": {
    "collapsed": true
   },
   "outputs": [],
   "source": [
    "import matplotlib.pyplot as plt\n",
    "%matplotlib inline"
   ]
  },
  {
   "cell_type": "code",
   "execution_count": 2,
   "metadata": {
    "collapsed": false
   },
   "outputs": [],
   "source": [
    "import os\n",
    "os.environ['MUJOCO_PY_MJKEY_PATH'] = '../mjpro131/bin/mjkey.txt'\n",
    "os.environ['MUJOCO_PY_MJPRO_PATH'] = '../mjpro131'\n",
    "import pickle\n",
    "import tensorflow as tf\n",
    "import numpy as np\n",
    "import tf_util\n",
    "import gym\n",
    "import load_policy\n",
    "import os\n",
    "import run_expert\n",
    "import pdb"
   ]
  },
  {
   "cell_type": "code",
   "execution_count": 3,
   "metadata": {
    "collapsed": true
   },
   "outputs": [],
   "source": [
    "def get_expert_rollouts(task, num_rollouts):\n",
    "    policy_fn = load_policy.load_policy('experts/{}.pkl'.format(task))\n",
    "    env = gym.make(task)\n",
    "    max_steps = env.spec.timestep_limit\n",
    "    returns = []\n",
    "    observations = []\n",
    "    actions = []\n",
    "    for i in range(num_rollouts):\n",
    "        if i % 10 == 0:\n",
    "            print 'Expert rollout number {}'.format(i)\n",
    "        obs = env.reset()\n",
    "        done = False\n",
    "        totalr = 0.\n",
    "        steps = 0\n",
    "        while not done:\n",
    "            action = policy_fn(obs[None,:])[0]\n",
    "            observations.append(obs)\n",
    "            actions.append(action)\n",
    "            obs, r, done, _ = env.step(action)\n",
    "            totalr += r\n",
    "            steps += 1\n",
    "            if steps >= max_steps:\n",
    "                break\n",
    "        returns.append(totalr)\n",
    "    \n",
    "    return returns, observations, actions"
   ]
  },
  {
   "cell_type": "code",
   "execution_count": 4,
   "metadata": {
    "collapsed": false
   },
   "outputs": [],
   "source": [
    "def behavioral_cloning(task):\n",
    "    with tf.Session() as sess:\n",
    "        # get expert rollouts\n",
    "        env = gym.make(task)\n",
    "        max_steps = env.spec.timestep_limit\n",
    "        print 'Max steps per rollout is {}'.format(max_steps)\n",
    "        num_rollouts = 100\n",
    "        num_epochs = 200\n",
    "\n",
    "        returns, observations, actions = get_expert_rollouts(task, num_rollouts)\n",
    "        mean_obs = np.average(observations, axis=0)\n",
    "        std_obs = np.std(observations, axis=0)+1e-6\n",
    "\n",
    "        # set up network\n",
    "        d_obs = env.observation_space.shape[0]\n",
    "        d_actions = env.action_space.shape[0]\n",
    "        sy_obs = tf.placeholder(tf.float32, [None,d_obs])\n",
    "        sy_actions = tf.placeholder(tf.float32, [None,d_actions])\n",
    "\n",
    "        w1 = tf.Variable(tf.truncated_normal([d_obs,64],stddev=1.0/d_obs**0.5))\n",
    "        b1 = tf.Variable(tf.zeros([64]))\n",
    "        h1 = tf.nn.relu(tf.matmul(sy_obs,w1)+b1)\n",
    "        \n",
    "        w2 = tf.Variable(tf.truncated_normal([64,64],stddev=1.0/8))\n",
    "        b2 = tf.Variable(tf.zeros([64]))\n",
    "        h2 = tf.nn.relu(tf.matmul(h1,w2)+b2)\n",
    "        \n",
    "        w3 = tf.Variable(tf.truncated_normal([64,d_actions],stddev=1.0/8))\n",
    "        b3 = tf.Variable(tf.zeros([d_actions]))\n",
    "        pred_actions = tf.matmul(h2,w3)+b3\n",
    "\n",
    "        beta = 0.0001\n",
    "        reg = tf.nn.l2_loss(w1) + tf.nn.l2_loss(w2) + tf.nn.l2_loss(w3)\n",
    "        loss = tf.reduce_mean(tf.square(sy_actions-pred_actions))\n",
    "        loss = tf.reduce_mean(loss + beta*reg)\n",
    "        train_step = tf.train.AdamOptimizer().minimize(loss)\n",
    "        \n",
    "        # train network on expert rollouts\n",
    "        train_losses = []\n",
    "        init = tf.global_variables_initializer()\n",
    "        sess.run(init)\n",
    "        batch_size = 1000\n",
    "        for i in range(num_epochs):\n",
    "            if i % 10 == 0:\n",
    "                print 'Epoch number {}'.format(i)\n",
    "            for j in range(len(observations)/batch_size):\n",
    "                obs = (observations[batch_size*j:batch_size*(j+1)]-mean_obs)/std_obs\n",
    "                act = actions[batch_size*j:batch_size*(j+1)]\n",
    "                train_loss, _ = sess.run([loss,train_step], feed_dict={sy_obs: obs, sy_actions: act})\n",
    "                train_losses.append(train_loss)\n",
    "\n",
    "        # test model\n",
    "        test_returns = []\n",
    "        test_observations = []\n",
    "        test_actions = []\n",
    "        for i in range(num_rollouts/10):\n",
    "            obs = env.reset()\n",
    "            done = False\n",
    "            totalr = 0.\n",
    "            steps = 0\n",
    "            while not done:\n",
    "                obs = (obs[np.newaxis]-mean_obs)/std_obs\n",
    "                action = sess.run(pred_actions, feed_dict={sy_obs: obs})\n",
    "                test_observations.append(obs)\n",
    "                test_actions.append(action)\n",
    "                obs, r, done, _ = env.step(action)\n",
    "                totalr += r\n",
    "                steps += 1\n",
    "                env.render()\n",
    "                if steps >= max_steps:\n",
    "                    break\n",
    "            test_returns.append(totalr)\n",
    "        return train_losses, returns, test_returns"
   ]
  },
  {
   "cell_type": "code",
   "execution_count": 5,
   "metadata": {
    "collapsed": true
   },
   "outputs": [],
   "source": [
    "def query_expert(task, observations):\n",
    "    policy_fn = load_policy.load_policy('experts/{}.pkl'.format(task))\n",
    "    actions = []\n",
    "    for i in range(len(observations)):\n",
    "        action = policy_fn(observations[i][None,:])[0]\n",
    "        actions.append(action)\n",
    "    return actions"
   ]
  },
  {
   "cell_type": "code",
   "execution_count": 12,
   "metadata": {
    "collapsed": false
   },
   "outputs": [],
   "source": [
    "def dagger(task):\n",
    "    with tf.Session() as sess:\n",
    "        # get expert rollouts\n",
    "        env = gym.make(task)\n",
    "        max_steps = env.spec.timestep_limit\n",
    "        print 'Max steps per rollout is {}'.format(max_steps)\n",
    "        num_rollouts = 100\n",
    "\n",
    "        returns, observations, actions = get_expert_rollouts(task, num_rollouts)\n",
    "        mean_obs = np.average(observations, axis=0)\n",
    "        std_obs = np.std(observations, axis=0)+1e-6\n",
    "\n",
    "        # set up network\n",
    "        d_obs = env.observation_space.shape[0]\n",
    "        d_actions = env.action_space.shape[0]\n",
    "        sy_obs = tf.placeholder(tf.float32, [None,d_obs])\n",
    "        sy_actions = tf.placeholder(tf.float32, [None,d_actions])\n",
    "\n",
    "        w1 = tf.Variable(tf.truncated_normal([d_obs,64],stddev=1.0/d_obs**0.5))\n",
    "        b1 = tf.Variable(tf.zeros([64]))\n",
    "        h1 = tf.nn.relu(tf.matmul(sy_obs,w1)+b1)\n",
    "        \n",
    "        w2 = tf.Variable(tf.truncated_normal([64,64],stddev=1.0/8))\n",
    "        b2 = tf.Variable(tf.zeros([64]))\n",
    "        h2 = tf.nn.relu(tf.matmul(h1,w2)+b2)\n",
    "        \n",
    "        w3 = tf.Variable(tf.truncated_normal([64,d_actions],stddev=1.0/8))\n",
    "        b3 = tf.Variable(tf.zeros([d_actions]))\n",
    "        pred_actions = tf.matmul(h2,w3)+b3\n",
    "\n",
    "        beta = 0.0001\n",
    "        reg = tf.nn.l2_loss(w1) + tf.nn.l2_loss(w2) + tf.nn.l2_loss(w3)\n",
    "        loss = tf.reduce_mean(tf.square(sy_actions-pred_actions))\n",
    "        loss = tf.reduce_mean(loss + beta*reg)\n",
    "        train_step = tf.train.AdamOptimizer().minimize(loss)\n",
    "        \n",
    "        train_losses = []\n",
    "        init = tf.global_variables_initializer()\n",
    "        sess.run(init)\n",
    "        batch_size = 1000\n",
    "        num_loops = 10\n",
    "        \n",
    "        for l in range(num_loops):\n",
    "            if l % 10 == 0:\n",
    "                print 'Loop number {}'.format(l)\n",
    "            # train network\n",
    "            for i in range(10):\n",
    "                for j in range(len(observations)/batch_size):\n",
    "                    obs = (observations[batch_size*j:batch_size*(j+1)]-mean_obs)/std_obs\n",
    "                    act = actions[batch_size*j:batch_size*(j+1)]\n",
    "                    train_loss, _ = sess.run([loss,train_step], feed_dict={sy_obs: obs, sy_actions: act})\n",
    "                    train_losses.append(train_loss)\n",
    "            val_returns = []\n",
    "            val_observations = []\n",
    "            val_actions = []\n",
    "            # generate rollout with policy\n",
    "            for i in range(num_rollouts/10):\n",
    "                obs = env.reset()\n",
    "                done = False\n",
    "                totalr = 0.\n",
    "                steps = 0\n",
    "                while not done:\n",
    "                    val_observations.append(obs)\n",
    "                    obs = (obs[None,:]-mean_obs)/std_obs\n",
    "                    action = sess.run(pred_actions, feed_dict={sy_obs: obs})\n",
    "                    val_actions.append(action)\n",
    "                    obs, r, done, _ = env.step(action)\n",
    "                    totalr += r\n",
    "                    steps += 1\n",
    "                    if steps >= max_steps:\n",
    "                        break\n",
    "                val_returns.append(totalr)\n",
    "            observations = val_observations\n",
    "            # label\n",
    "            actions = query_expert(task, observations)\n",
    "\n",
    "        # test model\n",
    "        test_returns = []\n",
    "        test_observations = []\n",
    "        test_actions = []\n",
    "        for i in range(num_rollouts/10):\n",
    "            obs = env.reset()\n",
    "            done = False\n",
    "            totalr = 0.\n",
    "            steps = 0\n",
    "            while not done:\n",
    "                obs = (obs[None,:]-mean_obs)/std_obs\n",
    "                action = sess.run(pred_actions, feed_dict={sy_obs: obs})\n",
    "                test_observations.append(obs)\n",
    "                test_actions.append(action)\n",
    "                obs, r, done, _ = env.step(action)\n",
    "                totalr += r\n",
    "                steps += 1\n",
    "                if steps >= max_steps:\n",
    "                    break\n",
    "            test_returns.append(totalr)\n",
    "        return train_losses, returns, test_returns"
   ]
  },
  {
   "cell_type": "code",
   "execution_count": 40,
   "metadata": {
    "collapsed": false
   },
   "outputs": [
    {
     "name": "stderr",
     "output_type": "stream",
     "text": [
      "INFO:gym.envs.registration:Making new env: Hopper-v1\n",
      "[2017-05-26 01:27:43,502] Making new env: Hopper-v1\n",
      "INFO:gym.envs.registration:Making new env: Hopper-v1\n",
      "[2017-05-26 01:27:43,542] Making new env: Hopper-v1\n"
     ]
    },
    {
     "name": "stdout",
     "output_type": "stream",
     "text": [
      "Max steps per rollout is 1000\n",
      "Expert rollout number 0\n",
      "Expert rollout number 10\n",
      "Expert rollout number 20\n",
      "Expert rollout number 30\n",
      "Expert rollout number 40\n",
      "Expert rollout number 50\n",
      "Expert rollout number 60\n",
      "Expert rollout number 70\n",
      "Expert rollout number 80\n",
      "Expert rollout number 90\n",
      "Epoch number 0\n",
      "Epoch number 10\n",
      "Epoch number 20\n",
      "Epoch number 30\n",
      "Epoch number 40\n",
      "Epoch number 50\n",
      "Epoch number 60\n",
      "Epoch number 70\n"
     ]
    },
    {
     "ename": "KeyboardInterrupt",
     "evalue": "",
     "output_type": "error",
     "traceback": [
      "\u001b[0;31m---------------------------------------------------------------------------\u001b[0m",
      "\u001b[0;31mKeyboardInterrupt\u001b[0m                         Traceback (most recent call last)",
      "\u001b[0;32m<ipython-input-40-4518158324ce>\u001b[0m in \u001b[0;36m<module>\u001b[0;34m()\u001b[0m\n\u001b[0;32m----> 1\u001b[0;31m \u001b[0mtrain_losses\u001b[0m\u001b[0;34m,\u001b[0m \u001b[0mreturns\u001b[0m\u001b[0;34m,\u001b[0m \u001b[0mtest_returns\u001b[0m \u001b[0;34m=\u001b[0m \u001b[0mbehavioral_cloning\u001b[0m\u001b[0;34m(\u001b[0m\u001b[0;34m'Hopper-v1'\u001b[0m\u001b[0;34m)\u001b[0m\u001b[0;34m\u001b[0m\u001b[0m\n\u001b[0m",
      "\u001b[0;32m<ipython-input-24-61bb0f70c7c4>\u001b[0m in \u001b[0;36mbehavioral_cloning\u001b[0;34m(task)\u001b[0m\n\u001b[1;32m     47\u001b[0m                 \u001b[0mobs\u001b[0m \u001b[0;34m=\u001b[0m \u001b[0;34m(\u001b[0m\u001b[0mobservations\u001b[0m\u001b[0;34m[\u001b[0m\u001b[0mbatch_size\u001b[0m\u001b[0;34m*\u001b[0m\u001b[0mj\u001b[0m\u001b[0;34m:\u001b[0m\u001b[0mbatch_size\u001b[0m\u001b[0;34m*\u001b[0m\u001b[0;34m(\u001b[0m\u001b[0mj\u001b[0m\u001b[0;34m+\u001b[0m\u001b[0;36m1\u001b[0m\u001b[0;34m)\u001b[0m\u001b[0;34m]\u001b[0m\u001b[0;34m-\u001b[0m\u001b[0mmean_obs\u001b[0m\u001b[0;34m)\u001b[0m\u001b[0;34m/\u001b[0m\u001b[0mstd_obs\u001b[0m\u001b[0;34m\u001b[0m\u001b[0m\n\u001b[1;32m     48\u001b[0m                 \u001b[0mact\u001b[0m \u001b[0;34m=\u001b[0m \u001b[0mactions\u001b[0m\u001b[0;34m[\u001b[0m\u001b[0mbatch_size\u001b[0m\u001b[0;34m*\u001b[0m\u001b[0mj\u001b[0m\u001b[0;34m:\u001b[0m\u001b[0mbatch_size\u001b[0m\u001b[0;34m*\u001b[0m\u001b[0;34m(\u001b[0m\u001b[0mj\u001b[0m\u001b[0;34m+\u001b[0m\u001b[0;36m1\u001b[0m\u001b[0;34m)\u001b[0m\u001b[0;34m]\u001b[0m\u001b[0;34m\u001b[0m\u001b[0m\n\u001b[0;32m---> 49\u001b[0;31m                 \u001b[0mtrain_loss\u001b[0m\u001b[0;34m,\u001b[0m \u001b[0m_\u001b[0m \u001b[0;34m=\u001b[0m \u001b[0msess\u001b[0m\u001b[0;34m.\u001b[0m\u001b[0mrun\u001b[0m\u001b[0;34m(\u001b[0m\u001b[0;34m[\u001b[0m\u001b[0mloss\u001b[0m\u001b[0;34m,\u001b[0m\u001b[0mtrain_step\u001b[0m\u001b[0;34m]\u001b[0m\u001b[0;34m,\u001b[0m \u001b[0mfeed_dict\u001b[0m\u001b[0;34m=\u001b[0m\u001b[0;34m{\u001b[0m\u001b[0msy_obs\u001b[0m\u001b[0;34m:\u001b[0m \u001b[0mobs\u001b[0m\u001b[0;34m,\u001b[0m \u001b[0msy_actions\u001b[0m\u001b[0;34m:\u001b[0m \u001b[0mact\u001b[0m\u001b[0;34m}\u001b[0m\u001b[0;34m)\u001b[0m\u001b[0;34m\u001b[0m\u001b[0m\n\u001b[0m\u001b[1;32m     50\u001b[0m                 \u001b[0mtrain_losses\u001b[0m\u001b[0;34m.\u001b[0m\u001b[0mappend\u001b[0m\u001b[0;34m(\u001b[0m\u001b[0mtrain_loss\u001b[0m\u001b[0;34m)\u001b[0m\u001b[0;34m\u001b[0m\u001b[0m\n\u001b[1;32m     51\u001b[0m \u001b[0;34m\u001b[0m\u001b[0m\n",
      "\u001b[0;32m/usr/local/lib/python2.7/site-packages/tensorflow/python/client/session.pyc\u001b[0m in \u001b[0;36mrun\u001b[0;34m(self, fetches, feed_dict, options, run_metadata)\u001b[0m\n\u001b[1;32m    765\u001b[0m     \u001b[0;32mtry\u001b[0m\u001b[0;34m:\u001b[0m\u001b[0;34m\u001b[0m\u001b[0m\n\u001b[1;32m    766\u001b[0m       result = self._run(None, fetches, feed_dict, options_ptr,\n\u001b[0;32m--> 767\u001b[0;31m                          run_metadata_ptr)\n\u001b[0m\u001b[1;32m    768\u001b[0m       \u001b[0;32mif\u001b[0m \u001b[0mrun_metadata\u001b[0m\u001b[0;34m:\u001b[0m\u001b[0;34m\u001b[0m\u001b[0m\n\u001b[1;32m    769\u001b[0m         \u001b[0mproto_data\u001b[0m \u001b[0;34m=\u001b[0m \u001b[0mtf_session\u001b[0m\u001b[0;34m.\u001b[0m\u001b[0mTF_GetBuffer\u001b[0m\u001b[0;34m(\u001b[0m\u001b[0mrun_metadata_ptr\u001b[0m\u001b[0;34m)\u001b[0m\u001b[0;34m\u001b[0m\u001b[0m\n",
      "\u001b[0;32m/usr/local/lib/python2.7/site-packages/tensorflow/python/client/session.pyc\u001b[0m in \u001b[0;36m_run\u001b[0;34m(self, handle, fetches, feed_dict, options, run_metadata)\u001b[0m\n\u001b[1;32m    963\u001b[0m     \u001b[0;32mif\u001b[0m \u001b[0mfinal_fetches\u001b[0m \u001b[0;32mor\u001b[0m \u001b[0mfinal_targets\u001b[0m\u001b[0;34m:\u001b[0m\u001b[0;34m\u001b[0m\u001b[0m\n\u001b[1;32m    964\u001b[0m       results = self._do_run(handle, final_targets, final_fetches,\n\u001b[0;32m--> 965\u001b[0;31m                              feed_dict_string, options, run_metadata)\n\u001b[0m\u001b[1;32m    966\u001b[0m     \u001b[0;32melse\u001b[0m\u001b[0;34m:\u001b[0m\u001b[0;34m\u001b[0m\u001b[0m\n\u001b[1;32m    967\u001b[0m       \u001b[0mresults\u001b[0m \u001b[0;34m=\u001b[0m \u001b[0;34m[\u001b[0m\u001b[0;34m]\u001b[0m\u001b[0;34m\u001b[0m\u001b[0m\n",
      "\u001b[0;32m/usr/local/lib/python2.7/site-packages/tensorflow/python/client/session.pyc\u001b[0m in \u001b[0;36m_do_run\u001b[0;34m(self, handle, target_list, fetch_list, feed_dict, options, run_metadata)\u001b[0m\n\u001b[1;32m   1013\u001b[0m     \u001b[0;32mif\u001b[0m \u001b[0mhandle\u001b[0m \u001b[0;32mis\u001b[0m \u001b[0mNone\u001b[0m\u001b[0;34m:\u001b[0m\u001b[0;34m\u001b[0m\u001b[0m\n\u001b[1;32m   1014\u001b[0m       return self._do_call(_run_fn, self._session, feed_dict, fetch_list,\n\u001b[0;32m-> 1015\u001b[0;31m                            target_list, options, run_metadata)\n\u001b[0m\u001b[1;32m   1016\u001b[0m     \u001b[0;32melse\u001b[0m\u001b[0;34m:\u001b[0m\u001b[0;34m\u001b[0m\u001b[0m\n\u001b[1;32m   1017\u001b[0m       return self._do_call(_prun_fn, self._session, handle, feed_dict,\n",
      "\u001b[0;32m/usr/local/lib/python2.7/site-packages/tensorflow/python/client/session.pyc\u001b[0m in \u001b[0;36m_do_call\u001b[0;34m(self, fn, *args)\u001b[0m\n\u001b[1;32m   1020\u001b[0m   \u001b[0;32mdef\u001b[0m \u001b[0m_do_call\u001b[0m\u001b[0;34m(\u001b[0m\u001b[0mself\u001b[0m\u001b[0;34m,\u001b[0m \u001b[0mfn\u001b[0m\u001b[0;34m,\u001b[0m \u001b[0;34m*\u001b[0m\u001b[0margs\u001b[0m\u001b[0;34m)\u001b[0m\u001b[0;34m:\u001b[0m\u001b[0;34m\u001b[0m\u001b[0m\n\u001b[1;32m   1021\u001b[0m     \u001b[0;32mtry\u001b[0m\u001b[0;34m:\u001b[0m\u001b[0;34m\u001b[0m\u001b[0m\n\u001b[0;32m-> 1022\u001b[0;31m       \u001b[0;32mreturn\u001b[0m \u001b[0mfn\u001b[0m\u001b[0;34m(\u001b[0m\u001b[0;34m*\u001b[0m\u001b[0margs\u001b[0m\u001b[0;34m)\u001b[0m\u001b[0;34m\u001b[0m\u001b[0m\n\u001b[0m\u001b[1;32m   1023\u001b[0m     \u001b[0;32mexcept\u001b[0m \u001b[0merrors\u001b[0m\u001b[0;34m.\u001b[0m\u001b[0mOpError\u001b[0m \u001b[0;32mas\u001b[0m \u001b[0me\u001b[0m\u001b[0;34m:\u001b[0m\u001b[0;34m\u001b[0m\u001b[0m\n\u001b[1;32m   1024\u001b[0m       \u001b[0mmessage\u001b[0m \u001b[0;34m=\u001b[0m \u001b[0mcompat\u001b[0m\u001b[0;34m.\u001b[0m\u001b[0mas_text\u001b[0m\u001b[0;34m(\u001b[0m\u001b[0me\u001b[0m\u001b[0;34m.\u001b[0m\u001b[0mmessage\u001b[0m\u001b[0;34m)\u001b[0m\u001b[0;34m\u001b[0m\u001b[0m\n",
      "\u001b[0;32m/usr/local/lib/python2.7/site-packages/tensorflow/python/client/session.pyc\u001b[0m in \u001b[0;36m_run_fn\u001b[0;34m(session, feed_dict, fetch_list, target_list, options, run_metadata)\u001b[0m\n\u001b[1;32m   1002\u001b[0m         return tf_session.TF_Run(session, options,\n\u001b[1;32m   1003\u001b[0m                                  \u001b[0mfeed_dict\u001b[0m\u001b[0;34m,\u001b[0m \u001b[0mfetch_list\u001b[0m\u001b[0;34m,\u001b[0m \u001b[0mtarget_list\u001b[0m\u001b[0;34m,\u001b[0m\u001b[0;34m\u001b[0m\u001b[0m\n\u001b[0;32m-> 1004\u001b[0;31m                                  status, run_metadata)\n\u001b[0m\u001b[1;32m   1005\u001b[0m \u001b[0;34m\u001b[0m\u001b[0m\n\u001b[1;32m   1006\u001b[0m     \u001b[0;32mdef\u001b[0m \u001b[0m_prun_fn\u001b[0m\u001b[0;34m(\u001b[0m\u001b[0msession\u001b[0m\u001b[0;34m,\u001b[0m \u001b[0mhandle\u001b[0m\u001b[0;34m,\u001b[0m \u001b[0mfeed_dict\u001b[0m\u001b[0;34m,\u001b[0m \u001b[0mfetch_list\u001b[0m\u001b[0;34m)\u001b[0m\u001b[0;34m:\u001b[0m\u001b[0;34m\u001b[0m\u001b[0m\n",
      "\u001b[0;31mKeyboardInterrupt\u001b[0m: "
     ]
    }
   ],
   "source": [
    "train_losses, returns, test_returns = behavioral_cloning('Hopper-v1')"
   ]
  },
  {
   "cell_type": "code",
   "execution_count": 26,
   "metadata": {
    "collapsed": false
   },
   "outputs": [
    {
     "data": {
      "image/png": "[encoded data removed]",
      "text/plain": [
       "<matplotlib.figure.Figure at 0x11537df10>"
      ]
     },
     "metadata": {},
     "output_type": "display_data"
    }
   ],
   "source": [
    "plt.plot(range(10000),train_losses)\n",
    "plt.yscale('log')\n",
    "plt.show()"
   ]
  },
  {
   "cell_type": "code",
   "execution_count": 27,
   "metadata": {
    "collapsed": false
   },
   "outputs": [
    {
     "data": {
      "text/plain": [
       "3777.7417064410752"
      ]
     },
     "execution_count": 27,
     "metadata": {},
     "output_type": "execute_result"
    }
   ],
   "source": [
    "np.average(returns)"
   ]
  },
  {
   "cell_type": "code",
   "execution_count": 28,
   "metadata": {
    "collapsed": false
   },
   "outputs": [
    {
     "data": {
      "text/plain": [
       "3779.6032157000509"
      ]
     },
     "execution_count": 28,
     "metadata": {},
     "output_type": "execute_result"
    }
   ],
   "source": [
    "np.average(test_returns)"
   ]
  },
  {
   "cell_type": "code",
   "execution_count": 70,
   "metadata": {
    "collapsed": false,
    "scrolled": true
   },
   "outputs": [
    {
     "name": "stderr",
     "output_type": "stream",
     "text": [
      "INFO:gym.envs.registration:Making new env: Reacher-v1\n",
      "[2017-05-26 02:14:36,465] Making new env: Reacher-v1\n",
      "INFO:gym.envs.registration:Making new env: Reacher-v1\n",
      "[2017-05-26 02:14:36,492] Making new env: Reacher-v1\n"
     ]
    },
    {
     "name": "stdout",
     "output_type": "stream",
     "text": [
      "Max steps per rollout is 50\n",
      "Expert rollout number 0\n",
      "Expert rollout number 10\n",
      "Expert rollout number 20\n",
      "Expert rollout number 30\n",
      "Expert rollout number 40\n",
      "Expert rollout number 50\n",
      "Expert rollout number 60\n",
      "Expert rollout number 70\n",
      "Expert rollout number 80\n",
      "Expert rollout number 90\n",
      "Epoch number 0\n",
      "Epoch number 10\n",
      "Epoch number 20\n",
      "Epoch number 30\n",
      "Epoch number 40\n",
      "Epoch number 50\n",
      "Epoch number 60\n",
      "Epoch number 70\n",
      "Epoch number 80\n",
      "Epoch number 90\n",
      "Epoch number 100\n",
      "Epoch number 110\n",
      "Epoch number 120\n",
      "Epoch number 130\n",
      "Epoch number 140\n",
      "Epoch number 150\n",
      "Epoch number 160\n",
      "Epoch number 170\n",
      "Epoch number 180\n",
      "Epoch number 190\n"
     ]
    }
   ],
   "source": [
    "r_train_losses, r_returns, r_test_returns = behavioral_cloning('Reacher-v1')"
   ]
  },
  {
   "cell_type": "code",
   "execution_count": 71,
   "metadata": {
    "collapsed": false
   },
   "outputs": [
    {
     "data": {
      "text/plain": [
       "1.5273179039476832"
      ]
     },
     "execution_count": 71,
     "metadata": {},
     "output_type": "execute_result"
    }
   ],
   "source": [
    "np.std(r_returns)"
   ]
  },
  {
   "cell_type": "code",
   "execution_count": 72,
   "metadata": {
    "collapsed": false
   },
   "outputs": [
    {
     "data": {
      "text/plain": [
       "-3.4020531079797598"
      ]
     },
     "execution_count": 72,
     "metadata": {},
     "output_type": "execute_result"
    }
   ],
   "source": [
    "np.average(r_test_returns)"
   ]
  },
  {
   "cell_type": "code",
   "execution_count": 73,
   "metadata": {
    "collapsed": false
   },
   "outputs": [
    {
     "data": {
      "image/png": "[encoded data removed]",
      "text/plain": [
       "<matplotlib.figure.Figure at 0x11428bc10>"
      ]
     },
     "metadata": {},
     "output_type": "display_data"
    }
   ],
   "source": [
    "plt.plot(range(len(r_train_losses)),r_train_losses)\n",
    "plt.yscale('log')\n",
    "plt.show()"
   ]
  },
  {
   "cell_type": "code",
   "execution_count": 79,
   "metadata": {
    "collapsed": false
   },
   "outputs": [
    {
     "name": "stderr",
     "output_type": "stream",
     "text": [
      "INFO:gym.envs.registration:Making new env: Humanoid-v1\n",
      "[2017-05-26 02:27:54,995] Making new env: Humanoid-v1\n",
      "INFO:gym.envs.registration:Making new env: Humanoid-v1\n",
      "[2017-05-26 02:27:55,036] Making new env: Humanoid-v1\n"
     ]
    },
    {
     "name": "stdout",
     "output_type": "stream",
     "text": [
      "Max steps per rollout is 1000\n",
      "Expert rollout number 0\n",
      "Expert rollout number 10\n",
      "Expert rollout number 20\n",
      "Expert rollout number 30\n",
      "Expert rollout number 40\n",
      "Expert rollout number 50\n",
      "Expert rollout number 60\n",
      "Expert rollout number 70\n",
      "Expert rollout number 80\n",
      "Expert rollout number 90\n",
      "Epoch number 0\n",
      "Epoch number 10\n",
      "Epoch number 20\n",
      "Epoch number 30\n",
      "Epoch number 40\n",
      "Epoch number 50\n",
      "Epoch number 60\n",
      "Epoch number 70\n",
      "Epoch number 80\n",
      "Epoch number 90\n",
      "Epoch number 100\n",
      "Epoch number 110\n",
      "Epoch number 120\n",
      "Epoch number 130\n",
      "Epoch number 140\n",
      "Epoch number 150\n",
      "Epoch number 160\n",
      "Epoch number 170\n",
      "Epoch number 180\n",
      "Epoch number 190\n"
     ]
    }
   ],
   "source": [
    "h_train_losses, h_returns, h_test_returns = behavioral_cloning('Humanoid-v1')"
   ]
  },
  {
   "cell_type": "code",
   "execution_count": 75,
   "metadata": {
    "collapsed": false
   },
   "outputs": [
    {
     "data": {
      "text/plain": [
       "10311.402561397663"
      ]
     },
     "execution_count": 75,
     "metadata": {},
     "output_type": "execute_result"
    }
   ],
   "source": [
    "np.average(h_returns)"
   ]
  },
  {
   "cell_type": "code",
   "execution_count": 76,
   "metadata": {
    "collapsed": false
   },
   "outputs": [
    {
     "data": {
      "text/plain": [
       "10393.615119916698"
      ]
     },
     "execution_count": 76,
     "metadata": {},
     "output_type": "execute_result"
    }
   ],
   "source": [
    "np.average(h_test_returns)"
   ]
  },
  {
   "cell_type": "code",
   "execution_count": 77,
   "metadata": {
    "collapsed": false
   },
   "outputs": [
    {
     "data": {
      "image/png": "[encoded data removed]",
      "text/plain": [
       "<matplotlib.figure.Figure at 0x1110e7810>"
      ]
     },
     "metadata": {},
     "output_type": "display_data"
    }
   ],
   "source": [
    "plt.plot(range(len(h_train_losses)),h_train_losses)\n",
    "plt.yscale('log')\n",
    "plt.show()"
   ]
  },
  {
   "cell_type": "code",
   "execution_count": 13,
   "metadata": {
    "collapsed": false
   },
   "outputs": [
    {
     "data": {
      "image/png": "[encoded data removed]",
      "text/plain": [
       "<matplotlib.figure.Figure at 0x11408b150>"
      ]
     },
     "metadata": {},
     "output_type": "display_data"
    }
   ],
   "source": [
    "plt.plot(range(len(d_train_losses)),d_train_losses)\n",
    "plt.yscale('log')\n",
    "plt.show()"
   ]
  },
  {
   "cell_type": "code",
   "execution_count": 14,
   "metadata": {
    "collapsed": false
   },
   "outputs": [
    {
     "name": "stderr",
     "output_type": "stream",
     "text": [
      "INFO:gym.envs.registration:Making new env: Hopper-v1\n",
      "[2017-05-26 03:21:03,465] Making new env: Hopper-v1\n",
      "INFO:gym.envs.registration:Making new env: Hopper-v1\n",
      "[2017-05-26 03:21:03,501] Making new env: Hopper-v1\n"
     ]
    },
    {
     "name": "stdout",
     "output_type": "stream",
     "text": [
      "Max steps per rollout is 1000\n",
      "Expert rollout number 0\n",
      "Expert rollout number 10\n",
      "Expert rollout number 20\n",
      "Expert rollout number 30\n",
      "Expert rollout number 40\n",
      "Expert rollout number 50\n",
      "Expert rollout number 60\n",
      "Expert rollout number 70\n",
      "Expert rollout number 80\n",
      "Expert rollout number 90\n",
      "Loop number 0\n"
     ]
    }
   ],
   "source": [
    "d_train_losses, d_returns, d_test_returns = dagger('Hopper-v1')"
   ]
  },
  {
   "cell_type": "code",
   "execution_count": 15,
   "metadata": {
    "collapsed": false
   },
   "outputs": [
    {
     "data": {
      "text/plain": [
       "3782.6147345435224"
      ]
     },
     "execution_count": 15,
     "metadata": {},
     "output_type": "execute_result"
    }
   ],
   "source": [
    "np.average(d_test_returns)"
   ]
  },
  {
   "cell_type": "code",
   "execution_count": 16,
   "metadata": {
    "collapsed": false
   },
   "outputs": [
    {
     "data": {
      "text/plain": [
       "3779.0729742877866"
      ]
     },
     "execution_count": 16,
     "metadata": {},
     "output_type": "execute_result"
    }
   ],
   "source": [
    "np.average(d_returns)"
   ]
  },
  {
   "cell_type": "code",
   "execution_count": null,
   "metadata": {
    "collapsed": true
   },
   "outputs": [],
   "source": []
  }
 ],
 "metadata": {
  "kernelspec": {
   "display_name": "Python 2",
   "language": "python",
   "name": "python2"
  },
  "language_info": {
   "codemirror_mode": {
    "name": "ipython",
    "version": 2
   },
   "file_extension": ".py",
   "mimetype": "text/x-python",
   "name": "python",
   "nbconvert_exporter": "python",
   "pygments_lexer": "ipython2",
   "version": "2.7.10"
  }
 },
 "nbformat": 4,
 "nbformat_minor": 0
}
